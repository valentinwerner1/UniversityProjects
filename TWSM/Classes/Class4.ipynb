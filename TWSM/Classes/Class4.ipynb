{
 "cells": [
  {
   "cell_type": "markdown",
   "metadata": {
    "colab_type": "text",
    "id": "view-in-github"
   },
   "source": [
    "<a href=\"https://colab.research.google.com/github/markusloecher/DataScience2021/blob/main/TWSM/Class4.ipynb\" target=\"_parent\"><img src=\"https://colab.research.google.com/assets/colab-badge.svg\" alt=\"Open In Colab\"/></a>"
   ]
  },
  {
   "cell_type": "markdown",
   "metadata": {
    "id": "L0HoGesYBC1E"
   },
   "source": [
    "### Libraries"
   ]
  },
  {
   "cell_type": "code",
   "execution_count": 1,
   "metadata": {
    "id": "4k1Km8WrvyWM"
   },
   "outputs": [],
   "source": [
    "#from google.colab import drive\n",
    "#drive.mount('/content/drive')\n",
    "#TWSM_path = \"/content/drive/MyDrive/teaching/TWSM/WorkInClass/\"\n",
    "\n",
    "#from TWSM import *\n",
    "from tensorflow import keras\n",
    "#from tensorflow.keras import layers\n"
   ]
  },
  {
   "cell_type": "code",
   "execution_count": null,
   "metadata": {
    "colab": {
     "base_uri": "https://localhost:8080/"
    },
    "id": "9AczlUWfwpd6",
    "outputId": "7bc8b3ab-5e1a-4373-e845-2e22fb27c583"
   },
   "outputs": [
    {
     "name": "stdout",
     "output_type": "stream",
     "text": [
      "Mounted at /content/drive\n"
     ]
    }
   ],
   "source": [
    "#from google.colab import drive\n",
    "#drive.mount('/content/drive')"
   ]
  },
  {
   "cell_type": "markdown",
   "metadata": {
    "id": "36qQQ1GgBc5b"
   },
   "source": [
    "### SVD\n",
    "\n",
    "#### Tasks\n",
    "\n",
    "1. Compute the SVD for our movie rankings and find the first two eigenvectors for movies and users.\n",
    "2. Compute the SVD for the MNIST data\n",
    "3. Reconstruct the digits with a \"truncated SVD that captures 80% of the variance\"\n"
   ]
  },
  {
   "cell_type": "markdown",
   "metadata": {
    "id": "_Xp-PjqRB1x9"
   },
   "source": [
    "**Minimal Example for the SVD**\n",
    "\n",
    "Running this example first prints the defined 3×2 matrix, then the 3×3 U matrix, 2 element Sigma vector, and 2×2 V^T matrix elements calculated from the decomposition."
   ]
  },
  {
   "cell_type": "code",
   "execution_count": 2,
   "metadata": {},
   "outputs": [],
   "source": [
    "# Singular-value decomposition\n",
    "import numpy as np\n",
    "from scipy.linalg import svd\n",
    "import pandas as pd\n",
    "import matplotlib.pyplot as plt\n",
    "import seaborn as sns"
   ]
  },
  {
   "cell_type": "code",
   "execution_count": 2,
   "metadata": {
    "colab": {
     "base_uri": "https://localhost:8080/"
    },
    "id": "SE2u01F8BvuS",
    "outputId": "7d46fa5c-e08e-4b8f-a334-807854035c2f"
   },
   "outputs": [
    {
     "name": "stdout",
     "output_type": "stream",
     "text": [
      "[[1 2]\n",
      " [3 4]\n",
      " [5 6]]\n",
      "[[-0.2298477   0.88346102  0.40824829]\n",
      " [-0.52474482  0.24078249 -0.81649658]\n",
      " [-0.81964194 -0.40189603  0.40824829]]\n",
      "[9.52551809 0.51430058]\n",
      "[[-0.61962948 -0.78489445]\n",
      " [-0.78489445  0.61962948]]\n"
     ]
    }
   ],
   "source": [
    "# Singular-value decomposition\n",
    "import numpy as np\n",
    "from scipy.linalg import svd\n",
    "# define a matrix\n",
    "A = np.array([[1, 2], [3, 4], [5, 6]])\n",
    "print(A)\n",
    "# SVD\n",
    "U, s, VT = svd(A)\n",
    "print(U)\n",
    "print(s)\n",
    "print(VT)"
   ]
  },
  {
   "cell_type": "code",
   "execution_count": 4,
   "metadata": {},
   "outputs": [],
   "source": [
    "classreviews = pd.read_csv(r\"C:\\Users\\svawe\\Downloads\\Movie Rankings BIPM, 2022 - Sheet1.csv\")"
   ]
  },
  {
   "cell_type": "code",
   "execution_count": 107,
   "metadata": {},
   "outputs": [],
   "source": [
    "reviews2 = classreviews.set_index(\"First Name\").drop(columns = [\"Last Name\"])\n",
    "\n",
    "#Collect movies that have more than 6 missing values\n",
    "movies = []\n",
    "for i in reviews2.columns:\n",
    "    if reviews2[i].isna().sum() > 6: movies.append(i)\n",
    "#Drop these movies\n",
    "reviews2 = reviews2.drop(columns = movies)\n",
    "\n",
    "#Collect people to drop\n",
    "people = []\n",
    "for i in reviews2.index:\n",
    "    if reviews2.loc[i].isna().sum() > 3: people.append(i)\n",
    "\n",
    "#Drop people that have more than 2 missing values\n",
    "reviews3 = reviews2.drop(index = people)\n",
    "\n",
    "#fill with nan with mean\n",
    "processed = reviews3.apply(lambda x: x.fillna(x.mean()),axis=0)"
   ]
  },
  {
   "cell_type": "code",
   "execution_count": 76,
   "metadata": {},
   "outputs": [
    {
     "data": {
      "text/html": [
       "<div>\n",
       "<style scoped>\n",
       "    .dataframe tbody tr th:only-of-type {\n",
       "        vertical-align: middle;\n",
       "    }\n",
       "\n",
       "    .dataframe tbody tr th {\n",
       "        vertical-align: top;\n",
       "    }\n",
       "\n",
       "    .dataframe thead th {\n",
       "        text-align: right;\n",
       "    }\n",
       "</style>\n",
       "<table border=\"1\" class=\"dataframe\">\n",
       "  <thead>\n",
       "    <tr style=\"text-align: right;\">\n",
       "      <th></th>\n",
       "      <th>Princess Diaries</th>\n",
       "      <th>Dumb Dumber</th>\n",
       "      <th>Color Purple</th>\n",
       "      <th>Brave Heart</th>\n",
       "      <th>Narnia</th>\n",
       "      <th>Sense/Sensibility</th>\n",
       "      <th>Django Unchained</th>\n",
       "      <th>Shrek</th>\n",
       "      <th>SE7EN</th>\n",
       "      <th>The Intern</th>\n",
       "      <th>John Wick</th>\n",
       "      <th>Crazy Rich Asians</th>\n",
       "      <th>Gone Girl</th>\n",
       "      <th>Prisoners</th>\n",
       "      <th>Nightcrawler</th>\n",
       "    </tr>\n",
       "    <tr>\n",
       "      <th>First Name</th>\n",
       "      <th></th>\n",
       "      <th></th>\n",
       "      <th></th>\n",
       "      <th></th>\n",
       "      <th></th>\n",
       "      <th></th>\n",
       "      <th></th>\n",
       "      <th></th>\n",
       "      <th></th>\n",
       "      <th></th>\n",
       "      <th></th>\n",
       "      <th></th>\n",
       "      <th></th>\n",
       "      <th></th>\n",
       "      <th></th>\n",
       "    </tr>\n",
       "  </thead>\n",
       "  <tbody>\n",
       "    <tr>\n",
       "      <th>Jafar</th>\n",
       "      <td>3.0</td>\n",
       "      <td>2.0</td>\n",
       "      <td>4.0</td>\n",
       "      <td>2.000000</td>\n",
       "      <td>2.0</td>\n",
       "      <td>3.000000</td>\n",
       "      <td>4.000000</td>\n",
       "      <td>4.0</td>\n",
       "      <td>4.0</td>\n",
       "      <td>5.0</td>\n",
       "      <td>5.0</td>\n",
       "      <td>5.0</td>\n",
       "      <td>4.0</td>\n",
       "      <td>4.0</td>\n",
       "      <td>3.0</td>\n",
       "    </tr>\n",
       "    <tr>\n",
       "      <th>Moritz Kai Phillip</th>\n",
       "      <td>2.0</td>\n",
       "      <td>3.0</td>\n",
       "      <td>4.0</td>\n",
       "      <td>2.000000</td>\n",
       "      <td>3.0</td>\n",
       "      <td>3.000000</td>\n",
       "      <td>5.000000</td>\n",
       "      <td>3.0</td>\n",
       "      <td>5.0</td>\n",
       "      <td>2.0</td>\n",
       "      <td>2.0</td>\n",
       "      <td>1.0</td>\n",
       "      <td>3.0</td>\n",
       "      <td>4.0</td>\n",
       "      <td>5.0</td>\n",
       "    </tr>\n",
       "    <tr>\n",
       "      <th>Felix</th>\n",
       "      <td>2.0</td>\n",
       "      <td>2.0</td>\n",
       "      <td>3.0</td>\n",
       "      <td>3.000000</td>\n",
       "      <td>3.0</td>\n",
       "      <td>2.000000</td>\n",
       "      <td>5.000000</td>\n",
       "      <td>2.0</td>\n",
       "      <td>5.0</td>\n",
       "      <td>3.0</td>\n",
       "      <td>4.0</td>\n",
       "      <td>2.0</td>\n",
       "      <td>4.0</td>\n",
       "      <td>3.0</td>\n",
       "      <td>4.0</td>\n",
       "    </tr>\n",
       "    <tr>\n",
       "      <th>Rukniya</th>\n",
       "      <td>4.0</td>\n",
       "      <td>3.0</td>\n",
       "      <td>4.0</td>\n",
       "      <td>3.000000</td>\n",
       "      <td>3.0</td>\n",
       "      <td>3.000000</td>\n",
       "      <td>5.000000</td>\n",
       "      <td>5.0</td>\n",
       "      <td>3.0</td>\n",
       "      <td>4.0</td>\n",
       "      <td>2.0</td>\n",
       "      <td>4.0</td>\n",
       "      <td>4.0</td>\n",
       "      <td>4.0</td>\n",
       "      <td>3.0</td>\n",
       "    </tr>\n",
       "    <tr>\n",
       "      <th>Lilit</th>\n",
       "      <td>3.0</td>\n",
       "      <td>2.0</td>\n",
       "      <td>4.0</td>\n",
       "      <td>2.000000</td>\n",
       "      <td>2.0</td>\n",
       "      <td>2.000000</td>\n",
       "      <td>4.000000</td>\n",
       "      <td>5.0</td>\n",
       "      <td>5.0</td>\n",
       "      <td>5.0</td>\n",
       "      <td>3.0</td>\n",
       "      <td>4.0</td>\n",
       "      <td>5.0</td>\n",
       "      <td>5.0</td>\n",
       "      <td>3.0</td>\n",
       "    </tr>\n",
       "    <tr>\n",
       "      <th>Philipp</th>\n",
       "      <td>3.0</td>\n",
       "      <td>1.0</td>\n",
       "      <td>4.0</td>\n",
       "      <td>1.000000</td>\n",
       "      <td>4.0</td>\n",
       "      <td>2.000000</td>\n",
       "      <td>5.000000</td>\n",
       "      <td>3.0</td>\n",
       "      <td>5.0</td>\n",
       "      <td>5.0</td>\n",
       "      <td>3.0</td>\n",
       "      <td>4.0</td>\n",
       "      <td>5.0</td>\n",
       "      <td>4.0</td>\n",
       "      <td>5.0</td>\n",
       "    </tr>\n",
       "    <tr>\n",
       "      <th>Minh Anh</th>\n",
       "      <td>3.0</td>\n",
       "      <td>2.0</td>\n",
       "      <td>3.3</td>\n",
       "      <td>2.818182</td>\n",
       "      <td>4.0</td>\n",
       "      <td>3.000000</td>\n",
       "      <td>4.545455</td>\n",
       "      <td>5.0</td>\n",
       "      <td>2.0</td>\n",
       "      <td>4.0</td>\n",
       "      <td>3.0</td>\n",
       "      <td>5.0</td>\n",
       "      <td>5.0</td>\n",
       "      <td>3.0</td>\n",
       "      <td>3.0</td>\n",
       "    </tr>\n",
       "    <tr>\n",
       "      <th>Clemens</th>\n",
       "      <td>1.0</td>\n",
       "      <td>1.0</td>\n",
       "      <td>3.0</td>\n",
       "      <td>3.000000</td>\n",
       "      <td>3.0</td>\n",
       "      <td>2.000000</td>\n",
       "      <td>4.000000</td>\n",
       "      <td>3.0</td>\n",
       "      <td>4.0</td>\n",
       "      <td>1.0</td>\n",
       "      <td>4.0</td>\n",
       "      <td>1.0</td>\n",
       "      <td>1.0</td>\n",
       "      <td>3.0</td>\n",
       "      <td>3.0</td>\n",
       "    </tr>\n",
       "    <tr>\n",
       "      <th>Ngoc Huynh Anh</th>\n",
       "      <td>1.0</td>\n",
       "      <td>2.0</td>\n",
       "      <td>2.0</td>\n",
       "      <td>2.000000</td>\n",
       "      <td>2.0</td>\n",
       "      <td>2.000000</td>\n",
       "      <td>3.000000</td>\n",
       "      <td>4.0</td>\n",
       "      <td>4.0</td>\n",
       "      <td>2.0</td>\n",
       "      <td>2.0</td>\n",
       "      <td>3.0</td>\n",
       "      <td>3.0</td>\n",
       "      <td>5.0</td>\n",
       "      <td>5.0</td>\n",
       "    </tr>\n",
       "    <tr>\n",
       "      <th>Jonas Alois</th>\n",
       "      <td>1.0</td>\n",
       "      <td>2.0</td>\n",
       "      <td>2.0</td>\n",
       "      <td>4.000000</td>\n",
       "      <td>3.0</td>\n",
       "      <td>1.000000</td>\n",
       "      <td>5.000000</td>\n",
       "      <td>2.0</td>\n",
       "      <td>4.0</td>\n",
       "      <td>3.0</td>\n",
       "      <td>4.0</td>\n",
       "      <td>3.0</td>\n",
       "      <td>3.0</td>\n",
       "      <td>5.0</td>\n",
       "      <td>4.0</td>\n",
       "    </tr>\n",
       "    <tr>\n",
       "      <th>Eric</th>\n",
       "      <td>1.0</td>\n",
       "      <td>1.0</td>\n",
       "      <td>3.0</td>\n",
       "      <td>4.000000</td>\n",
       "      <td>2.0</td>\n",
       "      <td>2.000000</td>\n",
       "      <td>5.000000</td>\n",
       "      <td>5.0</td>\n",
       "      <td>3.0</td>\n",
       "      <td>3.0</td>\n",
       "      <td>3.0</td>\n",
       "      <td>3.0</td>\n",
       "      <td>3.0</td>\n",
       "      <td>5.0</td>\n",
       "      <td>4.0</td>\n",
       "    </tr>\n",
       "    <tr>\n",
       "      <th>Thu</th>\n",
       "      <td>2.0</td>\n",
       "      <td>4.0</td>\n",
       "      <td>3.3</td>\n",
       "      <td>5.000000</td>\n",
       "      <td>4.0</td>\n",
       "      <td>2.272727</td>\n",
       "      <td>5.000000</td>\n",
       "      <td>4.0</td>\n",
       "      <td>4.0</td>\n",
       "      <td>5.0</td>\n",
       "      <td>3.0</td>\n",
       "      <td>2.0</td>\n",
       "      <td>4.0</td>\n",
       "      <td>4.0</td>\n",
       "      <td>4.0</td>\n",
       "    </tr>\n",
       "  </tbody>\n",
       "</table>\n",
       "</div>"
      ],
      "text/plain": [
       "                    Princess Diaries  Dumb Dumber  Color Purple  Brave Heart  \\\n",
       "First Name                                                                     \n",
       "Jafar                            3.0          2.0           4.0     2.000000   \n",
       "Moritz Kai Phillip               2.0          3.0           4.0     2.000000   \n",
       "Felix                            2.0          2.0           3.0     3.000000   \n",
       "Rukniya                          4.0          3.0           4.0     3.000000   \n",
       "Lilit                            3.0          2.0           4.0     2.000000   \n",
       "Philipp                          3.0          1.0           4.0     1.000000   \n",
       "Minh Anh                         3.0          2.0           3.3     2.818182   \n",
       "Clemens                          1.0          1.0           3.0     3.000000   \n",
       "Ngoc Huynh Anh                   1.0          2.0           2.0     2.000000   \n",
       "Jonas Alois                      1.0          2.0           2.0     4.000000   \n",
       "Eric                             1.0          1.0           3.0     4.000000   \n",
       "Thu                              2.0          4.0           3.3     5.000000   \n",
       "\n",
       "                    Narnia  Sense/Sensibility  Django Unchained  Shrek  SE7EN  \\\n",
       "First Name                                                                      \n",
       "Jafar                  2.0           3.000000          4.000000    4.0    4.0   \n",
       "Moritz Kai Phillip     3.0           3.000000          5.000000    3.0    5.0   \n",
       "Felix                  3.0           2.000000          5.000000    2.0    5.0   \n",
       "Rukniya                3.0           3.000000          5.000000    5.0    3.0   \n",
       "Lilit                  2.0           2.000000          4.000000    5.0    5.0   \n",
       "Philipp                4.0           2.000000          5.000000    3.0    5.0   \n",
       "Minh Anh               4.0           3.000000          4.545455    5.0    2.0   \n",
       "Clemens                3.0           2.000000          4.000000    3.0    4.0   \n",
       "Ngoc Huynh Anh         2.0           2.000000          3.000000    4.0    4.0   \n",
       "Jonas Alois            3.0           1.000000          5.000000    2.0    4.0   \n",
       "Eric                   2.0           2.000000          5.000000    5.0    3.0   \n",
       "Thu                    4.0           2.272727          5.000000    4.0    4.0   \n",
       "\n",
       "                    The Intern  John Wick  Crazy Rich Asians  Gone Girl  \\\n",
       "First Name                                                                \n",
       "Jafar                      5.0        5.0                5.0        4.0   \n",
       "Moritz Kai Phillip         2.0        2.0                1.0        3.0   \n",
       "Felix                      3.0        4.0                2.0        4.0   \n",
       "Rukniya                    4.0        2.0                4.0        4.0   \n",
       "Lilit                      5.0        3.0                4.0        5.0   \n",
       "Philipp                    5.0        3.0                4.0        5.0   \n",
       "Minh Anh                   4.0        3.0                5.0        5.0   \n",
       "Clemens                    1.0        4.0                1.0        1.0   \n",
       "Ngoc Huynh Anh             2.0        2.0                3.0        3.0   \n",
       "Jonas Alois                3.0        4.0                3.0        3.0   \n",
       "Eric                       3.0        3.0                3.0        3.0   \n",
       "Thu                        5.0        3.0                2.0        4.0   \n",
       "\n",
       "                    Prisoners  Nightcrawler  \n",
       "First Name                                   \n",
       "Jafar                     4.0           3.0  \n",
       "Moritz Kai Phillip        4.0           5.0  \n",
       "Felix                     3.0           4.0  \n",
       "Rukniya                   4.0           3.0  \n",
       "Lilit                     5.0           3.0  \n",
       "Philipp                   4.0           5.0  \n",
       "Minh Anh                  3.0           3.0  \n",
       "Clemens                   3.0           3.0  \n",
       "Ngoc Huynh Anh            5.0           5.0  \n",
       "Jonas Alois               5.0           4.0  \n",
       "Eric                      5.0           4.0  \n",
       "Thu                       4.0           4.0  "
      ]
     },
     "execution_count": 76,
     "metadata": {},
     "output_type": "execute_result"
    }
   ],
   "source": [
    "processed"
   ]
  },
  {
   "cell_type": "code",
   "execution_count": 129,
   "metadata": {},
   "outputs": [
    {
     "data": {
      "image/png": "[encoded data removed]",
      "text/plain": [
       "<Figure size 432x288 with 1 Axes>"
      ]
     },
     "metadata": {
      "needs_background": "light"
     },
     "output_type": "display_data"
    }
   ],
   "source": [
    "U, s, VT = svd(processed)\n",
    "\n",
    "X = []\n",
    "y = []\n",
    "for i in U:\n",
    "    X.append(i[0])\n",
    "    y.append(i[1])\n",
    "\n",
    "for i in range(len(X)): \n",
    "    plt.plot(X[i], y[i], \"bo\")\n",
    "    plt.text(X[i] * (1 + 0.01), y[i] * (1 + 0.01) , processed.index[i], fontsize=8)"
   ]
  },
  {
   "cell_type": "markdown",
   "metadata": {
    "id": "XLLfaHjrCMtY"
   },
   "source": [
    "**Reconstruct Matrix from SVD**\n",
    "\n",
    "The U, s, and V elements returned from the svd() cannot be multiplied directly.\n",
    "\n",
    "The s vector must be converted into a diagonal matrix using the diag() function. By default, this function will create a square matrix that is n x n, relative to our original matrix. This causes a problem as the size of the matrices do not fit the rules of matrix multiplication, where the number of columns in a matrix must match the number of rows in the subsequent matrix.\n",
    "\n",
    "After creating the square Sigma diagonal matrix, the sizes of the matrices are relative to the original m x n matrix that we are decomposing, as follows:\n",
    "\n",
    "$U (m x m) . Sigma (n x n) . V^T (n x n)$\n",
    "\n",
    "Where, in fact, we require:\n",
    "\n",
    "$U (m x m) . Sigma (m x n) . V^T (n x n)$\n",
    "\n",
    "We can achieve this by creating a new Sigma matrix of all zero values that is m x n (e.g. more rows) and populate the first n x n part of the matrix with the square diagonal matrix calculated via diag().\n",
    "\n"
   ]
  },
  {
   "cell_type": "code",
   "execution_count": null,
   "metadata": {
    "colab": {
     "base_uri": "https://localhost:8080/"
    },
    "id": "dwy_PbDsCNaP",
    "outputId": "db5a832f-862c-4971-da20-8f3665ee4dba"
   },
   "outputs": [
    {
     "name": "stdout",
     "output_type": "stream",
     "text": [
      "[[1. 2.]\n",
      " [3. 4.]\n",
      " [5. 6.]]\n"
     ]
    }
   ],
   "source": [
    "# Reconstruct SVD\n",
    "\n",
    "# create m x n Sigma matrix\n",
    "Sigma = np.zeros((A.shape[0], A.shape[1]))\n",
    "# populate Sigma with n x n diagonal matrix\n",
    "Sigma[:A.shape[1], :A.shape[1]] = np.diag(s)\n",
    "# reconstruct matrix\n",
    "B = U.dot(Sigma.dot(VT))\n",
    "print(B)"
   ]
  },
  {
   "cell_type": "markdown",
   "metadata": {
    "id": "ZqaXAMPVDmrL"
   },
   "source": [
    "The above complication with the Sigma diagonal only exists with the case where m and n are not equal. The diagonal matrix can be used directly when reconstructing a square matrix, as follows.\n",
    "\n",
    "### Truncated SVD\n",
    "\n",
    "Data with a large number of features, such as more features (columns) than observations (rows) may be reduced to a smaller subset of features that are most relevant to the prediction problem.\n",
    "\n",
    "The result is a matrix with a lower rank that is said to approximate the original matrix.\n",
    "\n",
    "To do this we can perform an SVD operation on the original data and select the top k largest singular values in Sigma. These columns can be selected from Sigma and the rows selected from $V^T$.\n",
    "\n",
    "An approximate B of the original vector A can then be reconstructed.\n",
    "\n",
    "$$B = U . Sigma_k . V^T_k$$\n",
    "\n",
    "In natural language processing, this approach can be used on matrices of word occurrences or word frequencies in documents and is called **Latent Semantic Analysis** or **Latent Semantic Indexing**.\n",
    "\n"
   ]
  },
  {
   "cell_type": "markdown",
   "metadata": {
    "id": "YhEZsOc7BVqY"
   },
   "source": [
    "## Data"
   ]
  },
  {
   "cell_type": "markdown",
   "metadata": {
    "id": "U8UfjdbKBX51"
   },
   "source": [
    "#### MNIST\n"
   ]
  },
  {
   "cell_type": "code",
   "execution_count": 3,
   "metadata": {
    "id": "ttuqcxffBZ9M"
   },
   "outputs": [],
   "source": [
    "(x_train, y_train), (x_test, y_test) = keras.datasets.mnist.load_data()"
   ]
  },
  {
   "cell_type": "code",
   "execution_count": 4,
   "metadata": {
    "id": "V_BXXkX3EVbY"
   },
   "outputs": [],
   "source": [
    "assert x_train.shape == (60000, 28, 28)\n",
    "assert x_test.shape == (10000, 28, 28)\n",
    "assert y_train.shape == (60000,)\n",
    "assert y_test.shape == (10000,)"
   ]
  },
  {
   "cell_type": "code",
   "execution_count": 5,
   "metadata": {
    "id": "e3ofzmU3fbUH"
   },
   "outputs": [],
   "source": [
    "#flatten data\n",
    "x_train_flat = np.reshape(x_train, [60000,784])[:5000]"
   ]
  },
  {
   "cell_type": "code",
   "execution_count": 6,
   "metadata": {},
   "outputs": [],
   "source": [
    "U, s, VT = svd(x_train_flat)"
   ]
  },
  {
   "cell_type": "code",
   "execution_count": 15,
   "metadata": {},
   "outputs": [],
   "source": [
    "#Force Sigma to the shape of m x n! (5000x784) instead of (784x784)\n",
    "Sigma = np.zeros((x_train_flat.shape[0], x_train_flat.shape[1]))\n",
    "# populate Sigma with n x n diagonal matrix\n",
    "Sigma[:x_train_flat.shape[1], :x_train_flat.shape[1]] = np.diag(s)"
   ]
  },
  {
   "cell_type": "code",
   "execution_count": 35,
   "metadata": {},
   "outputs": [
    {
     "data": {
      "text/plain": [
       "1.3069438764300336e-08"
      ]
     },
     "execution_count": 35,
     "metadata": {},
     "output_type": "execute_result"
    }
   ],
   "source": [
    "x_rec = U.dot(Sigma.dot(VT))\n",
    "#How much information we lose?\n",
    "MSE = np.mean((x_rec - x_train_flat)**2)\n",
    "MSE"
   ]
  },
  {
   "cell_type": "code",
   "execution_count": 51,
   "metadata": {},
   "outputs": [],
   "source": [
    "k = 50\n",
    "Sigma_k = Sigma[:, :k]\n",
    "VTk = VT[:k, :]\n",
    "x_trunc = np.dot(U, np.dot(Sigma_k, VTk))"
   ]
  },
  {
   "cell_type": "code",
   "execution_count": 53,
   "metadata": {},
   "outputs": [
    {
     "data": {
      "text/plain": [
       "746.930973969981"
      ]
     },
     "execution_count": 53,
     "metadata": {},
     "output_type": "execute_result"
    }
   ],
   "source": [
    "#How much information we lose?\n",
    "MSE = np.mean((x_trunc - x_train_flat)**2)\n",
    "MSE"
   ]
  },
  {
   "cell_type": "code",
   "execution_count": 67,
   "metadata": {},
   "outputs": [
    {
     "data": {
      "text/plain": [
       "<matplotlib.image.AxesImage at 0x1b4c7c5a460>"
      ]
     },
     "execution_count": 67,
     "metadata": {},
     "output_type": "execute_result"
    },
    {
     "data": {
      "image/png": "[encoded data removed]",
      "text/plain": [
       "<Figure size 432x288 with 1 Axes>"
      ]
     },
     "metadata": {
      "needs_background": "light"
     },
     "output_type": "display_data"
    }
   ],
   "source": [
    "plt.imshow(x_train_flat[13,:].reshape(28,28))"
   ]
  },
  {
   "cell_type": "code",
   "execution_count": 66,
   "metadata": {},
   "outputs": [
    {
     "data": {
      "text/plain": [
       "<matplotlib.image.AxesImage at 0x1b4c7c0e490>"
      ]
     },
     "execution_count": 66,
     "metadata": {},
     "output_type": "execute_result"
    },
    {
     "data": {
      "image/png": "[encoded data removed]",
      "text/plain": [
       "<Figure size 432x288 with 1 Axes>"
      ]
     },
     "metadata": {
      "needs_background": "light"
     },
     "output_type": "display_data"
    }
   ],
   "source": [
    "plt.imshow(x_trunc[13,:].reshape(28,28))"
   ]
  }
 ],
 "metadata": {
  "colab": {
   "collapsed_sections": [],
   "include_colab_link": true,
   "name": "Class4.ipynb",
   "provenance": []
  },
  "kernelspec": {
   "display_name": "Python 3 (ipykernel)",
   "language": "python",
   "name": "python3"
  },
  "language_info": {
   "codemirror_mode": {
    "name": "ipython",
    "version": 3
   },
   "file_extension": ".py",
   "mimetype": "text/x-python",
   "name": "python",
   "nbconvert_exporter": "python",
   "pygments_lexer": "ipython3",
   "version": "3.9.7"
  }
 },
 "nbformat": 4,
 "nbformat_minor": 4
}
