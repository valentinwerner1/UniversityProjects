{
 "cells": [
  {
   "cell_type": "markdown",
   "metadata": {
    "colab_type": "text",
    "id": "view-in-github"
   },
   "source": [
    "<a href=\"https://colab.research.google.com/github/markusloecher/DataScience2021/blob/main/TWSM/Class2.ipynb\" target=\"_parent\"><img src=\"https://colab.research.google.com/assets/colab-badge.svg\" alt=\"Open In Colab\"/></a>"
   ]
  },
  {
   "cell_type": "markdown",
   "metadata": {
    "id": "QG0vmczitVQy"
   },
   "source": [
    "## IMD Movie Reviews\n"
   ]
  },
  {
   "cell_type": "markdown",
   "metadata": {
    "id": "ljUFLmLJtlnA"
   },
   "source": [
    "***Loading the IMDB dataset***"
   ]
  },
  {
   "cell_type": "code",
   "execution_count": 55,
   "metadata": {},
   "outputs": [
    {
     "name": "stderr",
     "output_type": "stream",
     "text": [
      "[nltk_data] Downloading package stopwords to\n",
      "[nltk_data]     C:\\Users\\svawe\\AppData\\Roaming\\nltk_data...\n",
      "[nltk_data]   Package stopwords is already up-to-date!\n"
     ]
    }
   ],
   "source": [
    "import re\n",
    "import pandas as pd\n",
    "import numpy as np\n",
    "# Import packages\n",
    "import pandas as pd\n",
    "import re\n",
    "from gensim.parsing.preprocessing import STOPWORDS, strip_tags, strip_numeric, strip_punctuation, strip_multiple_whitespaces, remove_stopwords, strip_short, stem_text\n",
    "import pickle\n",
    "import en_core_web_sm\n",
    "import nltk\n",
    "nltk.download('stopwords')\n",
    "from nltk.corpus import stopwords\n",
    "import spacy\n",
    "from sklearn.metrics import confusion_matrix, accuracy_score\n",
    "from sklearn.preprocessing import Binarizer\n",
    "\n",
    "import matplotlib.pyplot as plt\n",
    "import seaborn as sns\n",
    "sns.set_theme(style = \"whitegrid\")"
   ]
  },
  {
   "cell_type": "code",
   "execution_count": 9,
   "metadata": {
    "colab": {
     "base_uri": "https://localhost:8080/"
    },
    "id": "PMLV2uy1tmpe",
    "outputId": "cc525844-8bd9-40b3-f9cb-1aa397ab26b7"
   },
   "outputs": [],
   "source": [
    "from tensorflow.keras.datasets import imdb\n",
    "(train_data, train_labels), (test_data, test_labels) = imdb.load_data(\n",
    "    num_words=10000) #removes all words that are not among the 10000 most common words"
   ]
  },
  {
   "cell_type": "markdown",
   "metadata": {
    "id": "6xrmGZDsPfUr"
   },
   "source": [
    "**Decoding reviews back to text**"
   ]
  },
  {
   "cell_type": "code",
   "execution_count": 10,
   "metadata": {
    "colab": {
     "base_uri": "https://localhost:8080/",
     "height": 209
    },
    "id": "muyre50UtroS",
    "outputId": "170852e9-9d9f-4419-b8df-54923e527602"
   },
   "outputs": [
    {
     "data": {
      "text/plain": [
       "\"? this film was just brilliant casting location scenery story direction everyone's really suited the part they played and you could just imagine being there robert ? is an amazing actor and now the same being director ? father came from the same scottish island as myself so i loved the fact there was a real connection with this film the witty remarks throughout the film were great it was just brilliant so much that i bought the film as soon as it was released for ? and would recommend it to everyone to watch and the fly fishing was amazing really cried at the end it was so sad and you know what they say if you cry at a film it must have been good and this definitely was also ? to the two little boy's that played the ? of norman and paul they were just brilliant children are often left out of the ? list i think because the stars that play them all grown up are such a big profile for the whole film but these children are amazing and should be praised for what they have done don't you think the whole story was so lovely because it was true and was someone's life after all that was shared with us all\""
      ]
     },
     "execution_count": 10,
     "metadata": {},
     "output_type": "execute_result"
    }
   ],
   "source": [
    "word_index = imdb.get_word_index()\n",
    "reverse_word_index = dict(\n",
    "    [(value, key) for (key, value) in word_index.items()])\n",
    "decoded_review = \" \".join(\n",
    "    [reverse_word_index.get(i - 3, \"?\") for i in train_data[0]])\n",
    "\n",
    "decoded_review"
   ]
  },
  {
   "cell_type": "code",
   "execution_count": 86,
   "metadata": {
    "id": "1Mo-oPtJPj6r"
   },
   "outputs": [],
   "source": [
    "N=len(train_data)\n",
    "decoded_reviews = [\"\" for x in range(N)]\n",
    "\n",
    "for j in range(N):\n",
    "    decoded_reviews[j] = \" \".join(\n",
    "    [reverse_word_index.get(i - 3, \"?\") for i in train_data[j]])"
   ]
  },
  {
   "cell_type": "code",
   "execution_count": 14,
   "metadata": {},
   "outputs": [],
   "source": [
    "def tf(text):\n",
    "    text = text.lower()\n",
    "    text = remove_stopwords(text)\n",
    "    text = strip_punctuation(text)\n",
    "    text = strip_tags(text)\n",
    "    text = strip_numeric(text)\n",
    "    text = strip_multiple_whitespaces(text)\n",
    "    text = strip_short(text)\n",
    "    text_split = text.split()\n",
    "    wordlist = np.unique(text_split, return_counts= True)\n",
    "    df = pd.DataFrame(wordlist).transpose()\n",
    "    df.columns = [\"word\",\"frequency\"]\n",
    "    df = df.sort_values(\"frequency\", ascending = False)\n",
    "    df.reset_index(inplace = True)\n",
    "    df = df.drop(columns = \"index\")\n",
    "    df[\"frequency\"] = df[\"frequency\"].astype(int)\n",
    "    return df\n",
    "\n",
    "bing = pd.read_csv(r\"C:\\Users\\svawe\\Downloads\\SentimentDictionaries\\bing.csv\").drop(columns = [\"Unnamed: 0\"])"
   ]
  },
  {
   "cell_type": "markdown",
   "metadata": {
    "id": "aahZJsZnisW8"
   },
   "source": [
    "### Tasks\n",
    "\n",
    "Build a classifier on the train data in at least five different ways:\n",
    "\n",
    "1. using sentiment analysis\n",
    "2. using term frequencies in at least **4** different flavors. \n",
    "The data set in 2. is VERY high-dimensional so please choose a classifier that can deal with feature selection."
   ]
  },
  {
   "cell_type": "markdown",
   "metadata": {},
   "source": [
    "#### Sentiment analysis"
   ]
  },
  {
   "cell_type": "code",
   "execution_count": 29,
   "metadata": {},
   "outputs": [
    {
     "name": "stdout",
     "output_type": "stream",
     "text": [
      "Wall time: 2min 51s\n"
     ]
    }
   ],
   "source": [
    "%%time\n",
    "sentiments = []\n",
    "for i in decoded_reviews:\n",
    "    loop_df = tf(i)\n",
    "    sentiment = loop_df.merge(bing, how = \"inner\", on = \"word\")\n",
    "    senti_map = {\"negative\" : -1, \"positive\": 1}\n",
    "    sentiment[\"sentiment\"] = sentiment[\"sentiment\"].map(senti_map)\n",
    "    sentiment[\"sentiment_weighed\"] = sentiment[\"frequency\"] * sentiment[\"sentiment\"]\n",
    "    sentiments.append(np.sum(sentiment.sentiment_weighed))"
   ]
  },
  {
   "cell_type": "code",
   "execution_count": 35,
   "metadata": {},
   "outputs": [
    {
     "data": {
      "text/plain": [
       "<AxesSubplot:xlabel='truth', ylabel='sent_score'>"
      ]
     },
     "execution_count": 35,
     "metadata": {},
     "output_type": "execute_result"
    },
    {
     "data": {
      "image/png": "[encoded data removed]",
      "text/plain": [
       "<Figure size 432x288 with 1 Axes>"
      ]
     },
     "metadata": {},
     "output_type": "display_data"
    }
   ],
   "source": [
    "sentiments_truth = list(zip(sentiments, train_labels))\n",
    "sent_df = pd.DataFrame(sentiments_truth, columns = [\"sent_score\",\"truth\"])\n",
    "sns.boxplot(data = sent_df, x = \"truth\", y = \"sent_score\")\n",
    "#this does not seem very precise"
   ]
  },
  {
   "cell_type": "code",
   "execution_count": 43,
   "metadata": {},
   "outputs": [],
   "source": [
    "sent_df[\"pred\"] = 0\n",
    "for i in range(sent_df.shape[0]):\n",
    "    if sent_df.sent_score[i] >= 0: sent_df[\"pred\"][i] = 1"
   ]
  },
  {
   "cell_type": "code",
   "execution_count": 50,
   "metadata": {},
   "outputs": [
    {
     "data": {
      "text/plain": [
       "(array([[ 8069,  4431],\n",
       "        [ 2397, 10103]], dtype=int64),\n",
       " 0.72688)"
      ]
     },
     "execution_count": 50,
     "metadata": {},
     "output_type": "execute_result"
    }
   ],
   "source": [
    "confusion_matrix(sent_df.truth, sent_df.pred), accuracy_score(sent_df.truth, sent_df.pred)"
   ]
  },
  {
   "cell_type": "markdown",
   "metadata": {},
   "source": [
    "0.4.1.2 10000x1 Matrix\n",
    "- based on absolute term frequency -> problem: document length varies\n",
    "- overall occurance (OHE) -> problem: ignores how often words are used\n",
    "- based on relative term frequency -> idenpendent of document length\n",
    "- weighted term frequency -> commonly used words should be weighed less (because they will not be unique to positive or negative outcome) -> weighing based on Document Frequency (\"in how many documents does this word occur\") -> divide occurence in document by document frequency (problem: very unique words that occur often in a single data point are boosted too much (such as name of the movie etc.) -> regularize it! (smoothed)) OR use freq(word) * log(inverse document frequency)"
   ]
  },
  {
   "cell_type": "code",
   "execution_count": 52,
   "metadata": {},
   "outputs": [],
   "source": [
    "from sklearn.feature_extraction.text import CountVectorizer, TfidfVectorizer"
   ]
  },
  {
   "cell_type": "code",
   "execution_count": 99,
   "metadata": {},
   "outputs": [
    {
     "data": {
      "text/plain": [
       "50000"
      ]
     },
     "execution_count": 99,
     "metadata": {},
     "output_type": "execute_result"
    }
   ],
   "source": [
    "full_data = list(train_data)\n",
    "for i in test_data:\n",
    "    full_data.append(i)\n",
    "len(full_data)"
   ]
  },
  {
   "cell_type": "code",
   "execution_count": 100,
   "metadata": {},
   "outputs": [],
   "source": [
    "N=len(full_data)\n",
    "dec_reviews = [\"\" for x in range(N)]\n",
    "for j in range(N):\n",
    "    dec_reviews[j] = \" \".join(\n",
    "    [reverse_word_index.get(i - 3, \"?\") for i in full_data[j]])"
   ]
  },
  {
   "cell_type": "code",
   "execution_count": 101,
   "metadata": {},
   "outputs": [
    {
     "name": "stdout",
     "output_type": "stream",
     "text": [
      "Wall time: 20.8 s\n"
     ]
    }
   ],
   "source": [
    "%%time\n",
    "absolute_vect = CountVectorizer(max_df = 0.95, min_df = 0.01)\n",
    "absolute = absolute_vect.fit_transform(dec_reviews)\n",
    "absolute_train = absolute[:25000]\n",
    "absolute_test = absolute[25000:]\n",
    "relative_vect = TfidfVectorizer(max_df = 0.95, min_df = 0.01, use_idf = False, norm = \"l1\")\n",
    "relative = relative_vect.fit_transform(dec_reviews)\n",
    "relative_train = relative[:25000]\n",
    "relative_test = relative[25000:]\n",
    "idf_vect = TfidfVectorizer(max_df = 0.95, min_df = 0.01, smooth_idf = False)\n",
    "idf = idf_vect.fit_transform(dec_reviews)\n",
    "idf_train = idf[:25000]\n",
    "idf_test = idf[25000:]\n",
    "OHE_train = Binarizer().fit_transform(absolute_train)\n",
    "OHE_test = Binarizer().fit_transform(absolute_test)"
   ]
  },
  {
   "cell_type": "code",
   "execution_count": 70,
   "metadata": {},
   "outputs": [],
   "source": [
    "from sklearn.ensemble import RandomForestClassifier\n",
    "from sklearn.linear_model import LogisticRegression, RidgeClassifier"
   ]
  },
  {
   "cell_type": "code",
   "execution_count": 126,
   "metadata": {},
   "outputs": [
    {
     "name": "stderr",
     "output_type": "stream",
     "text": [
      "C:\\Users\\svawe\\anaconda3\\lib\\site-packages\\sklearn\\linear_model\\_logistic.py:814: ConvergenceWarning: lbfgs failed to converge (status=1):\n",
      "STOP: TOTAL NO. of ITERATIONS REACHED LIMIT.\n",
      "\n",
      "Increase the number of iterations (max_iter) or scale the data as shown in:\n",
      "    https://scikit-learn.org/stable/modules/preprocessing.html\n",
      "Please also refer to the documentation for alternative solver options:\n",
      "    https://scikit-learn.org/stable/modules/linear_model.html#logistic-regression\n",
      "  n_iter_i = _check_optimize_result(\n",
      "C:\\Users\\svawe\\anaconda3\\lib\\site-packages\\sklearn\\linear_model\\_logistic.py:814: ConvergenceWarning: lbfgs failed to converge (status=1):\n",
      "STOP: TOTAL NO. of ITERATIONS REACHED LIMIT.\n",
      "\n",
      "Increase the number of iterations (max_iter) or scale the data as shown in:\n",
      "    https://scikit-learn.org/stable/modules/preprocessing.html\n",
      "Please also refer to the documentation for alternative solver options:\n",
      "    https://scikit-learn.org/stable/modules/linear_model.html#logistic-regression\n",
      "  n_iter_i = _check_optimize_result(\n"
     ]
    },
    {
     "name": "stdout",
     "output_type": "stream",
     "text": [
      "Wall time: 5min 2s\n"
     ]
    }
   ],
   "source": [
    "%%time\n",
    "rf_clf = RandomForestClassifier()\n",
    "logit = LogisticRegression()\n",
    "ridge_clf = RidgeClassifier()\n",
    "\n",
    "classifiers = [[\"rf\", rf_clf],[\"logistic\", logit], [\"ridge\",ridge_clf]]\n",
    "data = [[\"OHE\", OHE_train, OHE_test],[\"absolute\", absolute_train, absolute_test],[\"relative\", relative_train, relative_test], [\"idf\", idf_train, idf_test]]\n",
    "results = []\n",
    "for i in classifiers:\n",
    "    for j in data:\n",
    "        i[1].fit(j[1], train_labels)\n",
    "        results.append([i[0], j[0], accuracy_score(test_labels, i[1].predict(j[2]))])"
   ]
  },
  {
   "cell_type": "code",
   "execution_count": 143,
   "metadata": {},
   "outputs": [
    {
     "data": {
      "text/plain": [
       "<matplotlib.legend.Legend at 0x1666f7bfb20>"
      ]
     },
     "execution_count": 143,
     "metadata": {},
     "output_type": "execute_result"
    },
    {
     "data": {
      "image/png": "[encoded data removed]",
      "text/plain": [
       "<Figure size 720x432 with 1 Axes>"
      ]
     },
     "metadata": {},
     "output_type": "display_data"
    }
   ],
   "source": [
    "results = pd.DataFrame(results, columns = [\"classifier\",\"encoding\",\"acc\"])\n",
    "ax, fig = plt.subplots(figsize = (10,6))\n",
    "sns.barplot(data = results, y = \"acc\", x = \"classifier\", hue = \"encoding\")\n",
    "plt.legend(loc = \"lower left\")"
   ]
  },
  {
   "cell_type": "code",
   "execution_count": 149,
   "metadata": {},
   "outputs": [
    {
     "data": {
      "text/html": [
       "<div>\n",
       "<style scoped>\n",
       "    .dataframe tbody tr th:only-of-type {\n",
       "        vertical-align: middle;\n",
       "    }\n",
       "\n",
       "    .dataframe tbody tr th {\n",
       "        vertical-align: top;\n",
       "    }\n",
       "\n",
       "    .dataframe thead th {\n",
       "        text-align: right;\n",
       "    }\n",
       "</style>\n",
       "<table border=\"1\" class=\"dataframe\">\n",
       "  <thead>\n",
       "    <tr style=\"text-align: right;\">\n",
       "      <th></th>\n",
       "      <th>classifier</th>\n",
       "      <th>encoding</th>\n",
       "      <th>acc</th>\n",
       "    </tr>\n",
       "  </thead>\n",
       "  <tbody>\n",
       "    <tr>\n",
       "      <th>0</th>\n",
       "      <td>logistic</td>\n",
       "      <td>idf</td>\n",
       "      <td>0.87760</td>\n",
       "    </tr>\n",
       "    <tr>\n",
       "      <th>1</th>\n",
       "      <td>rf</td>\n",
       "      <td>absolute</td>\n",
       "      <td>0.83696</td>\n",
       "    </tr>\n",
       "    <tr>\n",
       "      <th>2</th>\n",
       "      <td>ridge</td>\n",
       "      <td>idf</td>\n",
       "      <td>0.87156</td>\n",
       "    </tr>\n",
       "  </tbody>\n",
       "</table>\n",
       "</div>"
      ],
      "text/plain": [
       "  classifier  encoding      acc\n",
       "0   logistic       idf  0.87760\n",
       "1         rf  absolute  0.83696\n",
       "2      ridge       idf  0.87156"
      ]
     },
     "execution_count": 149,
     "metadata": {},
     "output_type": "execute_result"
    }
   ],
   "source": [
    "def max_row(group):\n",
    "    return group.loc[group['acc'] == group['acc'].max()]\n",
    "results.groupby('classifier', as_index=False).apply(max_row).reset_index(drop=True)"
   ]
  },
  {
   "cell_type": "code",
   "execution_count": 184,
   "metadata": {},
   "outputs": [],
   "source": [
    "#Does further preproccesing increase the acc?\n",
    "data_stem = []\n",
    "for i in dec_reviews:\n",
    "    text = i.lower() #remove upper case letters to allow grouping\n",
    "    text = remove_stopwords(text)\n",
    "    text = strip_punctuation(text) #remove all instances of . and : \n",
    "    text = strip_tags(text)\n",
    "    text = strip_numeric(text) #remove all numbers (because uninterpretable, i guess)\n",
    "    text = strip_multiple_whitespaces(text) #remove dupplicate spaces\n",
    "    text = strip_short(text)\n",
    "    data_stem.append(stem_text(text)) "
   ]
  },
  {
   "cell_type": "code",
   "execution_count": 185,
   "metadata": {},
   "outputs": [
    {
     "data": {
      "text/plain": [
       "'film brilliant cast locat sceneri stori direct everyon suit plai imagin robert amaz actor director father came scottish island love fact real connect film witti remark film great brilliant bought film soon releas recommend watch fly fish amaz cri end sad know film good definit littl boi plai norman paul brilliant children left list think star plai grown big profil film children amaz prais don think stori love true someon life share'"
      ]
     },
     "execution_count": 185,
     "metadata": {},
     "output_type": "execute_result"
    }
   ],
   "source": [
    "data_stem[0]"
   ]
  },
  {
   "cell_type": "code",
   "execution_count": 366,
   "metadata": {},
   "outputs": [],
   "source": [
    "absolute_vect = CountVectorizer(max_df = 0.95, min_df = 0.01)\n",
    "absolute_stem = absolute_vect.fit_transform(data_stem)\n",
    "absolute_stem_train = absolute_stem[:25000]\n",
    "absolute_stem_test = absolute_stem[25000:]\n",
    "relative_vect = TfidfVectorizer(max_df = 0.95, min_df = 0.01, use_idf = False, norm = \"l1\")\n",
    "relative_stem = relative_vect.fit_transform(data_stem)\n",
    "relative_stem_train = relative_stem[:25000]\n",
    "relative_stem_test = relative_stem[25000:]\n",
    "idf_vect = TfidfVectorizer(max_df = 0.95, min_df = 0.01, smooth_idf = False)\n",
    "idf_stem = idf_vect.fit_transform(data_stem)\n",
    "idf_stem_train = idf_stem[:25000]\n",
    "idf_stem_test = idf_stem[25000:]\n",
    "OHE_stem_train = Binarizer().fit_transform(absolute_train)\n",
    "OHE_stem_test = Binarizer().fit_transform(absolute_test)"
   ]
  },
  {
   "cell_type": "code",
   "execution_count": 367,
   "metadata": {},
   "outputs": [
    {
     "name": "stderr",
     "output_type": "stream",
     "text": [
      "C:\\Users\\svawe\\anaconda3\\lib\\site-packages\\sklearn\\linear_model\\_logistic.py:814: ConvergenceWarning: lbfgs failed to converge (status=1):\n",
      "STOP: TOTAL NO. of ITERATIONS REACHED LIMIT.\n",
      "\n",
      "Increase the number of iterations (max_iter) or scale the data as shown in:\n",
      "    https://scikit-learn.org/stable/modules/preprocessing.html\n",
      "Please also refer to the documentation for alternative solver options:\n",
      "    https://scikit-learn.org/stable/modules/linear_model.html#logistic-regression\n",
      "  n_iter_i = _check_optimize_result(\n",
      "C:\\Users\\svawe\\anaconda3\\lib\\site-packages\\sklearn\\linear_model\\_logistic.py:814: ConvergenceWarning: lbfgs failed to converge (status=1):\n",
      "STOP: TOTAL NO. of ITERATIONS REACHED LIMIT.\n",
      "\n",
      "Increase the number of iterations (max_iter) or scale the data as shown in:\n",
      "    https://scikit-learn.org/stable/modules/preprocessing.html\n",
      "Please also refer to the documentation for alternative solver options:\n",
      "    https://scikit-learn.org/stable/modules/linear_model.html#logistic-regression\n",
      "  n_iter_i = _check_optimize_result(\n"
     ]
    },
    {
     "name": "stdout",
     "output_type": "stream",
     "text": [
      "Wall time: 4min 33s\n"
     ]
    }
   ],
   "source": [
    "%%time\n",
    "rf_clf = RandomForestClassifier()\n",
    "logit = LogisticRegression()\n",
    "ridge_clf = RidgeClassifier()\n",
    "\n",
    "classifiers = [[\"rf\", rf_clf],[\"logistic\", logit], [\"ridge\",ridge_clf]]\n",
    "data = [[\"OHE\", OHE_stem_train, OHE_stem_test],[\"absolute\", absolute_stem_train, absolute_stem_test],[\"relative\", relative_stem_train, relative_stem_test], [\"idf\", idf_stem_train, idf_stem_test]]\n",
    "results_stem = []\n",
    "for i in classifiers:\n",
    "    for j in data:\n",
    "        i[1].fit(j[1], train_labels)\n",
    "        results_stem.append([i[0], j[0], accuracy_score(test_labels, i[1].predict(j[2]))])"
   ]
  },
  {
   "cell_type": "code",
   "execution_count": 368,
   "metadata": {},
   "outputs": [
    {
     "data": {
      "text/plain": [
       "<matplotlib.legend.Legend at 0x166d91f5fa0>"
      ]
     },
     "execution_count": 368,
     "metadata": {},
     "output_type": "execute_result"
    },
    {
     "data": {
      "image/png": "[encoded data removed]",
      "text/plain": [
       "<Figure size 720x432 with 1 Axes>"
      ]
     },
     "metadata": {},
     "output_type": "display_data"
    }
   ],
   "source": [
    "results_stem = pd.DataFrame(results_stem, columns = [\"classifier\",\"encoding\",\"acc\"])\n",
    "ax, fig = plt.subplots(figsize = (10,6))\n",
    "sns.barplot(data = results_stem, y = \"acc\", x = \"classifier\", hue = \"encoding\")\n",
    "plt.legend(loc = \"lower left\")"
   ]
  },
  {
   "cell_type": "code",
   "execution_count": 370,
   "metadata": {},
   "outputs": [
    {
     "data": {
      "text/html": [
       "<div>\n",
       "<style scoped>\n",
       "    .dataframe tbody tr th:only-of-type {\n",
       "        vertical-align: middle;\n",
       "    }\n",
       "\n",
       "    .dataframe tbody tr th {\n",
       "        vertical-align: top;\n",
       "    }\n",
       "\n",
       "    .dataframe thead th {\n",
       "        text-align: right;\n",
       "    }\n",
       "</style>\n",
       "<table border=\"1\" class=\"dataframe\">\n",
       "  <thead>\n",
       "    <tr style=\"text-align: right;\">\n",
       "      <th></th>\n",
       "      <th>classifier</th>\n",
       "      <th>encoding</th>\n",
       "      <th>acc</th>\n",
       "    </tr>\n",
       "  </thead>\n",
       "  <tbody>\n",
       "    <tr>\n",
       "      <th>0</th>\n",
       "      <td>logistic</td>\n",
       "      <td>OHE</td>\n",
       "      <td>0.86352</td>\n",
       "    </tr>\n",
       "    <tr>\n",
       "      <th>1</th>\n",
       "      <td>rf</td>\n",
       "      <td>relative</td>\n",
       "      <td>0.83416</td>\n",
       "    </tr>\n",
       "    <tr>\n",
       "      <th>2</th>\n",
       "      <td>ridge</td>\n",
       "      <td>OHE</td>\n",
       "      <td>0.86264</td>\n",
       "    </tr>\n",
       "  </tbody>\n",
       "</table>\n",
       "</div>"
      ],
      "text/plain": [
       "  classifier  encoding      acc\n",
       "0   logistic       OHE  0.86352\n",
       "1         rf  relative  0.83416\n",
       "2      ridge       OHE  0.86264"
      ]
     },
     "execution_count": 370,
     "metadata": {},
     "output_type": "execute_result"
    }
   ],
   "source": [
    "def max_row(group):\n",
    "    return group.loc[group['acc'] == group['acc'].max()]\n",
    "results_stem.groupby('classifier', as_index=False).apply(max_row).reset_index(drop=True)\n",
    "#actually reduced the accuracy!"
   ]
  },
  {
   "cell_type": "markdown",
   "metadata": {},
   "source": [
    "## Bigrams"
   ]
  },
  {
   "cell_type": "code",
   "execution_count": 163,
   "metadata": {},
   "outputs": [
    {
     "name": "stdout",
     "output_type": "stream",
     "text": [
      "Wall time: 57 s\n"
     ]
    }
   ],
   "source": [
    "%%time\n",
    "ngram_vect = CountVectorizer(ngram_range = (2,4), max_df = 0.95, min_df = 0.001)\n",
    "review_vect = ngram_vect.fit_transform(dec_reviews)"
   ]
  },
  {
   "cell_type": "code",
   "execution_count": 164,
   "metadata": {},
   "outputs": [],
   "source": [
    "ngrams = ngram_vect.get_feature_names_out()"
   ]
  },
  {
   "cell_type": "code",
   "execution_count": 165,
   "metadata": {},
   "outputs": [],
   "source": [
    "ngrams_not = []\n",
    "for i in ngrams:\n",
    "    if i.count(\"not\") > 0: ngrams_not.append(i)"
   ]
  },
  {
   "cell_type": "code",
   "execution_count": 197,
   "metadata": {},
   "outputs": [],
   "source": [
    "notgrams = [re.findall(\"^not .*\", i) for i in ngrams_not]\n",
    "notgrams = list(filter(None, notgrams))"
   ]
  },
  {
   "cell_type": "code",
   "execution_count": 302,
   "metadata": {},
   "outputs": [],
   "source": [
    "df_full = pd.DataFrame(absolute.toarray())\n",
    "#add empty columns for every not-gram in our list\n",
    "df_full_long = df_full.reindex(columns = np.arange(0,(df_full.shape[1] + len(notgrams))))\n",
    "mapper = list(zip(df_full_long.columns[1783:],np.arange(0,294)))"
   ]
  },
  {
   "cell_type": "code",
   "execution_count": 305,
   "metadata": {},
   "outputs": [
    {
     "name": "stderr",
     "output_type": "stream",
     "text": [
      "C:\\Users\\svawe\\AppData\\Local\\Temp/ipykernel_13824/4223606391.py:5: SettingWithCopyWarning: \n",
      "A value is trying to be set on a copy of a slice from a DataFrame\n",
      "\n",
      "See the caveats in the documentation: https://pandas.pydata.org/pandas-docs/stable/user_guide/indexing.html#returning-a-view-versus-a-copy\n",
      "  df_full_long[index_df][a] = i.count(notgrams[index_notgram][0])\n"
     ]
    }
   ],
   "source": [
    "#add absolute counts for the respective not-gram\n",
    "for i in dec_reviews:\n",
    "    a = dec_reviews.index(i)\n",
    "    for index_df, index_notgram in mapper:\n",
    "        df_full_long[index_df][a] = i.count(notgrams[index_notgram][0])"
   ]
  },
  {
   "cell_type": "code",
   "execution_count": 362,
   "metadata": {},
   "outputs": [],
   "source": [
    "#weirdly there are some nan values in the df\n",
    "#df_full_long[df_full_long.isna().any(axis=1)]\n",
    "df_full_long.fillna(0, inplace = True)\n",
    "X_train = df_full_long.iloc[:25000]\n",
    "X_test = df_full_long.iloc[25000:]"
   ]
  },
  {
   "cell_type": "code",
   "execution_count": 364,
   "metadata": {},
   "outputs": [
    {
     "name": "stderr",
     "output_type": "stream",
     "text": [
      "C:\\Users\\svawe\\anaconda3\\lib\\site-packages\\sklearn\\linear_model\\_logistic.py:814: ConvergenceWarning: lbfgs failed to converge (status=1):\n",
      "STOP: TOTAL NO. of ITERATIONS REACHED LIMIT.\n",
      "\n",
      "Increase the number of iterations (max_iter) or scale the data as shown in:\n",
      "    https://scikit-learn.org/stable/modules/preprocessing.html\n",
      "Please also refer to the documentation for alternative solver options:\n",
      "    https://scikit-learn.org/stable/modules/linear_model.html#logistic-regression\n",
      "  n_iter_i = _check_optimize_result(\n"
     ]
    },
    {
     "data": {
      "text/plain": [
       "(0.8348, 0.86992, 0.86132)"
      ]
     },
     "execution_count": 364,
     "metadata": {},
     "output_type": "execute_result"
    }
   ],
   "source": [
    "rf_clf = RandomForestClassifier()\n",
    "logit = LogisticRegression()\n",
    "ridge_clf = RidgeClassifier()\n",
    "\n",
    "rf_clf.fit(X_train, train_labels)\n",
    "logit.fit(X_train, train_labels)\n",
    "ridge_clf.fit(X_train, train_labels)\n",
    "accuracy_score(test_labels, rf_clf.predict(X_test)),accuracy_score(test_labels, logit.predict(X_test)),accuracy_score(test_labels, ridge_clf.predict(X_test)) \n",
    "#putting the not-grams in the prediction did not increase accuracy!"
   ]
  },
  {
   "cell_type": "code",
   "execution_count": 365,
   "metadata": {},
   "outputs": [
    {
     "data": {
      "text/html": [
       "<div>\n",
       "<style scoped>\n",
       "    .dataframe tbody tr th:only-of-type {\n",
       "        vertical-align: middle;\n",
       "    }\n",
       "\n",
       "    .dataframe tbody tr th {\n",
       "        vertical-align: top;\n",
       "    }\n",
       "\n",
       "    .dataframe thead th {\n",
       "        text-align: right;\n",
       "    }\n",
       "</style>\n",
       "<table border=\"1\" class=\"dataframe\">\n",
       "  <thead>\n",
       "    <tr style=\"text-align: right;\">\n",
       "      <th></th>\n",
       "      <th>classifier</th>\n",
       "      <th>encoding</th>\n",
       "      <th>acc</th>\n",
       "    </tr>\n",
       "  </thead>\n",
       "  <tbody>\n",
       "    <tr>\n",
       "      <th>1</th>\n",
       "      <td>rf</td>\n",
       "      <td>absolute</td>\n",
       "      <td>0.83704</td>\n",
       "    </tr>\n",
       "    <tr>\n",
       "      <th>5</th>\n",
       "      <td>logistic</td>\n",
       "      <td>absolute</td>\n",
       "      <td>0.86840</td>\n",
       "    </tr>\n",
       "    <tr>\n",
       "      <th>9</th>\n",
       "      <td>ridge</td>\n",
       "      <td>absolute</td>\n",
       "      <td>0.86008</td>\n",
       "    </tr>\n",
       "  </tbody>\n",
       "</table>\n",
       "</div>"
      ],
      "text/plain": [
       "  classifier  encoding      acc\n",
       "1         rf  absolute  0.83704\n",
       "5   logistic  absolute  0.86840\n",
       "9      ridge  absolute  0.86008"
      ]
     },
     "execution_count": 365,
     "metadata": {},
     "output_type": "execute_result"
    }
   ],
   "source": [
    "results_stem[results_stem[\"encoding\"] == \"absolute\"]"
   ]
  }
 ],
 "metadata": {
  "colab": {
   "collapsed_sections": [],
   "include_colab_link": true,
   "name": "Class2.ipynb",
   "provenance": []
  },
  "kernelspec": {
   "display_name": "Python 3 (ipykernel)",
   "language": "python",
   "name": "python3"
  },
  "language_info": {
   "codemirror_mode": {
    "name": "ipython",
    "version": 3
   },
   "file_extension": ".py",
   "mimetype": "text/x-python",
   "name": "python",
   "nbconvert_exporter": "python",
   "pygments_lexer": "ipython3",
   "version": "3.9.7"
  }
 },
 "nbformat": 4,
 "nbformat_minor": 4
}
