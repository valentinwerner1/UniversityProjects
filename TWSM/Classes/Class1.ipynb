{
 "cells": [
  {
   "cell_type": "code",
   "execution_count": 1,
   "metadata": {},
   "outputs": [
    {
     "name": "stderr",
     "output_type": "stream",
     "text": [
      "[nltk_data] Downloading package stopwords to\n",
      "[nltk_data]     C:\\Users\\svawe\\AppData\\Roaming\\nltk_data...\n",
      "[nltk_data]   Package stopwords is already up-to-date!\n"
     ]
    }
   ],
   "source": [
    "# Import packages\n",
    "import pandas as pd\n",
    "import re\n",
    "from gensim.parsing.preprocessing import STOPWORDS, strip_tags, strip_numeric, strip_punctuation, strip_multiple_whitespaces, remove_stopwords, strip_short, stem_text\n",
    "import pickle\n",
    "import en_core_web_sm\n",
    "import nltk\n",
    "nltk.download('stopwords')\n",
    "from nltk.corpus import stopwords\n",
    "import spacy\n",
    "\n",
    "import matplotlib.pyplot as plt\n",
    "import seaborn as sns\n",
    "sns.set_theme(style = \"whitegrid\")"
   ]
  },
  {
   "cell_type": "markdown",
   "metadata": {
    "id": "qVCvhTfIJJf0"
   },
   "source": [
    "# Regular Expressions\n",
    "\n",
    "https://www.w3schools.com/python/python_regex.asp"
   ]
  },
  {
   "cell_type": "code",
   "execution_count": 2,
   "metadata": {
    "colab": {
     "base_uri": "https://localhost:8080/"
    },
    "id": "0mpJJypSCjEY",
    "outputId": "0faf725c-999a-4586-bd8b-d8922ff0cf9e"
   },
   "outputs": [
    {
     "name": "stdout",
     "output_type": "stream",
     "text": [
      "['March', 'March']\n",
      "['March', 'March']\n",
      "['March', 'March', 'marks']\n",
      "['March', 'Sunday', 'March']\n",
      "['20', '22', '20', '11', '33']\n",
      "['2022', '20', '11', '33']\n",
      "['11:33']\n",
      "[]\n"
     ]
    }
   ],
   "source": [
    "import re\n",
    "\n",
    "#txt = \"Spring 2022 in Northern Hemisphere began on Sunday, 20 March and ends on Tuesday, 21 June.\"\n",
    "\n",
    "txt = \"In 2022, the March equinox happens on \\nSunday, March 20, at 11:33 A.M. EDT. This marks the return of spring to the Northern Hemisphere.The word equinox comes from the Latin words for equal night—aequus (equal) and nox (night).\"\n",
    "\n",
    "print(re.findall(\"March\", txt))\n",
    "#The dot ( . ) represents any character.\n",
    "print(re.findall(\"M...h\", txt))\n",
    "# We specify a range of characters by enclosing them within square brackets ( [ ] ).\n",
    "print(re.findall(\"[Mm]ar[ck][hs]\", txt))\n",
    "# \"or\" = |\n",
    "print(re.findall(\"March|Sunday\", txt))\n",
    "#find numbers:\n",
    "print(re.findall(\"[0-9][0-9]\", txt)) #since we are asking for 2 digits, it only returns two-digit numbers (and splits 2022 -> 20, 22)\n",
    "print(re.findall(\"[0-9]+\", txt)) #gives numbers of various lengths\n",
    "print(re.findall(\"[0-9][0-9]:[0-9][0-9]\", txt))#patterns the : between the numbers -> for time its HH:MM\n",
    "#starts with \n",
    "print(re.findall(\"^S.*\", txt)) #doesnt work because it works on line basis"
   ]
  },
  {
   "cell_type": "code",
   "execution_count": 3,
   "metadata": {
    "id": "hGmzUdM3J-B6"
   },
   "outputs": [
    {
     "name": "stdout",
     "output_type": "stream",
     "text": [
      "['Sunday,']\n"
     ]
    },
    {
     "data": {
      "text/plain": [
       "[None]"
      ]
     },
     "execution_count": 3,
     "metadata": {},
     "output_type": "execute_result"
    }
   ],
   "source": [
    "#^ Starts with\n",
    "[print(re.findall(\"^S.*\", s)) for s in txt.split() if re.findall(\"^S.*\", s) != []]"
   ]
  },
  {
   "cell_type": "code",
   "execution_count": 4,
   "metadata": {
    "colab": {
     "base_uri": "https://localhost:8080/"
    },
    "id": "VFtSydqnGHCF",
    "outputId": "22560dfe-3f21-4113-9422-65089c8d66fa"
   },
   "outputs": [
    {
     "name": "stdout",
     "output_type": "stream",
     "text": [
      "['Sunday, March 20, at 11:33 A.M. EDT. This marks the return of spring to the Northern Hemisphere.The word equinox comes from the Latin words for equal night—aequus (equal) and nox (night).']\n"
     ]
    }
   ],
   "source": [
    "#multiline mode = (?m)\n",
    "print(re.findall(\"(?m)^S.*\", txt))"
   ]
  },
  {
   "cell_type": "code",
   "execution_count": 5,
   "metadata": {
    "id": "VrTgCTW8E5JD"
   },
   "outputs": [
    {
     "data": {
      "text/plain": [
       "['In',\n",
       " '2022,',\n",
       " 'the',\n",
       " 'March',\n",
       " 'equinox',\n",
       " 'happens',\n",
       " 'on',\n",
       " '',\n",
       " 'Sunday,',\n",
       " 'March',\n",
       " '20,',\n",
       " 'at',\n",
       " '11:33',\n",
       " 'A.M.',\n",
       " 'EDT.',\n",
       " 'This',\n",
       " 'marks',\n",
       " 'the',\n",
       " 'return',\n",
       " 'of',\n",
       " 'spring',\n",
       " 'to',\n",
       " 'the',\n",
       " 'Northern',\n",
       " 'Hemisphere.The',\n",
       " 'word',\n",
       " 'equinox',\n",
       " 'comes',\n",
       " 'from',\n",
       " 'the',\n",
       " 'Latin',\n",
       " 'words',\n",
       " 'for',\n",
       " 'equal',\n",
       " 'night—aequus',\n",
       " '(equal)',\n",
       " 'and',\n",
       " 'nox',\n",
       " '(night).']"
      ]
     },
     "execution_count": 5,
     "metadata": {},
     "output_type": "execute_result"
    }
   ],
   "source": [
    "#txt.split()\n",
    "re.split(\"\\s\",txt)"
   ]
  },
  {
   "cell_type": "code",
   "execution_count": 6,
   "metadata": {
    "colab": {
     "base_uri": "https://localhost:8080/",
     "height": 107
    },
    "id": "xMsJlPZRN9th",
    "outputId": "53ec4f16-fbb6-41eb-8f85-5f1d947c00a1"
   },
   "outputs": [
    {
     "name": "stdout",
     "output_type": "stream",
     "text": [
      "['I', 'n', ' ', '2', '0', '2', '2', ',', ' ', 't', 'h', 'e', ' ', 'M', 'a', 'r', 'c', 'h', ' ', 'e', 'q', 'u', 'i', 'n', 'o', 'x', ' ', 'h', 'a', 'p', 'p', 'e', 'n', 's', ' ', 'o', 'n', ' ', '\\n', 'u', 'n', 'd', 'a', 'y', ',', ' ', 'M', 'a', 'r', 'c', 'h', ' ', '2', '0', ',', ' ', 'a', 't', ' ', '1', '1', ':', '3', '3', ' ', 'A', 'M', ' ', 'E', 'D', 'T', ' ', 'T', 'h', 'i', 's', ' ', 'm', 'a', 'r', 'k', 's', ' ', 't', 'h', 'e', ' ', 'r', 'e', 't', 'u', 'r', 'n', ' ', 'o', 'f', ' ', 's', 'p', 'r', 'i', 'n', 'g', ' ', 't', 'o', ' ', 't', 'h', 'e', ' ', 'N', 'o', 'r', 't', 'h', 'e', 'r', 'n', ' ', 'H', 'e', 'm', 'i', 's', 'p', 'h', 'e', 'r', 'e', 'T', 'h', 'e', ' ', 'w', 'o', 'r', 'd', ' ', 'e', 'q', 'u', 'i', 'n', 'o', 'x', ' ', 'c', 'o', 'm', 'e', 's', ' ', 'f', 'r', 'o', 'm', ' ', 't', 'h', 'e', ' ', 'L', 'a', 't', 'i', 'n', ' ', 'w', 'o', 'r', 'd', 's', ' ', 'f', 'o', 'r', ' ', 'e', 'q', 'u', 'a', 'l', ' ', 'n', 'i', 'g', 'h', 't', '—', 'a', 'e', 'q', 'u', 'u', 's', ' ', '(', 'e', 'q', 'u', 'a', 'l', ')', ' ', 'a', 'n', 'd', ' ', 'n', 'o', 'x', ' ', '(', 'n', 'i', 'g', 'h', 't', ')']\n"
     ]
    }
   ],
   "source": [
    "#anything but\n",
    "print(re.findall(\"[^S.*]\", txt))"
   ]
  },
  {
   "cell_type": "markdown",
   "metadata": {
    "id": "-B3RMcw6CeZQ"
   },
   "source": [
    "# Text Analysis and Preprocessing"
   ]
  },
  {
   "cell_type": "markdown",
   "metadata": {
    "id": "a1yymRS8ta7o"
   },
   "source": [
    "## Gutenberg"
   ]
  },
  {
   "cell_type": "code",
   "execution_count": null,
   "metadata": {
    "id": "_z87j_urtv6n"
   },
   "outputs": [],
   "source": [
    "!pip install gutenberg\n",
    "\n",
    "from gutenberg.acquire import load_etext\n",
    "from gutenberg.cleanup import strip_headers"
   ]
  },
  {
   "cell_type": "code",
   "execution_count": null,
   "metadata": {
    "id": "vKy-W6a-twxh"
   },
   "outputs": [],
   "source": [
    "text = strip_headers(load_etext(42671)).strip()\n",
    "#text = load_etext(42671)\n",
    "print(text)"
   ]
  },
  {
   "cell_type": "markdown",
   "metadata": {
    "id": "r90pjfxiYApi"
   },
   "source": [
    "### Tasks\n",
    "\n",
    "1. Compute the term frequencies\n",
    "2. Inspect the top 20\n",
    "3. Verify Zipf's law\n",
    "4. Think about useful text preprocessing\n",
    "5. Repeat with your favorite book from Gutenberg\n",
    "\n",
    "Extras\n",
    "1. Find all dates menioned in the book\n",
    "2. Count the number of positive and negative words using one of the sentiment dictionaries provided"
   ]
  },
  {
   "cell_type": "markdown",
   "metadata": {
    "id": "odRHOKwbZYOu"
   },
   "source": [
    "Take a look at the following useful gensim functions \n",
    "\n",
    "* strip_tags\n",
    "* strip_numeric\n",
    "* strip_punctuation \n",
    "* strip_multiple_whitespaces \n",
    "* remove_stopwords\n",
    "* strip_short\n",
    "* stem_text"
   ]
  },
  {
   "cell_type": "code",
   "execution_count": 98,
   "metadata": {},
   "outputs": [],
   "source": [
    "import numpy as np\n",
    "import pandas as pd\n",
    "import matplotlib.pyplot as plt\n",
    "import seaborn as sns"
   ]
  },
  {
   "cell_type": "code",
   "execution_count": 99,
   "metadata": {},
   "outputs": [],
   "source": [
    "text_split = text.split()"
   ]
  },
  {
   "cell_type": "code",
   "execution_count": 100,
   "metadata": {},
   "outputs": [],
   "source": [
    "wordlist = np.unique(text_split, return_counts= True)[0]\n",
    "counts = np.unique(text_split, return_counts= True)[1]\n",
    "combined = list(zip(wordlist, counts))"
   ]
  },
  {
   "cell_type": "code",
   "execution_count": 204,
   "metadata": {},
   "outputs": [
    {
     "data": {
      "text/html": [
       "<div>\n",
       "<style scoped>\n",
       "    .dataframe tbody tr th:only-of-type {\n",
       "        vertical-align: middle;\n",
       "    }\n",
       "\n",
       "    .dataframe tbody tr th {\n",
       "        vertical-align: top;\n",
       "    }\n",
       "\n",
       "    .dataframe thead th {\n",
       "        text-align: right;\n",
       "    }\n",
       "</style>\n",
       "<table border=\"1\" class=\"dataframe\">\n",
       "  <thead>\n",
       "    <tr style=\"text-align: right;\">\n",
       "      <th></th>\n",
       "      <th>index</th>\n",
       "      <th>word</th>\n",
       "      <th>frequency</th>\n",
       "    </tr>\n",
       "  </thead>\n",
       "  <tbody>\n",
       "    <tr>\n",
       "      <th>0</th>\n",
       "      <td>1</td>\n",
       "      <td>the</td>\n",
       "      <td>4062</td>\n",
       "    </tr>\n",
       "    <tr>\n",
       "      <th>1</th>\n",
       "      <td>2</td>\n",
       "      <td>to</td>\n",
       "      <td>4045</td>\n",
       "    </tr>\n",
       "    <tr>\n",
       "      <th>2</th>\n",
       "      <td>3</td>\n",
       "      <td>of</td>\n",
       "      <td>3579</td>\n",
       "    </tr>\n",
       "    <tr>\n",
       "      <th>3</th>\n",
       "      <td>4</td>\n",
       "      <td>and</td>\n",
       "      <td>3282</td>\n",
       "    </tr>\n",
       "    <tr>\n",
       "      <th>4</th>\n",
       "      <td>5</td>\n",
       "      <td>a</td>\n",
       "      <td>1874</td>\n",
       "    </tr>\n",
       "  </tbody>\n",
       "</table>\n",
       "</div>"
      ],
      "text/plain": [
       "   index word  frequency\n",
       "0      1  the       4062\n",
       "1      2   to       4045\n",
       "2      3   of       3579\n",
       "3      4  and       3282\n",
       "4      5    a       1874"
      ]
     },
     "execution_count": 204,
     "metadata": {},
     "output_type": "execute_result"
    }
   ],
   "source": [
    "df1 = pd.DataFrame(combined, columns = [\"word\",\"frequency\"])\n",
    "df1 = df1.sort_values(\"frequency\", ascending = False)\n",
    "df1.reset_index(inplace = True)\n",
    "df1 = df1.drop(columns = \"index\")\n",
    "df1.index = df1.index +1\n",
    "df1.reset_index(inplace = True)\n",
    "df1.head()"
   ]
  },
  {
   "cell_type": "code",
   "execution_count": 205,
   "metadata": {},
   "outputs": [
    {
     "data": {
      "text/plain": [
       "121961"
      ]
     },
     "execution_count": 205,
     "metadata": {},
     "output_type": "execute_result"
    }
   ],
   "source": [
    "sum(df1.frequency)"
   ]
  },
  {
   "cell_type": "code",
   "execution_count": 103,
   "metadata": {},
   "outputs": [
    {
     "data": {
      "image/png": "[encoded data removed]",
      "text/plain": [
       "<Figure size 432x288 with 1 Axes>"
      ]
     },
     "metadata": {
      "needs_background": "light"
     },
     "output_type": "display_data"
    }
   ],
   "source": [
    "sns.scatterplot(x = \"index\", y = \"frequency\", data = df)\n",
    "plt.yscale(\"log\")\n",
    "plt.xscale(\"log\")"
   ]
  },
  {
   "cell_type": "code",
   "execution_count": 115,
   "metadata": {
    "id": "Z4WSmEK0ZfE0"
   },
   "outputs": [],
   "source": [
    "from gensim.parsing.preprocessing import STOPWORDS, strip_tags, strip_numeric, strip_punctuation, strip_multiple_whitespaces, remove_stopwords, strip_short, stem_text\n",
    "import regex as re"
   ]
  },
  {
   "cell_type": "code",
   "execution_count": 133,
   "metadata": {},
   "outputs": [],
   "source": [
    "text2 = text.lower()\n",
    "text2 = remove_stopwords(text2)\n",
    "text_split2 = text2.split()"
   ]
  },
  {
   "cell_type": "code",
   "execution_count": 134,
   "metadata": {},
   "outputs": [],
   "source": [
    "wordlist = np.unique(text_split2, return_counts= True)\n",
    "df2 = pd.DataFrame(wordlist).transpose()\n",
    "df2.columns = [\"word\",\"frequency\"]"
   ]
  },
  {
   "cell_type": "code",
   "execution_count": 141,
   "metadata": {},
   "outputs": [
    {
     "data": {
      "text/plain": [
       "0.43023589508121446"
      ]
     },
     "execution_count": 141,
     "metadata": {},
     "output_type": "execute_result"
    }
   ],
   "source": [
    "sum(df2.frequency)/sum(df.frequency)"
   ]
  },
  {
   "cell_type": "code",
   "execution_count": 266,
   "metadata": {},
   "outputs": [],
   "source": [
    "def tf(text):\n",
    "    text = text.lower()\n",
    "    text = remove_stopwords(text)\n",
    "    text = strip_punctuation(text)\n",
    "    text = strip_tags(text)\n",
    "    text = strip_numeric(text)\n",
    "    text = strip_multiple_whitespaces(text)\n",
    "    text = strip_short(text)\n",
    "    text_split = text.split()\n",
    "    wordlist = np.unique(text_split, return_counts= True)\n",
    "    df = pd.DataFrame(wordlist).transpose()\n",
    "    df.columns = [\"word\",\"frequency\"]\n",
    "    df = df.sort_values(\"frequency\", ascending = False)\n",
    "    df.reset_index(inplace = True)\n",
    "    df = df.drop(columns = \"index\")\n",
    "    df[\"frequency\"] = df[\"frequency\"].astype(int)\n",
    "    return df"
   ]
  },
  {
   "cell_type": "code",
   "execution_count": 267,
   "metadata": {},
   "outputs": [
    {
     "data": {
      "text/html": [
       "<div>\n",
       "<style scoped>\n",
       "    .dataframe tbody tr th:only-of-type {\n",
       "        vertical-align: middle;\n",
       "    }\n",
       "\n",
       "    .dataframe tbody tr th {\n",
       "        vertical-align: top;\n",
       "    }\n",
       "\n",
       "    .dataframe thead th {\n",
       "        text-align: right;\n",
       "    }\n",
       "</style>\n",
       "<table border=\"1\" class=\"dataframe\">\n",
       "  <thead>\n",
       "    <tr style=\"text-align: right;\">\n",
       "      <th></th>\n",
       "      <th>word</th>\n",
       "      <th>frequency</th>\n",
       "    </tr>\n",
       "  </thead>\n",
       "  <tbody>\n",
       "    <tr>\n",
       "      <th>0</th>\n",
       "      <td>elizabeth</td>\n",
       "      <td>634</td>\n",
       "    </tr>\n",
       "    <tr>\n",
       "      <th>1</th>\n",
       "      <td>darcy</td>\n",
       "      <td>418</td>\n",
       "    </tr>\n",
       "    <tr>\n",
       "      <th>2</th>\n",
       "      <td>said</td>\n",
       "      <td>402</td>\n",
       "    </tr>\n",
       "    <tr>\n",
       "      <th>3</th>\n",
       "      <td>mrs</td>\n",
       "      <td>342</td>\n",
       "    </tr>\n",
       "    <tr>\n",
       "      <th>4</th>\n",
       "      <td>you</td>\n",
       "      <td>329</td>\n",
       "    </tr>\n",
       "  </tbody>\n",
       "</table>\n",
       "</div>"
      ],
      "text/plain": [
       "        word  frequency\n",
       "0  elizabeth        634\n",
       "1      darcy        418\n",
       "2       said        402\n",
       "3        mrs        342\n",
       "4        you        329"
      ]
     },
     "execution_count": 267,
     "metadata": {},
     "output_type": "execute_result"
    }
   ],
   "source": [
    "df3 = tf(text)\n",
    "df3.head()"
   ]
  },
  {
   "cell_type": "code",
   "execution_count": 268,
   "metadata": {},
   "outputs": [
    {
     "data": {
      "text/plain": [
       "(0.4129188839055108, 50360)"
      ]
     },
     "execution_count": 268,
     "metadata": {},
     "output_type": "execute_result"
    }
   ],
   "source": [
    "sum(df3.frequency)/sum(df1.frequency), sum(df3.frequency)"
   ]
  },
  {
   "cell_type": "code",
   "execution_count": 272,
   "metadata": {},
   "outputs": [
    {
     "name": "stdout",
     "output_type": "stream",
     "text": [
      "<class 'pandas.core.frame.DataFrame'>\n",
      "Int64Index: 6203 entries, 0 to 6202\n",
      "Data columns (total 3 columns):\n",
      " #   Column     Non-Null Count  Dtype  \n",
      "---  ------     --------------  -----  \n",
      " 0   word       6203 non-null   object \n",
      " 1   frequency  6203 non-null   int32  \n",
      " 2   sentiment  1420 non-null   float64\n",
      "dtypes: float64(1), int32(1), object(1)\n",
      "memory usage: 169.6+ KB\n"
     ]
    }
   ],
   "source": [
    "sentiment.info()"
   ]
  },
  {
   "cell_type": "code",
   "execution_count": 278,
   "metadata": {},
   "outputs": [],
   "source": [
    "bing = pd.read_csv(r\"C:\\Users\\svawe\\Downloads\\SentimentDictionaries\\bing.csv\").drop(columns = [\"Unnamed: 0\"])\n",
    "sentiment = df3.merge(bing, how = \"inner\", on = \"word\")\n",
    "senti_map = {\"negative\" : -1, \"positive\": 1}\n",
    "sentiment[\"sentiment\"] = sentiment[\"sentiment\"].map(senti_map)\n",
    "sentiment[\"sentiment_weighed\"] = sentiment[\"frequency\"] * sentiment[\"sentiment\"]"
   ]
  },
  {
   "cell_type": "code",
   "execution_count": 279,
   "metadata": {},
   "outputs": [
    {
     "data": {
      "text/html": [
       "<div>\n",
       "<style scoped>\n",
       "    .dataframe tbody tr th:only-of-type {\n",
       "        vertical-align: middle;\n",
       "    }\n",
       "\n",
       "    .dataframe tbody tr th {\n",
       "        vertical-align: top;\n",
       "    }\n",
       "\n",
       "    .dataframe thead th {\n",
       "        text-align: right;\n",
       "    }\n",
       "</style>\n",
       "<table border=\"1\" class=\"dataframe\">\n",
       "  <thead>\n",
       "    <tr style=\"text-align: right;\">\n",
       "      <th></th>\n",
       "      <th>word</th>\n",
       "      <th>frequency</th>\n",
       "      <th>sentiment</th>\n",
       "      <th>sentiment_weighed</th>\n",
       "    </tr>\n",
       "  </thead>\n",
       "  <tbody>\n",
       "    <tr>\n",
       "      <th>0</th>\n",
       "      <td>miss</td>\n",
       "      <td>283</td>\n",
       "      <td>-1</td>\n",
       "      <td>-283</td>\n",
       "    </tr>\n",
       "    <tr>\n",
       "      <th>1</th>\n",
       "      <td>good</td>\n",
       "      <td>203</td>\n",
       "      <td>1</td>\n",
       "      <td>203</td>\n",
       "    </tr>\n",
       "    <tr>\n",
       "      <th>2</th>\n",
       "      <td>great</td>\n",
       "      <td>142</td>\n",
       "      <td>1</td>\n",
       "      <td>142</td>\n",
       "    </tr>\n",
       "    <tr>\n",
       "      <th>3</th>\n",
       "      <td>well</td>\n",
       "      <td>105</td>\n",
       "      <td>1</td>\n",
       "      <td>105</td>\n",
       "    </tr>\n",
       "    <tr>\n",
       "      <th>4</th>\n",
       "      <td>pleasure</td>\n",
       "      <td>93</td>\n",
       "      <td>1</td>\n",
       "      <td>93</td>\n",
       "    </tr>\n",
       "  </tbody>\n",
       "</table>\n",
       "</div>"
      ],
      "text/plain": [
       "       word  frequency  sentiment  sentiment_weighed\n",
       "0      miss        283         -1               -283\n",
       "1      good        203          1                203\n",
       "2     great        142          1                142\n",
       "3      well        105          1                105\n",
       "4  pleasure         93          1                 93"
      ]
     },
     "execution_count": 279,
     "metadata": {},
     "output_type": "execute_result"
    }
   ],
   "source": [
    "sentiment.head()"
   ]
  },
  {
   "cell_type": "code",
   "execution_count": 281,
   "metadata": {},
   "outputs": [
    {
     "data": {
      "text/plain": [
       "0.8549295774647887"
      ]
     },
     "execution_count": 281,
     "metadata": {},
     "output_type": "execute_result"
    }
   ],
   "source": [
    "np.mean(sentiment.sentiment_weighed)"
   ]
  },
  {
   "cell_type": "markdown",
   "metadata": {},
   "source": [
    "# 1. Import and examine data"
   ]
  },
  {
   "cell_type": "code",
   "execution_count": null,
   "metadata": {},
   "outputs": [
    {
     "data": {
      "text/html": [
       "<div>\n",
       "<style scoped>\n",
       "    .dataframe tbody tr th:only-of-type {\n",
       "        vertical-align: middle;\n",
       "    }\n",
       "\n",
       "    .dataframe tbody tr th {\n",
       "        vertical-align: top;\n",
       "    }\n",
       "\n",
       "    .dataframe thead th {\n",
       "        text-align: right;\n",
       "    }\n",
       "</style>\n",
       "<table border=\"1\" class=\"dataframe\">\n",
       "  <thead>\n",
       "    <tr style=\"text-align: right;\">\n",
       "      <th></th>\n",
       "      <th>content</th>\n",
       "      <th>target</th>\n",
       "      <th>target_names</th>\n",
       "    </tr>\n",
       "  </thead>\n",
       "  <tbody>\n",
       "    <tr>\n",
       "      <th>0</th>\n",
       "      <td>From: lerxst@wam.umd.edu (where's my thing)\\nS...</td>\n",
       "      <td>7</td>\n",
       "      <td>rec.autos</td>\n",
       "    </tr>\n",
       "    <tr>\n",
       "      <th>1</th>\n",
       "      <td>From: guykuo@carson.u.washington.edu (Guy Kuo)...</td>\n",
       "      <td>4</td>\n",
       "      <td>comp.sys.mac.hardware</td>\n",
       "    </tr>\n",
       "    <tr>\n",
       "      <th>2</th>\n",
       "      <td>From: twillis@ec.ecn.purdue.edu (Thomas E Will...</td>\n",
       "      <td>4</td>\n",
       "      <td>comp.sys.mac.hardware</td>\n",
       "    </tr>\n",
       "    <tr>\n",
       "      <th>3</th>\n",
       "      <td>From: jgreen@amber (Joe Green)\\nSubject: Re: W...</td>\n",
       "      <td>1</td>\n",
       "      <td>comp.graphics</td>\n",
       "    </tr>\n",
       "    <tr>\n",
       "      <th>4</th>\n",
       "      <td>From: jcm@head-cfa.harvard.edu (Jonathan McDow...</td>\n",
       "      <td>14</td>\n",
       "      <td>sci.space</td>\n",
       "    </tr>\n",
       "  </tbody>\n",
       "</table>\n",
       "</div>"
      ],
      "text/plain": [
       "                                             content  target  \\\n",
       "0  From: lerxst@wam.umd.edu (where's my thing)\\nS...       7   \n",
       "1  From: guykuo@carson.u.washington.edu (Guy Kuo)...       4   \n",
       "2  From: twillis@ec.ecn.purdue.edu (Thomas E Will...       4   \n",
       "3  From: jgreen@amber (Joe Green)\\nSubject: Re: W...       1   \n",
       "4  From: jcm@head-cfa.harvard.edu (Jonathan McDow...      14   \n",
       "\n",
       "            target_names  \n",
       "0              rec.autos  \n",
       "1  comp.sys.mac.hardware  \n",
       "2  comp.sys.mac.hardware  \n",
       "3          comp.graphics  \n",
       "4              sci.space  "
      ]
     },
     "execution_count": 195,
     "metadata": {},
     "output_type": "execute_result"
    }
   ],
   "source": [
    "# Import dataset\n",
    "df = pd.read_json('https://raw.githubusercontent.com/selva86/datasets/master/newsgroups.json')\n",
    "df.head()"
   ]
  },
  {
   "cell_type": "code",
   "execution_count": null,
   "metadata": {},
   "outputs": [
    {
     "name": "stdout",
     "output_type": "stream",
     "text": [
      "Possible tagret values:\n",
      "['rec.autos' 'comp.sys.mac.hardware' 'comp.graphics' 'sci.space'\n",
      " 'talk.politics.guns' 'sci.med' 'comp.sys.ibm.pc.hardware'\n",
      " 'comp.os.ms-windows.misc' 'rec.motorcycles' 'talk.religion.misc'\n",
      " 'misc.forsale' 'alt.atheism' 'sci.electronics' 'comp.windows.x'\n",
      " 'rec.sport.hockey' 'rec.sport.baseball' 'soc.religion.christian'\n",
      " 'talk.politics.mideast' 'talk.politics.misc' 'sci.crypt']\n",
      " \n",
      "Class distribution:\n",
      "rec.sport.hockey            600\n",
      "soc.religion.christian      599\n",
      "rec.motorcycles             598\n",
      "rec.sport.baseball          597\n",
      "sci.crypt                   595\n",
      "rec.autos                   594\n",
      "sci.med                     594\n",
      "comp.windows.x              593\n",
      "sci.space                   593\n",
      "comp.os.ms-windows.misc     591\n",
      "sci.electronics             591\n",
      "comp.sys.ibm.pc.hardware    590\n",
      "misc.forsale                585\n",
      "comp.graphics               584\n",
      "comp.sys.mac.hardware       578\n",
      "talk.politics.mideast       564\n",
      "talk.politics.guns          546\n",
      "alt.atheism                 480\n",
      "talk.politics.misc          465\n",
      "talk.religion.misc          377\n",
      "Name: target_names, dtype: int64\n"
     ]
    }
   ],
   "source": [
    "# Examine dataset\n",
    "print('Possible tagret values:')\n",
    "print(df.target_names.unique())\n",
    "print(' ')\n",
    "print('Class distribution:')\n",
    "print(df.target_names.value_counts())"
   ]
  },
  {
   "cell_type": "markdown",
   "metadata": {},
   "source": [
    "*The classes are almost uniformly distributed.*"
   ]
  },
  {
   "cell_type": "code",
   "execution_count": null,
   "metadata": {},
   "outputs": [
    {
     "name": "stdout",
     "output_type": "stream",
     "text": [
      "From: lerxst@wam.umd.edu (where's my thing)\n",
      "Subject: WHAT car is this!?\n",
      "Nntp-Posting-Host: rac3.wam.umd.edu\n",
      "Organization: University of Maryland, College Park\n",
      "Lines: 15\n",
      "\n",
      " I was wondering if anyone out there could enlighten me on this car I saw\n",
      "the other day. It was a 2-door sports car, looked to be from the late 60s/\n",
      "early 70s. It was called a Bricklin. The doors were really small. In addition,\n",
      "the front bumper was separate from the rest of the body. This is \n",
      "all I know. If anyone can tellme a model name, engine specs, years\n",
      "of production, where this car is made, history, or whatever info you\n",
      "have on this funky looking car, please e-mail.\n",
      "\n",
      "Thanks,\n",
      "- IL\n",
      "   ---- brought to you by your neighborhood Lerxst ----\n",
      "\n",
      "\n",
      "\n",
      "\n",
      "\n"
     ]
    },
    {
     "data": {
      "text/plain": [
       "\"From: lerxst@wam.umd.edu (where's my thing)\\nSubject: WHAT car is this!?\\nNntp-Posting-Host: rac3.wam.umd.edu\\nOrganization: University of Maryland, College Park\\nLines: 15\\n\\n I was wondering if anyone out there could enlighten me on this car I saw\\nthe other day. It was a 2-door sports car, looked to be from the late 60s/\\nearly 70s. It was called a Bricklin. The doors were really small. In addition,\\nthe front bumper was separate from the rest of the body. This is \\nall I know. If anyone can tellme a model name, engine specs, years\\nof production, where this car is made, history, or whatever info you\\nhave on this funky looking car, please e-mail.\\n\\nThanks,\\n- IL\\n   ---- brought to you by your neighborhood Lerxst ----\\n\\n\\n\\n\\n\""
      ]
     },
     "execution_count": 197,
     "metadata": {},
     "output_type": "execute_result"
    }
   ],
   "source": [
    "print(df.content[0])\n",
    "df.content[0]"
   ]
  },
  {
   "cell_type": "code",
   "execution_count": null,
   "metadata": {},
   "outputs": [
    {
     "data": {
      "text/plain": [
       "['From:', 'Nntp-Posting-Host:', 'Organization:', 'Lines:', '-', '   ----']"
      ]
     },
     "execution_count": 198,
     "metadata": {},
     "output_type": "execute_result"
    }
   ],
   "source": [
    "re.findall('(?m)^(From:|Article-I.D.:|Organization:|Lines:|Nntp-Posting-Host:|Distribution:|Reply-To:|X-Newsreader:|Expires:|\\s*-+)', df.content[0])"
   ]
  },
  {
   "cell_type": "code",
   "execution_count": 199,
   "metadata": {
    "colab": {
     "base_uri": "https://localhost:8080/"
    },
    "id": "Q7jMvsLhBT-b",
    "outputId": "cb466505-efa2-4c8e-9dee-8d84ee03122c"
   },
   "outputs": [
    {
     "data": {
      "text/plain": [
       "<re.Match object; span=(0, 5), match='From:'>"
      ]
     },
     "execution_count": 199,
     "metadata": {},
     "output_type": "execute_result"
    }
   ],
   "source": [
    "re.search('(?m)^(From:|Article-I.D.:|Organization:|Lines:|Nntp-Posting-Host:|Distribution:|Reply-To:|X-Newsreader:|Expires:)', df.content[0])"
   ]
  },
  {
   "cell_type": "code",
   "execution_count": 200,
   "metadata": {
    "colab": {
     "base_uri": "https://localhost:8080/",
     "height": 123
    },
    "id": "yAHUtkXpASnn",
    "outputId": "05c04310-df45-4b9b-ed49-4c9cb535495e"
   },
   "outputs": [
    {
     "data": {
      "text/plain": [
       "'Subject: WHAT car is this!?\\n\\n I was wondering if anyone out there could enlighten me on this car I saw\\nthe other day. It was a 2-door sports car, looked to be from the late 60s/\\nearly 70s. It was called a Bricklin. The doors were really small. In addition,\\nthe front bumper was separate from the rest of the body. This is \\nall I know. If anyone can tellme a model name, engine specs, years\\nof production, where this car is made, history, or whatever info you\\nhave on this funky looking car, please e-mail.\\n\\nThanks,\\n\\n\\n\\n\\n'"
      ]
     },
     "execution_count": 200,
     "metadata": {},
     "output_type": "execute_result"
    }
   ],
   "source": [
    "re.sub('(?m)^(From:|Article-I.D.:|Organization:|Lines:|Nntp-Posting-Host:|Distribution:|Reply-To:|X-Newsreader:|Expires:|\\s*-+).*\\n', '', df.content[0], flags=re.I)"
   ]
  }
 ],
 "metadata": {
  "colab": {
   "collapsed_sections": [],
   "name": "Class1.ipynb",
   "provenance": [],
   "toc_visible": true
  },
  "kernelspec": {
   "display_name": "Python 3 (ipykernel)",
   "language": "python",
   "name": "python3"
  },
  "language_info": {
   "codemirror_mode": {
    "name": "ipython",
    "version": 3
   },
   "file_extension": ".py",
   "mimetype": "text/x-python",
   "name": "python",
   "nbconvert_exporter": "python",
   "pygments_lexer": "ipython3",
   "version": "3.9.7"
  }
 },
 "nbformat": 4,
 "nbformat_minor": 4
}
