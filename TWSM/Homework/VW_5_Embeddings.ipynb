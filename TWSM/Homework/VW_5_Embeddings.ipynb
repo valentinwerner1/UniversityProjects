{
  "cells": [
    {
      "cell_type": "markdown",
      "metadata": {
        "id": "view-in-github",
        "colab_type": "text"
      },
      "source": [
        "<a href=\"https://colab.research.google.com/github/valentinwerner1/UniversityProjects/blob/main/TWSM/Homework/VW_5_Embeddings.ipynb\" target=\"_parent\"><img src=\"https://colab.research.google.com/assets/colab-badge.svg\" alt=\"Open In Colab\"/></a>"
      ]
    },
    {
      "cell_type": "markdown",
      "source": [
        "### Libraries"
      ],
      "metadata": {
        "id": "L0HoGesYBC1E"
      }
    },
    {
      "cell_type": "code",
      "source": [
        "from google.colab import drive\n",
        "drive.mount('/content/drive')\n",
        "#TWSM_path = \"/content/drive/MyDrive/teaching/TWSM/\"\n",
        "\n",
        "#from TWSM import *\n",
        "from keras.callbacks import EarlyStopping, ModelCheckpoint\n",
        "from keras.layers import Dense, Dropout, BatchNormalization\n",
        "from keras.models import Sequential, load_model \n",
        "import tensorflow as tf\n",
        "import spacy\n",
        "import numpy as np\n",
        "## Import packages\n",
        "import pickle\n",
        "import pandas as pd\n",
        "from gensim.models import Word2Vec\n",
        "import matplotlib.pyplot as plt\n",
        "import seaborn as sns\n",
        "from sklearn.metrics import confusion_matrix, accuracy_score\n",
        "from scipy.spatial.distance import cosine\n",
        "# run this from a normal command line\n",
        "#!python -m spacy download en_core_web_md #160MB\n"
      ],
      "metadata": {
        "id": "4k1Km8WrvyWM",
        "colab": {
          "base_uri": "https://localhost:8080/"
        },
        "outputId": "6af953f6-2efe-4e1c-8881-221e69fce056"
      },
      "execution_count": 97,
      "outputs": [
        {
          "output_type": "stream",
          "name": "stdout",
          "text": [
            "Drive already mounted at /content/drive; to attempt to forcibly remount, call drive.mount(\"/content/drive\", force_remount=True).\n"
          ]
        }
      ]
    },
    {
      "cell_type": "code",
      "source": [
        "!pip install whatlies"
      ],
      "metadata": {
        "id": "RaL0PTnTkiWJ"
      },
      "execution_count": null,
      "outputs": []
    },
    {
      "cell_type": "markdown",
      "source": [
        "https://stackoverflow.com/questions/56927602/unable-to-load-the-spacy-model-en-core-web-lg-on-google-colab\n",
        "\n",
        "Now, *** restart the colab runtime *** !!"
      ],
      "metadata": {
        "id": "n359prBLepXE"
      }
    },
    {
      "cell_type": "markdown",
      "source": [
        "## Data"
      ],
      "metadata": {
        "id": "YhEZsOc7BVqY"
      }
    },
    {
      "cell_type": "markdown",
      "source": [
        "**IMD Movie Reviews**"
      ],
      "metadata": {
        "id": "e3ofzmU3fbUH"
      }
    },
    {
      "cell_type": "code",
      "source": [
        "from tensorflow.keras.datasets import imdb\n",
        "(train_data, train_labels), (test_data, test_labels) = imdb.load_data(\n",
        "    num_words=10000)\n",
        "full_docs = np.concatenate((train_data, test_data))"
      ],
      "metadata": {
        "id": "inHlYXX-gCJx",
        "outputId": "0f70b57f-3cc4-4e47-84a1-55f7317f0a33",
        "colab": {
          "base_uri": "https://localhost:8080/"
        }
      },
      "execution_count": null,
      "outputs": [
        {
          "output_type": "stream",
          "name": "stdout",
          "text": [
            "Downloading data from https://storage.googleapis.com/tensorflow/tf-keras-datasets/imdb.npz\n",
            "17465344/17464789 [==============================] - 0s 0us/step\n",
            "17473536/17464789 [==============================] - 0s 0us/step\n"
          ]
        }
      ]
    },
    {
      "cell_type": "code",
      "source": [
        "#turn all ints to words\n",
        "word_index = imdb.get_word_index()\n",
        "reverse_word_index = dict(\n",
        "    [(value, key) for (key, value) in word_index.items()])\n",
        "dec_reviews = [\"\" for x in range(full_docs.shape[0])]\n",
        "for j in range(full_docs.shape[0]):\n",
        "    dec_reviews[j] = \" \".join(\n",
        "    [reverse_word_index.get(i - 3, \"?\") for i in full_docs[j]])"
      ],
      "metadata": {
        "id": "6fKvo1hDXOY4",
        "colab": {
          "base_uri": "https://localhost:8080/"
        },
        "outputId": "dd82567e-3638-454c-9e83-535e3745094f"
      },
      "execution_count": null,
      "outputs": [
        {
          "output_type": "stream",
          "name": "stdout",
          "text": [
            "Downloading data from https://storage.googleapis.com/tensorflow/tf-keras-datasets/imdb_word_index.json\n",
            "1646592/1641221 [==============================] - 0s 0us/step\n",
            "1654784/1641221 [==============================] - 0s 0us/step\n"
          ]
        }
      ]
    },
    {
      "cell_type": "code",
      "source": [
        "#resplit\n",
        "train = dec_reviews[:25000]\n",
        "test = dec_reviews[25000:]\n",
        "len(train), len(test)"
      ],
      "metadata": {
        "id": "Q_YQ7MCIcgeY",
        "outputId": "55000436-a6af-433b-b4ad-feb185f79c4b",
        "colab": {
          "base_uri": "https://localhost:8080/"
        }
      },
      "execution_count": null,
      "outputs": [
        {
          "output_type": "execute_result",
          "data": {
            "text/plain": [
              "(25000, 25000)"
            ]
          },
          "metadata": {},
          "execution_count": 4
        }
      ]
    },
    {
      "cell_type": "code",
      "source": [
        "#Task1\n",
        "#corpus\n",
        "corpus_gen=[doc.split() for doc in train]\n",
        "corpus_test = [doc.split() for doc in test]\n",
        "#Word2Vec\n",
        "model = Word2Vec(corpus_gen, size = 100, min_count = 566)"
      ],
      "metadata": {
        "id": "ALGEhstqYH5S"
      },
      "execution_count": null,
      "outputs": []
    },
    {
      "cell_type": "code",
      "source": [
        "#Task2\n",
        "corpus_new = [[model.wv[word.strip()] for word in doc if word in model.wv.vocab.keys()] for doc in corpus_gen]\n",
        "train = [np.mean(doc, axis = 0) for doc in corpus_new if len(doc) != 0]\n",
        "\n",
        "corpus_new_2 = [[model.wv[word.strip()] for word in doc if word in model.wv.vocab.keys()] for doc in corpus_test]\n",
        "test = [np.mean(doc, axis = 0) for doc in corpus_new_2 if len(doc) != 0]"
      ],
      "metadata": {
        "id": "6MBER3uNYQU-"
      },
      "execution_count": null,
      "outputs": []
    },
    {
      "cell_type": "code",
      "source": [
        "train = np.array(train)\n",
        "test = np.array(test)"
      ],
      "metadata": {
        "id": "uMb6EKn-hru2"
      },
      "execution_count": null,
      "outputs": []
    },
    {
      "cell_type": "code",
      "source": [
        "train.shape, test.shape, train_labels.shape, test_labels.shape"
      ],
      "metadata": {
        "id": "PxZBE6-JeDXW",
        "outputId": "43e77fc7-c026-42b4-fed8-ddc3a0a542bc",
        "colab": {
          "base_uri": "https://localhost:8080/"
        }
      },
      "execution_count": null,
      "outputs": [
        {
          "output_type": "execute_result",
          "data": {
            "text/plain": [
              "((25000, 100), (25000, 100), (25000,), (25000,))"
            ]
          },
          "metadata": {},
          "execution_count": 8
        }
      ]
    },
    {
      "cell_type": "code",
      "source": [
        "from sklearn.model_selection import train_test_split\n",
        "x_train, x_val, y_train, y_val = train_test_split(train, y_train, test_size=0.30, random_state=1, stratify = y_train)"
      ],
      "metadata": {
        "id": "NwDDEIOzjDyP"
      },
      "execution_count": null,
      "outputs": []
    },
    {
      "cell_type": "code",
      "source": [
        "def plot(y_test, NN_preds, fit):\n",
        "    \"\"\"return the final confusion matrix, loss plot and accuracy,\n",
        "    plotting for binary targets\"\"\"\n",
        "    max_acc = max(fit.history[\"val_binary_accuracy\"])\n",
        "    max_acc_index = fit.history[\"val_binary_accuracy\"].index(max_acc)\n",
        "    print(f\"best validation accuracy was found at {max_acc} on epoch {max_acc_index}\")\n",
        "    print(f\"test accuracy of the model is {accuracy_score(y_test, NN_preds)}\")\n",
        "\n",
        "    fig, ax = plt.subplots(1, 3, figsize = (30,8))\n",
        "    cm = confusion_matrix(y_test, NN_preds, labels=[0,1])\n",
        "    cm_matrix = pd.DataFrame(data=cm, columns=[\"Predicted: 0\",'Predicted: 1'], index=['Actual:0','Actual:1'])\n",
        "    sns.heatmap(cm_matrix, annot=True, fmt='d', cmap='YlGnBu', ax = ax[0])\n",
        "    plt.title(\"Classification for test data\")\n",
        "\n",
        "    loss = fit.history[\"loss\"]\n",
        "    test_loss = fit.history[\"val_loss\"]\n",
        "    epochs = range(1, len(loss)+1)\n",
        "    sns.lineplot(x = epochs, y = loss, color = \"b\", label = \"Training loss\", ax = ax[1])\n",
        "    sns.lineplot(x = epochs, y = test_loss, color = \"g\", label = \"Validation loss\", ax = ax[1])\n",
        "    plt.title(\"Loss over epochs\")\n",
        "\n",
        "    train_acc = fit.history[\"binary_accuracy\"]\n",
        "    test_acc = fit.history[\"val_binary_accuracy\"]\n",
        "    sns.lineplot(x = epochs, y =train_acc, color = \"b\", label = \"Training accuracy\", ax = ax[2])\n",
        "    sns.lineplot(x = epochs, y = test_acc, color = \"g\", label = \"Validation accuracy\", ax = ax[2])\n",
        "    ax[2].axhline(max_acc, color = \"r\", label = f\"Maximum Validation Accuracy = {round(max_acc,3)}\")\n",
        "    plt.legend()\n",
        "    plt.title(\"Accuracy over epochs\")"
      ],
      "metadata": {
        "id": "0dhxJWvHi8bW"
      },
      "execution_count": null,
      "outputs": []
    },
    {
      "cell_type": "code",
      "source": [
        "#Task3\n",
        "model = Sequential()\n",
        "model.add(Dense(40, input_shape = (len(train[0]),), activation = \"relu\"))\n",
        "model.add(Dense(40, activation = \"relu\"))\n",
        "model.add(Dense(1, activation = \"sigmoid\"))\n",
        "\n",
        "opt = tf.keras.optimizers.Adam(lr = 0.0001)\n",
        "model.compile(loss = \"BinaryCrossentropy\", optimizer = opt, metrics = [\"BinaryAccuracy\"])\n",
        "early_stop = EarlyStopping(patience = 25, monitor = \"val_binary_accuracy\", restore_best_weights = True)\n",
        "\n",
        "fit = model.fit(x_train, y_train, validation_data = (x_val, y_val), epochs = 300, verbose = 1, batch_size = 64, callbacks = [early_stop])"
      ],
      "metadata": {
        "id": "QEGJwEM9Zknj",
        "outputId": "ad58dae2-491a-4023-f9fd-5cc2bd7569e2",
        "colab": {
          "base_uri": "https://localhost:8080/"
        }
      },
      "execution_count": null,
      "outputs": [
        {
          "output_type": "stream",
          "name": "stdout",
          "text": [
            "Epoch 1/300\n"
          ]
        },
        {
          "output_type": "stream",
          "name": "stderr",
          "text": [
            "/usr/local/lib/python3.7/dist-packages/keras/optimizer_v2/adam.py:105: UserWarning: The `lr` argument is deprecated, use `learning_rate` instead.\n",
            "  super(Adam, self).__init__(name, **kwargs)\n"
          ]
        },
        {
          "output_type": "stream",
          "name": "stdout",
          "text": [
            "274/274 [==============================] - 2s 4ms/step - loss: 0.6750 - binary_accuracy: 0.5969 - val_loss: 0.6615 - val_binary_accuracy: 0.6196\n",
            "Epoch 2/300\n",
            "274/274 [==============================] - 1s 2ms/step - loss: 0.6355 - binary_accuracy: 0.6554 - val_loss: 0.6060 - val_binary_accuracy: 0.6967\n",
            "Epoch 3/300\n",
            "274/274 [==============================] - 1s 2ms/step - loss: 0.5628 - binary_accuracy: 0.7404 - val_loss: 0.5182 - val_binary_accuracy: 0.7628\n",
            "Epoch 4/300\n",
            "274/274 [==============================] - 1s 2ms/step - loss: 0.4858 - binary_accuracy: 0.7845 - val_loss: 0.4555 - val_binary_accuracy: 0.7996\n",
            "Epoch 5/300\n",
            "274/274 [==============================] - 1s 2ms/step - loss: 0.4431 - binary_accuracy: 0.8020 - val_loss: 0.4273 - val_binary_accuracy: 0.8091\n",
            "Epoch 6/300\n",
            "274/274 [==============================] - 1s 2ms/step - loss: 0.4234 - binary_accuracy: 0.8103 - val_loss: 0.4137 - val_binary_accuracy: 0.8176\n",
            "Epoch 7/300\n",
            "274/274 [==============================] - 1s 2ms/step - loss: 0.4133 - binary_accuracy: 0.8152 - val_loss: 0.4076 - val_binary_accuracy: 0.8167\n",
            "Epoch 8/300\n",
            "274/274 [==============================] - 1s 2ms/step - loss: 0.4074 - binary_accuracy: 0.8170 - val_loss: 0.4031 - val_binary_accuracy: 0.8193\n",
            "Epoch 9/300\n",
            "274/274 [==============================] - 1s 2ms/step - loss: 0.4035 - binary_accuracy: 0.8205 - val_loss: 0.4003 - val_binary_accuracy: 0.8211\n",
            "Epoch 10/300\n",
            "274/274 [==============================] - 1s 2ms/step - loss: 0.4007 - binary_accuracy: 0.8213 - val_loss: 0.3991 - val_binary_accuracy: 0.8200\n",
            "Epoch 11/300\n",
            "274/274 [==============================] - 1s 2ms/step - loss: 0.3982 - binary_accuracy: 0.8226 - val_loss: 0.3974 - val_binary_accuracy: 0.8225\n",
            "Epoch 12/300\n",
            "274/274 [==============================] - 1s 2ms/step - loss: 0.3968 - binary_accuracy: 0.8229 - val_loss: 0.3966 - val_binary_accuracy: 0.8205\n",
            "Epoch 13/300\n",
            "274/274 [==============================] - 1s 2ms/step - loss: 0.3952 - binary_accuracy: 0.8253 - val_loss: 0.3958 - val_binary_accuracy: 0.8193\n",
            "Epoch 14/300\n",
            "274/274 [==============================] - 1s 2ms/step - loss: 0.3939 - binary_accuracy: 0.8261 - val_loss: 0.3946 - val_binary_accuracy: 0.8224\n",
            "Epoch 15/300\n",
            "274/274 [==============================] - 1s 2ms/step - loss: 0.3928 - binary_accuracy: 0.8265 - val_loss: 0.3934 - val_binary_accuracy: 0.8241\n",
            "Epoch 16/300\n",
            "274/274 [==============================] - 1s 2ms/step - loss: 0.3917 - binary_accuracy: 0.8273 - val_loss: 0.3933 - val_binary_accuracy: 0.8221\n",
            "Epoch 17/300\n",
            "274/274 [==============================] - 1s 2ms/step - loss: 0.3908 - binary_accuracy: 0.8286 - val_loss: 0.3929 - val_binary_accuracy: 0.8220\n",
            "Epoch 18/300\n",
            "274/274 [==============================] - 1s 2ms/step - loss: 0.3899 - binary_accuracy: 0.8261 - val_loss: 0.3924 - val_binary_accuracy: 0.8228\n",
            "Epoch 19/300\n",
            "274/274 [==============================] - 1s 2ms/step - loss: 0.3891 - binary_accuracy: 0.8281 - val_loss: 0.3926 - val_binary_accuracy: 0.8192\n",
            "Epoch 20/300\n",
            "274/274 [==============================] - 1s 2ms/step - loss: 0.3883 - binary_accuracy: 0.8287 - val_loss: 0.3919 - val_binary_accuracy: 0.8243\n",
            "Epoch 21/300\n",
            "274/274 [==============================] - 1s 2ms/step - loss: 0.3873 - binary_accuracy: 0.8289 - val_loss: 0.3923 - val_binary_accuracy: 0.8213\n",
            "Epoch 22/300\n",
            "274/274 [==============================] - 1s 2ms/step - loss: 0.3868 - binary_accuracy: 0.8290 - val_loss: 0.3904 - val_binary_accuracy: 0.8249\n",
            "Epoch 23/300\n",
            "274/274 [==============================] - 1s 2ms/step - loss: 0.3862 - binary_accuracy: 0.8302 - val_loss: 0.3904 - val_binary_accuracy: 0.8235\n",
            "Epoch 24/300\n",
            "274/274 [==============================] - 1s 2ms/step - loss: 0.3855 - binary_accuracy: 0.8311 - val_loss: 0.3905 - val_binary_accuracy: 0.8209\n",
            "Epoch 25/300\n",
            "274/274 [==============================] - 1s 2ms/step - loss: 0.3851 - binary_accuracy: 0.8303 - val_loss: 0.3909 - val_binary_accuracy: 0.8217\n",
            "Epoch 26/300\n",
            "274/274 [==============================] - 1s 2ms/step - loss: 0.3847 - binary_accuracy: 0.8307 - val_loss: 0.3897 - val_binary_accuracy: 0.8228\n",
            "Epoch 27/300\n",
            "274/274 [==============================] - 1s 2ms/step - loss: 0.3838 - binary_accuracy: 0.8315 - val_loss: 0.3898 - val_binary_accuracy: 0.8239\n",
            "Epoch 28/300\n",
            "274/274 [==============================] - 1s 2ms/step - loss: 0.3833 - binary_accuracy: 0.8309 - val_loss: 0.3897 - val_binary_accuracy: 0.8213\n",
            "Epoch 29/300\n",
            "274/274 [==============================] - 1s 2ms/step - loss: 0.3829 - binary_accuracy: 0.8310 - val_loss: 0.3898 - val_binary_accuracy: 0.8199\n",
            "Epoch 30/300\n",
            "274/274 [==============================] - 1s 2ms/step - loss: 0.3825 - binary_accuracy: 0.8311 - val_loss: 0.3900 - val_binary_accuracy: 0.8223\n",
            "Epoch 31/300\n",
            "274/274 [==============================] - 1s 2ms/step - loss: 0.3821 - binary_accuracy: 0.8317 - val_loss: 0.3898 - val_binary_accuracy: 0.8227\n",
            "Epoch 32/300\n",
            "274/274 [==============================] - 1s 2ms/step - loss: 0.3813 - binary_accuracy: 0.8330 - val_loss: 0.3907 - val_binary_accuracy: 0.8205\n",
            "Epoch 33/300\n",
            "274/274 [==============================] - 1s 2ms/step - loss: 0.3810 - binary_accuracy: 0.8319 - val_loss: 0.3902 - val_binary_accuracy: 0.8208\n",
            "Epoch 34/300\n",
            "274/274 [==============================] - 1s 2ms/step - loss: 0.3808 - binary_accuracy: 0.8319 - val_loss: 0.3883 - val_binary_accuracy: 0.8232\n",
            "Epoch 35/300\n",
            "274/274 [==============================] - 1s 2ms/step - loss: 0.3802 - binary_accuracy: 0.8315 - val_loss: 0.3888 - val_binary_accuracy: 0.8229\n",
            "Epoch 36/300\n",
            "274/274 [==============================] - 1s 2ms/step - loss: 0.3796 - binary_accuracy: 0.8326 - val_loss: 0.3882 - val_binary_accuracy: 0.8221\n",
            "Epoch 37/300\n",
            "274/274 [==============================] - 1s 2ms/step - loss: 0.3792 - binary_accuracy: 0.8324 - val_loss: 0.3888 - val_binary_accuracy: 0.8220\n",
            "Epoch 38/300\n",
            "274/274 [==============================] - 1s 2ms/step - loss: 0.3787 - binary_accuracy: 0.8325 - val_loss: 0.3891 - val_binary_accuracy: 0.8220\n",
            "Epoch 39/300\n",
            "274/274 [==============================] - 1s 2ms/step - loss: 0.3786 - binary_accuracy: 0.8319 - val_loss: 0.3880 - val_binary_accuracy: 0.8221\n",
            "Epoch 40/300\n",
            "274/274 [==============================] - 1s 3ms/step - loss: 0.3781 - binary_accuracy: 0.8324 - val_loss: 0.3886 - val_binary_accuracy: 0.8221\n",
            "Epoch 41/300\n",
            "274/274 [==============================] - 1s 3ms/step - loss: 0.3777 - binary_accuracy: 0.8332 - val_loss: 0.3890 - val_binary_accuracy: 0.8232\n",
            "Epoch 42/300\n",
            "274/274 [==============================] - 1s 2ms/step - loss: 0.3772 - binary_accuracy: 0.8341 - val_loss: 0.3876 - val_binary_accuracy: 0.8227\n",
            "Epoch 43/300\n",
            "274/274 [==============================] - 1s 3ms/step - loss: 0.3767 - binary_accuracy: 0.8342 - val_loss: 0.3882 - val_binary_accuracy: 0.8224\n",
            "Epoch 44/300\n",
            "274/274 [==============================] - 1s 2ms/step - loss: 0.3762 - binary_accuracy: 0.8354 - val_loss: 0.3882 - val_binary_accuracy: 0.8219\n",
            "Epoch 45/300\n",
            "274/274 [==============================] - 1s 2ms/step - loss: 0.3763 - binary_accuracy: 0.8350 - val_loss: 0.3877 - val_binary_accuracy: 0.8237\n",
            "Epoch 46/300\n",
            "274/274 [==============================] - 1s 2ms/step - loss: 0.3756 - binary_accuracy: 0.8343 - val_loss: 0.3875 - val_binary_accuracy: 0.8248\n",
            "Epoch 47/300\n",
            "274/274 [==============================] - 1s 2ms/step - loss: 0.3752 - binary_accuracy: 0.8349 - val_loss: 0.3884 - val_binary_accuracy: 0.8239\n"
          ]
        }
      ]
    },
    {
      "cell_type": "code",
      "source": [
        "NN_preds = model.predict(test).round()\n",
        "plot(test_labels, NN_preds, fit)\n",
        "#the model predicts negative just as well as positive; its very balanced"
      ],
      "metadata": {
        "id": "pYiWKRZni-UC",
        "outputId": "b459563a-737e-40f4-ad27-3ec045345254",
        "colab": {
          "base_uri": "https://localhost:8080/",
          "height": 535
        }
      },
      "execution_count": null,
      "outputs": [
        {
          "output_type": "stream",
          "name": "stdout",
          "text": [
            "best validation accuracy was found at 0.8249333500862122 on epoch 21\n",
            "test accuracy of the model is 0.82672\n"
          ]
        },
        {
          "output_type": "display_data",
          "data": {
            "text/plain": [
              "<Figure size 2160x576 with 4 Axes>"
            ],
            "image/png": "[encoded data removed]"
          },
          "metadata": {
            "needs_background": "light"
          }
        }
      ]
    },
    {
      "cell_type": "code",
      "source": [
        "#Task4\n",
        "bing = pd.read_csv(\"/content/drive/MyDrive/bing.csv\").drop(columns = [\"Unnamed: 0\"])\n",
        "bing.head()"
      ],
      "metadata": {
        "id": "Uk_ZSsCuoV65",
        "colab": {
          "base_uri": "https://localhost:8080/",
          "height": 206
        },
        "outputId": "b1b6150b-6e46-4721-e65a-5d7bb67a5b36"
      },
      "execution_count": null,
      "outputs": [
        {
          "output_type": "execute_result",
          "data": {
            "text/plain": [
              "         word sentiment\n",
              "0     2-faces  negative\n",
              "1    abnormal  negative\n",
              "2     abolish  negative\n",
              "3  abominable  negative\n",
              "4  abominably  negative"
            ],
            "text/html": [
              "\n",
              "  <div id=\"df-5e649b28-0124-4891-a037-aeba74b59a1e\">\n",
              "    <div class=\"colab-df-container\">\n",
              "      <div>\n",
              "<style scoped>\n",
              "    .dataframe tbody tr th:only-of-type {\n",
              "        vertical-align: middle;\n",
              "    }\n",
              "\n",
              "    .dataframe tbody tr th {\n",
              "        vertical-align: top;\n",
              "    }\n",
              "\n",
              "    .dataframe thead th {\n",
              "        text-align: right;\n",
              "    }\n",
              "</style>\n",
              "<table border=\"1\" class=\"dataframe\">\n",
              "  <thead>\n",
              "    <tr style=\"text-align: right;\">\n",
              "      <th></th>\n",
              "      <th>word</th>\n",
              "      <th>sentiment</th>\n",
              "    </tr>\n",
              "  </thead>\n",
              "  <tbody>\n",
              "    <tr>\n",
              "      <th>0</th>\n",
              "      <td>2-faces</td>\n",
              "      <td>negative</td>\n",
              "    </tr>\n",
              "    <tr>\n",
              "      <th>1</th>\n",
              "      <td>abnormal</td>\n",
              "      <td>negative</td>\n",
              "    </tr>\n",
              "    <tr>\n",
              "      <th>2</th>\n",
              "      <td>abolish</td>\n",
              "      <td>negative</td>\n",
              "    </tr>\n",
              "    <tr>\n",
              "      <th>3</th>\n",
              "      <td>abominable</td>\n",
              "      <td>negative</td>\n",
              "    </tr>\n",
              "    <tr>\n",
              "      <th>4</th>\n",
              "      <td>abominably</td>\n",
              "      <td>negative</td>\n",
              "    </tr>\n",
              "  </tbody>\n",
              "</table>\n",
              "</div>\n",
              "      <button class=\"colab-df-convert\" onclick=\"convertToInteractive('df-5e649b28-0124-4891-a037-aeba74b59a1e')\"\n",
              "              title=\"Convert this dataframe to an interactive table.\"\n",
              "              style=\"display:none;\">\n",
              "        \n",
              "  <svg xmlns=\"http://www.w3.org/2000/svg\" height=\"24px\"viewBox=\"0 0 24 24\"\n",
              "       width=\"24px\">\n",
              "    <path d=\"M0 0h24v24H0V0z\" fill=\"none\"/>\n",
              "    <path d=\"M18.56 5.44l.94 2.06.94-2.06 2.06-.94-2.06-.94-.94-2.06-.94 2.06-2.06.94zm-11 1L8.5 8.5l.94-2.06 2.06-.94-2.06-.94L8.5 2.5l-.94 2.06-2.06.94zm10 10l.94 2.06.94-2.06 2.06-.94-2.06-.94-.94-2.06-.94 2.06-2.06.94z\"/><path d=\"M17.41 7.96l-1.37-1.37c-.4-.4-.92-.59-1.43-.59-.52 0-1.04.2-1.43.59L10.3 9.45l-7.72 7.72c-.78.78-.78 2.05 0 2.83L4 21.41c.39.39.9.59 1.41.59.51 0 1.02-.2 1.41-.59l7.78-7.78 2.81-2.81c.8-.78.8-2.07 0-2.86zM5.41 20L4 18.59l7.72-7.72 1.47 1.35L5.41 20z\"/>\n",
              "  </svg>\n",
              "      </button>\n",
              "      \n",
              "  <style>\n",
              "    .colab-df-container {\n",
              "      display:flex;\n",
              "      flex-wrap:wrap;\n",
              "      gap: 12px;\n",
              "    }\n",
              "\n",
              "    .colab-df-convert {\n",
              "      background-color: #E8F0FE;\n",
              "      border: none;\n",
              "      border-radius: 50%;\n",
              "      cursor: pointer;\n",
              "      display: none;\n",
              "      fill: #1967D2;\n",
              "      height: 32px;\n",
              "      padding: 0 0 0 0;\n",
              "      width: 32px;\n",
              "    }\n",
              "\n",
              "    .colab-df-convert:hover {\n",
              "      background-color: #E2EBFA;\n",
              "      box-shadow: 0px 1px 2px rgba(60, 64, 67, 0.3), 0px 1px 3px 1px rgba(60, 64, 67, 0.15);\n",
              "      fill: #174EA6;\n",
              "    }\n",
              "\n",
              "    [theme=dark] .colab-df-convert {\n",
              "      background-color: #3B4455;\n",
              "      fill: #D2E3FC;\n",
              "    }\n",
              "\n",
              "    [theme=dark] .colab-df-convert:hover {\n",
              "      background-color: #434B5C;\n",
              "      box-shadow: 0px 1px 3px 1px rgba(0, 0, 0, 0.15);\n",
              "      filter: drop-shadow(0px 1px 2px rgba(0, 0, 0, 0.3));\n",
              "      fill: #FFFFFF;\n",
              "    }\n",
              "  </style>\n",
              "\n",
              "      <script>\n",
              "        const buttonEl =\n",
              "          document.querySelector('#df-5e649b28-0124-4891-a037-aeba74b59a1e button.colab-df-convert');\n",
              "        buttonEl.style.display =\n",
              "          google.colab.kernel.accessAllowed ? 'block' : 'none';\n",
              "\n",
              "        async function convertToInteractive(key) {\n",
              "          const element = document.querySelector('#df-5e649b28-0124-4891-a037-aeba74b59a1e');\n",
              "          const dataTable =\n",
              "            await google.colab.kernel.invokeFunction('convertToInteractive',\n",
              "                                                     [key], {});\n",
              "          if (!dataTable) return;\n",
              "\n",
              "          const docLinkHtml = 'Like what you see? Visit the ' +\n",
              "            '<a target=\"_blank\" href=https://colab.research.google.com/notebooks/data_table.ipynb>data table notebook</a>'\n",
              "            + ' to learn more about interactive tables.';\n",
              "          element.innerHTML = '';\n",
              "          dataTable['output_type'] = 'display_data';\n",
              "          await google.colab.output.renderOutput(dataTable, element);\n",
              "          const docLink = document.createElement('div');\n",
              "          docLink.innerHTML = docLinkHtml;\n",
              "          element.appendChild(docLink);\n",
              "        }\n",
              "      </script>\n",
              "    </div>\n",
              "  </div>\n",
              "  "
            ]
          },
          "metadata": {},
          "execution_count": 15
        }
      ]
    },
    {
      "cell_type": "code",
      "source": [
        "corpus_pos = np.array(bing_pos).reshape(len(bing[bing.sentiment == \"positive\"].word),1)\n",
        "corpus_neg = np.array(bing_neg).reshape(len(bing[bing.sentiment == \"negative\"].word),1)"
      ],
      "metadata": {
        "id": "FWLVzfzgubld"
      },
      "execution_count": 70,
      "outputs": []
    },
    {
      "cell_type": "code",
      "source": [
        "# Train the model for embeddings of size 100 with min_count=1 (because there is only 1 \"sentence\")\n",
        "model_pos = Word2Vec(corpus_pos, size=100, min_count=1)\n",
        "model_neg = Word2Vec(corpus_neg, size=100, min_count=1)"
      ],
      "metadata": {
        "id": "u_9MZsywY23V"
      },
      "execution_count": 79,
      "outputs": []
    },
    {
      "cell_type": "code",
      "source": [
        "# Average word2vec corpus for positive sentiment \n",
        "#Code from Philipp\n",
        "corpus_w2v_pos=[[model_pos.wv[word] for word in doc if word in model_pos.wv.vocab.keys()] for doc in corpus_gen]\n",
        "positive=[i for i in range(len(corpus_gen)) if len(corpus_w2v_pos[i])>0]\n",
        "\n",
        "corpus_w2v2_pos=[corpus_w2v_pos[i] for i in positive]\n",
        "dec_rev_pos =[dec_reviews[i] for i in positive]\n",
        "\n",
        "# Document average representation\n",
        "corpus_w2v_avg_pos = [np.mean(doc, axis = 0) for doc in corpus_w2v2_pos]"
      ],
      "metadata": {
        "id": "qCK1_AsWbYgz"
      },
      "execution_count": 115,
      "outputs": []
    },
    {
      "cell_type": "code",
      "source": [
        "# Average word2vec corpus for negative sentiment \n",
        "#Code from Philipp\n",
        "corpus_w2v_neg=[[model_neg.wv[word] for word in doc if word in model_neg.wv.vocab.keys()] for doc in corpus_gen]\n",
        "positive=[i for i in range(len(corpus_gen)) if len(corpus_w2v_neg[i])>0]\n",
        "\n",
        "corpus_w2v2_neg=[corpus_w2v_neg[i] for i in positive]\n",
        "dec_rev_neg =[dec_reviews[i] for i in positive]\n",
        "\n",
        "# Document average representation\n",
        "corpus_w2v_avg_neg = [np.mean(doc, axis = 0) for doc in corpus_w2v2_neg]"
      ],
      "metadata": {
        "id": "r2pf_Qwhwi6i"
      },
      "execution_count": 116,
      "outputs": []
    },
    {
      "cell_type": "code",
      "source": [
        "#task5 (positive review)\n",
        "#Code from Philipp\n",
        "print(\"Most similar word to avg. embedding:\", model_neg.wv.similar_by_vector(corpus_w2v_avg_clean_neg[0], topn=1))\n",
        "print(\"Max cosine similarity to negative embedding:\", np.round(model_neg.wv.cosine_similarities(corpus_w2v_avg_clean_neg[0], model_neg.wv.vectors).max(),2))\n",
        "print(\"Avg. cosine similarity to negative embedding:\", np.round(model_neg.wv.cosine_similarities(corpus_w2v_avg_clean_neg[0], model_neg.wv.vectors).mean(),2))\n",
        "print(\"Avg. cosine similarity to negative embedding top 10:\", np.round(np.sort(model_neg.wv.cosine_similarities(corpus_w2v_avg_clean_neg[0], model_neg.wv.vectors))[::-1][:25].mean(),2))"
      ],
      "metadata": {
        "colab": {
          "base_uri": "https://localhost:8080/"
        },
        "id": "VWSNsA0cxulg",
        "outputId": "ebe13f36-bf1b-4c44-83a5-abd1e9776479"
      },
      "execution_count": 123,
      "outputs": [
        {
          "output_type": "stream",
          "name": "stdout",
          "text": [
            "Most similar word to avg. embedding: [('cry', 0.7189089059829712)]\n",
            "Max cosine similarity to negative embedding: 0.72\n",
            "Avg. cosine similarity to negative embedding: 0.0\n",
            "Avg. cosine similarity to negative embedding top 10: 0.33\n"
          ]
        }
      ]
    },
    {
      "cell_type": "code",
      "source": [
        "print(\"Most similar word to avg. embedding:\", model_pos.wv.similar_by_vector(corpus_w2v_avg_clean_pos[0], topn=1))\n",
        "print(\"Max cosine similarity to positive embedding:\", np.round(model_pos.wv.cosine_similarities(corpus_w2v_avg_clean_pos[0], model_pos.wv.vectors).max(),2))\n",
        "print(\"Avg. cosine similarity to positive embedding:\", np.round(model_pos.wv.cosine_similarities(corpus_w2v_avg_clean_pos[0], model_pos.wv.vectors).mean(),2))\n",
        "print(\"Avg. cosine similarity to positive embedding top 25:\", np.round(np.sort(model_pos.wv.cosine_similarities(corpus_w2v_avg_clean_pos[0], model_pos.wv.vectors))[::-1][:25].mean(),2))"
      ],
      "metadata": {
        "colab": {
          "base_uri": "https://localhost:8080/"
        },
        "id": "9y4mCtNa1wuQ",
        "outputId": "b1fa3c8c-d1eb-43a8-edb9-f881b74a51a3"
      },
      "execution_count": 124,
      "outputs": [
        {
          "output_type": "stream",
          "name": "stdout",
          "text": [
            "Most similar word to avg. embedding: [('amazing', 0.6390657424926758)]\n",
            "Max cosine similarity to positive embedding: 0.64\n",
            "Avg. cosine similarity to positive embedding: 0.0\n",
            "Avg. cosine similarity to positive embedding top 25: 0.31\n"
          ]
        }
      ]
    },
    {
      "cell_type": "markdown",
      "source": [
        "Seems like the review (although its labeled as positive) is pretty neutral. This may be due to the fact that words like \"cry\" are not necessarily negative in the movie context."
      ],
      "metadata": {
        "id": "e5F1pnyX16Xb"
      }
    },
    {
      "cell_type": "code",
      "source": [
        "dec_reviews[0]"
      ],
      "metadata": {
        "colab": {
          "base_uri": "https://localhost:8080/",
          "height": 107
        },
        "id": "H4jvwyJK235J",
        "outputId": "2ca8e979-c2d5-4261-feba-00bd28299bd9"
      },
      "execution_count": 122,
      "outputs": [
        {
          "output_type": "execute_result",
          "data": {
            "text/plain": [
              "\"? this film was just brilliant casting location scenery story direction everyone's really suited the part they played and you could just imagine being there robert ? is an amazing actor and now the same being director ? father came from the same scottish island as myself so i loved the fact there was a real connection with this film the witty remarks throughout the film were great it was just brilliant so much that i bought the film as soon as it was released for ? and would recommend it to everyone to watch and the fly fishing was amazing really cried at the end it was so sad and you know what they say if you cry at a film it must have been good and this definitely was also ? to the two little boy's that played the ? of norman and paul they were just brilliant children are often left out of the ? list i think because the stars that play them all grown up are such a big profile for the whole film but these children are amazing and should be praised for what they have done don't you think the whole story was so lovely because it was true and was someone's life after all that was shared with us all\""
            ],
            "application/vnd.google.colaboratory.intrinsic+json": {
              "type": "string"
            }
          },
          "metadata": {},
          "execution_count": 122
        }
      ]
    },
    {
      "cell_type": "markdown",
      "source": [
        "#### Tasks\n",
        "\n",
        "1. Train a word2vec model of dimension $100$ on the IMD data. (considering words appearing in more than 50 documents) Save the model if you like.\n",
        "\n",
        "2. Compute the embedding for each review (average word2vec)\n",
        "\n",
        "3. Fit a keras classifier to the embedded reviews. (2 hidden layers of size 40 each) Report/Monitor the accuracy on the test data.\n",
        "\n",
        "4. Load the bing sentiment dictionary. Compute two separate embeddings for the negative and positive sentiments.\n",
        "\n",
        "5. Compute the similarity between these two vectors and a few selected reviews. Does it agree with their label?\n"
      ],
      "metadata": {
        "id": "eA-8MKLQjT1U"
      }
    },
    {
      "cell_type": "markdown",
      "source": [
        "-------------------------------------------\n",
        "## Solution"
      ],
      "metadata": {
        "id": "tv2nL5C6s4_8"
      }
    }
  ],
  "metadata": {
    "colab": {
      "name": "VW_5_Embeddings.ipynb",
      "provenance": [],
      "collapsed_sections": [],
      "include_colab_link": true
    },
    "kernelspec": {
      "display_name": "Python 3",
      "language": "python",
      "name": "python3"
    },
    "language_info": {
      "codemirror_mode": {
        "name": "ipython",
        "version": 3
      },
      "file_extension": ".py",
      "mimetype": "text/x-python",
      "name": "python",
      "nbconvert_exporter": "python",
      "pygments_lexer": "ipython3",
      "version": "3.8.3"
    }
  },
  "nbformat": 4,
  "nbformat_minor": 0
}