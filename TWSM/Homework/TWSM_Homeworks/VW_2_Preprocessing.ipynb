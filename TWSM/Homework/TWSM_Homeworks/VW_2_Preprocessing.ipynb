{
 "cells": [
  {
   "cell_type": "code",
   "execution_count": 1,
   "id": "06bcdd5a-4545-415f-ba64-122c24206cf5",
   "metadata": {},
   "outputs": [
    {
     "name": "stderr",
     "output_type": "stream",
     "text": [
      "[nltk_data] Downloading package stopwords to\n",
      "[nltk_data]     C:\\Users\\svawe\\AppData\\Roaming\\nltk_data...\n",
      "[nltk_data]   Package stopwords is already up-to-date!\n"
     ]
    }
   ],
   "source": [
    "# Import packages\n",
    "import pandas as pd\n",
    "import re\n",
    "from gensim.parsing.preprocessing import STOPWORDS, strip_tags, strip_numeric, strip_punctuation, strip_multiple_whitespaces, remove_stopwords, strip_short, stem_text\n",
    "import pickle\n",
    "import en_core_web_sm\n",
    "import nltk\n",
    "nltk.download('stopwords')\n",
    "from nltk.corpus import stopwords\n",
    "import spacy\n",
    "\n",
    "import matplotlib.pyplot as plt\n",
    "import seaborn as sns\n",
    "sns.set_theme(style = \"whitegrid\")"
   ]
  },
  {
   "cell_type": "markdown",
   "id": "da8526b4-235f-4e0f-a774-958724e5e784",
   "metadata": {},
   "source": [
    "# Part A"
   ]
  },
  {
   "cell_type": "code",
   "execution_count": 2,
   "id": "0e3837aa-addd-40a1-b3f1-32e4da405efd",
   "metadata": {},
   "outputs": [],
   "source": [
    "df = pd.read_json(\"https://raw.githubusercontent.com/selva86/datasets/master/newsgroups.json\")"
   ]
  },
  {
   "cell_type": "code",
   "execution_count": 3,
   "id": "955b225e-2a3f-4823-b3e2-eab6ed1b2a52",
   "metadata": {
    "tags": []
   },
   "outputs": [
    {
     "data": {
      "text/html": [
       "<div>\n",
       "<style scoped>\n",
       "    .dataframe tbody tr th:only-of-type {\n",
       "        vertical-align: middle;\n",
       "    }\n",
       "\n",
       "    .dataframe tbody tr th {\n",
       "        vertical-align: top;\n",
       "    }\n",
       "\n",
       "    .dataframe thead th {\n",
       "        text-align: right;\n",
       "    }\n",
       "</style>\n",
       "<table border=\"1\" class=\"dataframe\">\n",
       "  <thead>\n",
       "    <tr style=\"text-align: right;\">\n",
       "      <th></th>\n",
       "      <th>content</th>\n",
       "      <th>target</th>\n",
       "      <th>target_names</th>\n",
       "    </tr>\n",
       "  </thead>\n",
       "  <tbody>\n",
       "    <tr>\n",
       "      <th>0</th>\n",
       "      <td>From: lerxst@wam.umd.edu (where's my thing)\\nS...</td>\n",
       "      <td>7</td>\n",
       "      <td>rec.autos</td>\n",
       "    </tr>\n",
       "    <tr>\n",
       "      <th>1</th>\n",
       "      <td>From: guykuo@carson.u.washington.edu (Guy Kuo)...</td>\n",
       "      <td>4</td>\n",
       "      <td>comp.sys.mac.hardware</td>\n",
       "    </tr>\n",
       "    <tr>\n",
       "      <th>2</th>\n",
       "      <td>From: twillis@ec.ecn.purdue.edu (Thomas E Will...</td>\n",
       "      <td>4</td>\n",
       "      <td>comp.sys.mac.hardware</td>\n",
       "    </tr>\n",
       "    <tr>\n",
       "      <th>3</th>\n",
       "      <td>From: jgreen@amber (Joe Green)\\nSubject: Re: W...</td>\n",
       "      <td>1</td>\n",
       "      <td>comp.graphics</td>\n",
       "    </tr>\n",
       "    <tr>\n",
       "      <th>4</th>\n",
       "      <td>From: jcm@head-cfa.harvard.edu (Jonathan McDow...</td>\n",
       "      <td>14</td>\n",
       "      <td>sci.space</td>\n",
       "    </tr>\n",
       "  </tbody>\n",
       "</table>\n",
       "</div>"
      ],
      "text/plain": [
       "                                             content  target  \\\n",
       "0  From: lerxst@wam.umd.edu (where's my thing)\\nS...       7   \n",
       "1  From: guykuo@carson.u.washington.edu (Guy Kuo)...       4   \n",
       "2  From: twillis@ec.ecn.purdue.edu (Thomas E Will...       4   \n",
       "3  From: jgreen@amber (Joe Green)\\nSubject: Re: W...       1   \n",
       "4  From: jcm@head-cfa.harvard.edu (Jonathan McDow...      14   \n",
       "\n",
       "            target_names  \n",
       "0              rec.autos  \n",
       "1  comp.sys.mac.hardware  \n",
       "2  comp.sys.mac.hardware  \n",
       "3          comp.graphics  \n",
       "4              sci.space  "
      ]
     },
     "execution_count": 3,
     "metadata": {},
     "output_type": "execute_result"
    }
   ],
   "source": [
    "df.head()"
   ]
  },
  {
   "cell_type": "code",
   "execution_count": 4,
   "id": "5193310a-01d9-453c-8f5c-8e5c19b23be1",
   "metadata": {
    "tags": []
   },
   "outputs": [
    {
     "name": "stdout",
     "output_type": "stream",
     "text": [
      "From: lerxst@wam.umd.edu (where's my thing)\n",
      "Subject: WHAT car is this!?\n",
      "Nntp-Posting-Host: rac3.wam.umd.edu\n",
      "Organization: University of Maryland, College Park\n",
      "Lines: 15\n",
      "\n",
      " I was wondering if anyone out there could enlighten me on this car I saw\n",
      "the other day. It was a 2-door sports car, looked to be from the late 60s/\n",
      "early 70s. It was called a Bricklin. The doors were really small. In addition,\n",
      "the front bumper was separate from the rest of the body. This is \n",
      "all I know. If anyone can tellme a model name, engine specs, years\n",
      "of production, where this car is made, history, or whatever info you\n",
      "have on this funky looking car, please e-mail.\n",
      "\n",
      "Thanks,\n",
      "- IL\n",
      "   ---- brought to you by your neighborhood Lerxst ----\n",
      "\n",
      "\n",
      "\n",
      "\n",
      "\n"
     ]
    }
   ],
   "source": [
    "print(df.content[0])\n",
    "#definetly fits the \"autos\" category"
   ]
  },
  {
   "cell_type": "code",
   "execution_count": 5,
   "id": "611497c2-9267-4f64-83bc-a07c690b9c65",
   "metadata": {
    "tags": []
   },
   "outputs": [
    {
     "name": "stdout",
     "output_type": "stream",
     "text": [
      "From: guykuo@carson.u.washington.edu (Guy Kuo)\n",
      "Subject: SI Clock Poll - Final Call\n",
      "Summary: Final call for SI clock reports\n",
      "Keywords: SI,acceleration,clock,upgrade\n",
      "Article-I.D.: shelley.1qvfo9INNc3s\n",
      "Organization: University of Washington\n",
      "Lines: 11\n",
      "NNTP-Posting-Host: carson.u.washington.edu\n",
      "\n",
      "A fair number of brave souls who upgraded their SI clock oscillator have\n",
      "shared their experiences for this poll. Please send a brief message detailing\n",
      "your experiences with the procedure. Top speed attained, CPU rated speed,\n",
      "add on cards and adapters, heat sinks, hour of usage per day, floppy disk\n",
      "functionality with 800 and 1.4 m floppies are especially requested.\n",
      "\n",
      "I will be summarizing in the next two days, so please add to the network\n",
      "knowledge base if you have done the clock upgrade and haven't answered this\n",
      "poll. Thanks.\n",
      "\n",
      "Guy Kuo <guykuo@u.washington.edu>\n",
      "\n"
     ]
    }
   ],
   "source": [
    "print(df.content[1])\n",
    "#fits the hardware category"
   ]
  },
  {
   "cell_type": "code",
   "execution_count": 6,
   "id": "024c0895-65b2-4802-ae33-e568f372d9d7",
   "metadata": {
    "tags": []
   },
   "outputs": [],
   "source": [
    "target_names = list(df.target_names)\n",
    "cat = []\n",
    "for i in target_names:\n",
    "    cat.append(i[0:i.find('.')])\n",
    "    \n",
    "df[\"category\"] = cat"
   ]
  },
  {
   "cell_type": "code",
   "execution_count": 7,
   "id": "0b4de5ff-94fa-4623-8658-f38fbeb34707",
   "metadata": {},
   "outputs": [
    {
     "data": {
      "text/html": [
       "<div>\n",
       "<style scoped>\n",
       "    .dataframe tbody tr th:only-of-type {\n",
       "        vertical-align: middle;\n",
       "    }\n",
       "\n",
       "    .dataframe tbody tr th {\n",
       "        vertical-align: top;\n",
       "    }\n",
       "\n",
       "    .dataframe thead th {\n",
       "        text-align: right;\n",
       "    }\n",
       "</style>\n",
       "<table border=\"1\" class=\"dataframe\">\n",
       "  <thead>\n",
       "    <tr style=\"text-align: right;\">\n",
       "      <th></th>\n",
       "      <th>content</th>\n",
       "      <th>target</th>\n",
       "      <th>target_names</th>\n",
       "      <th>category</th>\n",
       "    </tr>\n",
       "  </thead>\n",
       "  <tbody>\n",
       "    <tr>\n",
       "      <th>0</th>\n",
       "      <td>From: lerxst@wam.umd.edu (where's my thing)\\nS...</td>\n",
       "      <td>7</td>\n",
       "      <td>rec.autos</td>\n",
       "      <td>rec</td>\n",
       "    </tr>\n",
       "    <tr>\n",
       "      <th>1</th>\n",
       "      <td>From: guykuo@carson.u.washington.edu (Guy Kuo)...</td>\n",
       "      <td>4</td>\n",
       "      <td>comp.sys.mac.hardware</td>\n",
       "      <td>comp</td>\n",
       "    </tr>\n",
       "    <tr>\n",
       "      <th>2</th>\n",
       "      <td>From: twillis@ec.ecn.purdue.edu (Thomas E Will...</td>\n",
       "      <td>4</td>\n",
       "      <td>comp.sys.mac.hardware</td>\n",
       "      <td>comp</td>\n",
       "    </tr>\n",
       "    <tr>\n",
       "      <th>3</th>\n",
       "      <td>From: jgreen@amber (Joe Green)\\nSubject: Re: W...</td>\n",
       "      <td>1</td>\n",
       "      <td>comp.graphics</td>\n",
       "      <td>comp</td>\n",
       "    </tr>\n",
       "    <tr>\n",
       "      <th>4</th>\n",
       "      <td>From: jcm@head-cfa.harvard.edu (Jonathan McDow...</td>\n",
       "      <td>14</td>\n",
       "      <td>sci.space</td>\n",
       "      <td>sci</td>\n",
       "    </tr>\n",
       "  </tbody>\n",
       "</table>\n",
       "</div>"
      ],
      "text/plain": [
       "                                             content  target  \\\n",
       "0  From: lerxst@wam.umd.edu (where's my thing)\\nS...       7   \n",
       "1  From: guykuo@carson.u.washington.edu (Guy Kuo)...       4   \n",
       "2  From: twillis@ec.ecn.purdue.edu (Thomas E Will...       4   \n",
       "3  From: jgreen@amber (Joe Green)\\nSubject: Re: W...       1   \n",
       "4  From: jcm@head-cfa.harvard.edu (Jonathan McDow...      14   \n",
       "\n",
       "            target_names category  \n",
       "0              rec.autos      rec  \n",
       "1  comp.sys.mac.hardware     comp  \n",
       "2  comp.sys.mac.hardware     comp  \n",
       "3          comp.graphics     comp  \n",
       "4              sci.space      sci  "
      ]
     },
     "execution_count": 7,
     "metadata": {},
     "output_type": "execute_result"
    }
   ],
   "source": [
    "df.head()"
   ]
  },
  {
   "cell_type": "code",
   "execution_count": 8,
   "id": "576bda89-a657-4441-8237-ad36ced75a9a",
   "metadata": {},
   "outputs": [
    {
     "data": {
      "text/html": [
       "<div>\n",
       "<style scoped>\n",
       "    .dataframe tbody tr th:only-of-type {\n",
       "        vertical-align: middle;\n",
       "    }\n",
       "\n",
       "    .dataframe tbody tr th {\n",
       "        vertical-align: top;\n",
       "    }\n",
       "\n",
       "    .dataframe thead th {\n",
       "        text-align: right;\n",
       "    }\n",
       "</style>\n",
       "<table border=\"1\" class=\"dataframe\">\n",
       "  <thead>\n",
       "    <tr style=\"text-align: right;\">\n",
       "      <th></th>\n",
       "      <th>target_names</th>\n",
       "      <th>target</th>\n",
       "    </tr>\n",
       "  </thead>\n",
       "  <tbody>\n",
       "    <tr>\n",
       "      <th>0</th>\n",
       "      <td>alt.atheism</td>\n",
       "      <td>480</td>\n",
       "    </tr>\n",
       "    <tr>\n",
       "      <th>1</th>\n",
       "      <td>comp.graphics</td>\n",
       "      <td>584</td>\n",
       "    </tr>\n",
       "    <tr>\n",
       "      <th>2</th>\n",
       "      <td>comp.os.ms-windows.misc</td>\n",
       "      <td>591</td>\n",
       "    </tr>\n",
       "    <tr>\n",
       "      <th>3</th>\n",
       "      <td>comp.sys.ibm.pc.hardware</td>\n",
       "      <td>590</td>\n",
       "    </tr>\n",
       "    <tr>\n",
       "      <th>4</th>\n",
       "      <td>comp.sys.mac.hardware</td>\n",
       "      <td>578</td>\n",
       "    </tr>\n",
       "  </tbody>\n",
       "</table>\n",
       "</div>"
      ],
      "text/plain": [
       "               target_names  target\n",
       "0               alt.atheism     480\n",
       "1             comp.graphics     584\n",
       "2   comp.os.ms-windows.misc     591\n",
       "3  comp.sys.ibm.pc.hardware     590\n",
       "4     comp.sys.mac.hardware     578"
      ]
     },
     "execution_count": 8,
     "metadata": {},
     "output_type": "execute_result"
    }
   ],
   "source": [
    "df2 = df.groupby(\"target_names\").target.count().reset_index()\n",
    "df2.head()"
   ]
  },
  {
   "cell_type": "code",
   "execution_count": 9,
   "id": "9c53ba9e-7781-4858-a520-58878a39d2eb",
   "metadata": {},
   "outputs": [
    {
     "data": {
      "text/html": [
       "<div>\n",
       "<style scoped>\n",
       "    .dataframe tbody tr th:only-of-type {\n",
       "        vertical-align: middle;\n",
       "    }\n",
       "\n",
       "    .dataframe tbody tr th {\n",
       "        vertical-align: top;\n",
       "    }\n",
       "\n",
       "    .dataframe thead th {\n",
       "        text-align: right;\n",
       "    }\n",
       "</style>\n",
       "<table border=\"1\" class=\"dataframe\">\n",
       "  <thead>\n",
       "    <tr style=\"text-align: right;\">\n",
       "      <th></th>\n",
       "      <th>category</th>\n",
       "      <th>target</th>\n",
       "    </tr>\n",
       "  </thead>\n",
       "  <tbody>\n",
       "    <tr>\n",
       "      <th>0</th>\n",
       "      <td>alt</td>\n",
       "      <td>480</td>\n",
       "    </tr>\n",
       "    <tr>\n",
       "      <th>1</th>\n",
       "      <td>comp</td>\n",
       "      <td>2936</td>\n",
       "    </tr>\n",
       "    <tr>\n",
       "      <th>2</th>\n",
       "      <td>misc</td>\n",
       "      <td>585</td>\n",
       "    </tr>\n",
       "    <tr>\n",
       "      <th>3</th>\n",
       "      <td>rec</td>\n",
       "      <td>2389</td>\n",
       "    </tr>\n",
       "    <tr>\n",
       "      <th>4</th>\n",
       "      <td>sci</td>\n",
       "      <td>2373</td>\n",
       "    </tr>\n",
       "    <tr>\n",
       "      <th>5</th>\n",
       "      <td>soc</td>\n",
       "      <td>599</td>\n",
       "    </tr>\n",
       "    <tr>\n",
       "      <th>6</th>\n",
       "      <td>talk</td>\n",
       "      <td>1952</td>\n",
       "    </tr>\n",
       "  </tbody>\n",
       "</table>\n",
       "</div>"
      ],
      "text/plain": [
       "  category  target\n",
       "0      alt     480\n",
       "1     comp    2936\n",
       "2     misc     585\n",
       "3      rec    2389\n",
       "4      sci    2373\n",
       "5      soc     599\n",
       "6     talk    1952"
      ]
     },
     "execution_count": 9,
     "metadata": {},
     "output_type": "execute_result"
    }
   ],
   "source": [
    "df3 = df.groupby(\"category\").target.count().reset_index()\n",
    "df3\n",
    "#comp, rec, sci and talk are the leading categories"
   ]
  },
  {
   "cell_type": "code",
   "execution_count": 10,
   "id": "7300e986-f9e0-4994-9bf1-1c61db0b0451",
   "metadata": {},
   "outputs": [
    {
     "data": {
      "text/plain": [
       "<AxesSubplot:xlabel='count', ylabel='target_names'>"
      ]
     },
     "execution_count": 10,
     "metadata": {},
     "output_type": "execute_result"
    },
    {
     "data": {
      "image/png": "[encoded data removed]",
      "text/plain": [
       "<Figure size 2304x576 with 2 Axes>"
      ]
     },
     "metadata": {},
     "output_type": "display_data"
    }
   ],
   "source": [
    "sns.set(font_scale = 1)\n",
    "fig, ax =plt.subplots(1,2, figsize = (32,8))\n",
    "sns.countplot(x = \"category\", data = df, ax = ax[0])\n",
    "sns.countplot(y = \"target_names\", data = df, ax = ax[1], palette = \"flare\") \n",
    "#particularly on none-combined categories, the counts almost follow an uniform distribution"
   ]
  },
  {
   "cell_type": "markdown",
   "id": "951c71e1-93a2-4414-a5d5-f09ee8b97548",
   "metadata": {},
   "source": [
    "# Part B"
   ]
  },
  {
   "cell_type": "code",
   "execution_count": 11,
   "id": "d291fa97-f89d-410d-819b-c3919c3cf21d",
   "metadata": {},
   "outputs": [],
   "source": [
    "data = []\n",
    "for i in df.content:\n",
    "    cl_1 = re.findall(\"(?m)^(?!From:.*|^Article-I.D.:.*|^NNTP-Posting-Host:.*|^Organization:.*|^Lines:.*|^Distribution:.*|^Reply-To:.*|^X-Newsreader:.*|^Expires:.*|^ *-+.*).*\", i, flags = re.IGNORECASE)\n",
    "    cl_2 = re.sub(\"Subject: |Summary: |Keywords:\",\"\", \" \".join(cl_1), flags = re.IGNORECASE)\n",
    "    data.append(cl_2)\n",
    "#this cleaning removed unnecessary lines and words (duh)"
   ]
  },
  {
   "cell_type": "code",
   "execution_count": 26,
   "id": "4d144caa-9fb6-4574-a81b-bc419d2f91dd",
   "metadata": {},
   "outputs": [
    {
     "data": {
      "text/plain": [
       "'WHAT car is this!?   I was wondering if anyone out there could enlighten me on this car I saw the other day. It was a 2-door sports car, looked to be from the late 60s/ early 70s. It was called a Bricklin. The doors were really small. In addition, the front bumper was separate from the rest of the body. This is  all I know. If anyone can tellme a model name, engine specs, years of production, where this car is made, history, or whatever info you have on this funky looking car, please e-mail.  Thanks,     '"
      ]
     },
     "execution_count": 26,
     "metadata": {},
     "output_type": "execute_result"
    }
   ],
   "source": [
    "data[0]"
   ]
  },
  {
   "cell_type": "markdown",
   "id": "b4e75250-e878-400f-aa4f-d1f2f1e76b52",
   "metadata": {},
   "source": [
    "# Part C"
   ]
  },
  {
   "cell_type": "code",
   "execution_count": 13,
   "id": "bc850029-9bc1-4860-83fc-f5d91e26513d",
   "metadata": {},
   "outputs": [],
   "source": [
    "data_stripped = []\n",
    "for i in data:\n",
    "    text = i.lower() #remove upper case letters to allow grouping\n",
    "    #text = remove_stopwords(text)\n",
    "    text = strip_punctuation(text) #remove all instances of . and : \n",
    "    #text = strip_tags(text)\n",
    "    text = strip_numeric(text) #remove all numbers (because uninterpretable, i guess)\n",
    "    text = strip_multiple_whitespaces(text) #remove dupplicate spaces\n",
    "    #text = strip_short(text)\n",
    "    data_stripped.append(text)"
   ]
  },
  {
   "cell_type": "markdown",
   "id": "bd89b198-72df-4110-9570-17b577d06808",
   "metadata": {},
   "source": [
    "# Part D"
   ]
  },
  {
   "cell_type": "code",
   "execution_count": 14,
   "id": "c8c3faa3-9a92-4572-a22d-62fb2379e366",
   "metadata": {},
   "outputs": [],
   "source": [
    "stops = list(set(stopwords.words('english')))"
   ]
  },
  {
   "cell_type": "code",
   "execution_count": 15,
   "id": "e92dc0b1-44c6-4855-b718-156780683ef0",
   "metadata": {},
   "outputs": [
    {
     "data": {
      "text/plain": [
       "(179, 337)"
      ]
     },
     "execution_count": 15,
     "metadata": {},
     "output_type": "execute_result"
    }
   ],
   "source": [
    "len(stops), len(STOPWORDS)\n",
    "#obviously the STOPWORDS list from gensim is a lot longer"
   ]
  },
  {
   "cell_type": "code",
   "execution_count": 16,
   "id": "49dbff90-bb61-4cfd-ba38-3dced93e1b64",
   "metadata": {},
   "outputs": [
    {
     "data": {
      "text/plain": [
       "['a', 'about', 'above', 'after', 'again', 'against', 'ain', 'all', 'am', 'an']"
      ]
     },
     "execution_count": 16,
     "metadata": {},
     "output_type": "execute_result"
    }
   ],
   "source": [
    "stops.sort()\n",
    "stops[:10]"
   ]
  },
  {
   "cell_type": "code",
   "execution_count": 17,
   "id": "3fecdba6-b923-456a-ae6c-772e0e66dc4f",
   "metadata": {},
   "outputs": [
    {
     "data": {
      "text/plain": [
       "['a', 'about', 'above', 'across', 'after', 'afterwards', 'again', 'against']"
      ]
     },
     "execution_count": 17,
     "metadata": {},
     "output_type": "execute_result"
    }
   ],
   "source": [
    "genstops = list(STOPWORDS)\n",
    "genstops.sort()\n",
    "genstops[:8] #it seems like the genstops list is more in-depth"
   ]
  },
  {
   "cell_type": "code",
   "execution_count": 18,
   "id": "93962f1c-d286-4ef0-884d-836c1c1532fd",
   "metadata": {},
   "outputs": [
    {
     "data": {
      "text/plain": [
       "(53, 211)"
      ]
     },
     "execution_count": 18,
     "metadata": {},
     "output_type": "execute_result"
    }
   ],
   "source": [
    "#count the number of words that are unique to the gensim list\n",
    "only_gensim = []\n",
    "for i in genstops:\n",
    "    if stops.count(i) == 0: only_gensim.append(i)\n",
    "\n",
    "#count the number of words that are unique to the nltk list\n",
    "only_nltk = []\n",
    "for i in stops: \n",
    "    if genstops.count(i) == 0: only_nltk.append(i)\n",
    "#print length of both lists to show comparison\n",
    "len(only_nltk), len(only_gensim)"
   ]
  },
  {
   "cell_type": "code",
   "execution_count": 19,
   "id": "a00813da-d95b-41c7-ac35-42d526c0b6bd",
   "metadata": {},
   "outputs": [
    {
     "data": {
      "text/plain": [
       "['ain', 'aren', \"aren't\", 'couldn', \"couldn't\", 'd', \"didn't\"]"
      ]
     },
     "execution_count": 19,
     "metadata": {},
     "output_type": "execute_result"
    }
   ],
   "source": [
    "only_nltk[:7]\n",
    "#seems like the words that are extra in the nltk list are mainly variations of words that are being abbreviated"
   ]
  },
  {
   "cell_type": "code",
   "execution_count": 20,
   "id": "c4da27d9-8be9-436c-acae-0b30e3c251c9",
   "metadata": {},
   "outputs": [],
   "source": [
    "data_nostop = []\n",
    "for i in data_stripped:\n",
    "    text = strip_short(i) #removes many short words and single letters, such as \"70s\" -> strip numeric = \"s\" -> strip short = \"\"\n",
    "    data_nostop.append(remove_stopwords(text))"
   ]
  },
  {
   "cell_type": "code",
   "execution_count": 21,
   "id": "54a74d5d-2cd3-40b4-9551-22e42929bd95",
   "metadata": {},
   "outputs": [
    {
     "data": {
      "text/plain": [
       "'what car is this i was wondering if anyone out there could enlighten me on this car i saw the other day it was a door sports car looked to be from the late s early s it was called a bricklin the doors were really small in addition the front bumper was separate from the rest of the body this is all i know if anyone can tellme a model name engine specs years of production where this car is made history or whatever info you have on this funky looking car please e mail thanks '"
      ]
     },
     "execution_count": 21,
     "metadata": {},
     "output_type": "execute_result"
    }
   ],
   "source": [
    "data_stripped[0]"
   ]
  },
  {
   "cell_type": "code",
   "execution_count": 22,
   "id": "11949ad7-7ed7-43d5-9c68-6c961b15380a",
   "metadata": {},
   "outputs": [
    {
     "data": {
      "text/plain": [
       "'car wondering enlighten car saw day door sports car looked late early called bricklin doors small addition bumper separate rest body know tellme model engine specs years production car history info funky looking car mail thanks'"
      ]
     },
     "execution_count": 22,
     "metadata": {},
     "output_type": "execute_result"
    }
   ],
   "source": [
    "data_nostop[0]"
   ]
  },
  {
   "cell_type": "markdown",
   "id": "934ae7aa-9715-48a9-abd3-738cf5e1ed1e",
   "metadata": {},
   "source": [
    "# Part E"
   ]
  },
  {
   "cell_type": "code",
   "execution_count": 352,
   "id": "e1a3bb7e-8ee1-4a66-89a7-e50354b79881",
   "metadata": {},
   "outputs": [],
   "source": [
    "data_stem = []\n",
    "for i in data_nostop: data_stem.append(stem_text(i)) \n",
    "#the function reduces the words to their origin, \n",
    "#this means that similar words will be reduced to the same origin and will be treated identically"
   ]
  },
  {
   "cell_type": "code",
   "execution_count": 353,
   "id": "a6151777-08d9-488a-9f72-2ee70f7a6959",
   "metadata": {},
   "outputs": [
    {
     "data": {
      "text/plain": [
       "'car wonder enlighten car saw dai door sport car look late earli call bricklin door small addit bumper separ rest bodi know tellm model engin spec year product car histori info funki look car mail thank'"
      ]
     },
     "execution_count": 353,
     "metadata": {},
     "output_type": "execute_result"
    }
   ],
   "source": [
    "data_stem[0]"
   ]
  },
  {
   "cell_type": "code",
   "execution_count": 354,
   "id": "1c3ec5f5-7f39-43f6-83c2-2a7aa5c40b0b",
   "metadata": {},
   "outputs": [],
   "source": [
    "nlp = en_core_web_sm.load()"
   ]
  },
  {
   "cell_type": "code",
   "execution_count": 360,
   "id": "dca2043d-54d9-4b3e-9b82-53eeb3757e22",
   "metadata": {},
   "outputs": [],
   "source": [
    "data_lem = []\n",
    "for i in data_nostop: \n",
    "    lemma = nlp(i)\n",
    "    data_lem.append(\" \".join([word.lemma_ for word in lemma]))"
   ]
  },
  {
   "cell_type": "code",
   "execution_count": 361,
   "id": "c03fd7ad-c2a4-4068-9c0a-9dd073a1475a",
   "metadata": {},
   "outputs": [
    {
     "data": {
      "text/plain": [
       "'car wonder enlighten car see day door sport car look late early call bricklin door small addition bumper separate rest body know tellme model engine spec year production car history info funky look car mail thank'"
      ]
     },
     "execution_count": 361,
     "metadata": {},
     "output_type": "execute_result"
    }
   ],
   "source": [
    "data_lem[0]"
   ]
  },
  {
   "cell_type": "code",
   "execution_count": 362,
   "id": "c73a24db-88a8-45fb-adfe-509bc600a427",
   "metadata": {},
   "outputs": [
    {
     "data": {
      "text/plain": [
       "'car wondering enlighten car saw day door sports car looked late early called bricklin doors small addition bumper separate rest body know tellme model engine specs years production car history info funky looking car mail thanks'"
      ]
     },
     "execution_count": 362,
     "metadata": {},
     "output_type": "execute_result"
    }
   ],
   "source": [
    "data_nostop[0]"
   ]
  },
  {
   "cell_type": "code",
   "execution_count": null,
   "id": "f1613ff2-4d13-4836-8e31-8e5a5faf4f32",
   "metadata": {},
   "outputs": [],
   "source": [
    "#Storing (to not have to compute them lemmitization again)\n",
    "#for google collab:\n",
    "#from google.colab import drive\n",
    "#drive.mount('/content/drive')\n",
    "#with open('/content/drive/MyDrive/data_lem.pkl', 'wb') as f:\n",
    "#  pickle.dump(data_lem.pkl, f)"
   ]
  },
  {
   "cell_type": "markdown",
   "id": "5e61d874-016f-40a1-9d19-f68f8a9bcb5a",
   "metadata": {},
   "source": [
    "# Extra Challenge"
   ]
  },
  {
   "cell_type": "code",
   "execution_count": 3,
   "id": "ffa0b7ba-a359-44be-9ad7-19dcd50ef143",
   "metadata": {},
   "outputs": [],
   "source": [
    "from gutenberg.acquire import load_etext\n",
    "from gutenberg.cleanup import strip_headers\n",
    "import numpy as np\n",
    "bing = pd.read_csv(r\"C:\\Users\\svawe\\Downloads\\SentimentDictionaries\\bing.csv\").drop(columns = [\"Unnamed: 0\"])\n",
    "\n",
    "def tf(text):\n",
    "    text = text.lower()\n",
    "    text = remove_stopwords(text)\n",
    "    text = strip_punctuation(text)\n",
    "    text = strip_tags(text)\n",
    "    text = strip_numeric(text)\n",
    "    text = strip_multiple_whitespaces(text)\n",
    "    text = strip_short(text)\n",
    "    text_split = text.split()\n",
    "    wordlist = np.unique(text_split, return_counts= True)\n",
    "    df = pd.DataFrame(wordlist).transpose()\n",
    "    df.columns = [\"word\",\"frequency\"]\n",
    "    df = df.sort_values(\"frequency\", ascending = False)\n",
    "    df.reset_index(inplace = True)\n",
    "    df = df.drop(columns = \"index\")\n",
    "    df[\"frequency\"] = df[\"frequency\"].astype(int)\n",
    "    return df\n",
    "\n",
    "def tf2(text):\n",
    "    text = text.lower()\n",
    "    text = remove_stopwords(text)\n",
    "    text = strip_punctuation(text)\n",
    "    text = strip_tags(text)\n",
    "    text = strip_numeric(text)\n",
    "    text = strip_multiple_whitespaces(text)\n",
    "    text = strip_short(text)\n",
    "    return text\n",
    "\n",
    "def sentiment_from_text(text):\n",
    "    \"\"\"needs bing sentiment list as a df imported beforehand for a merge / match\"\"\"\n",
    "    text_split = text.split() #tokenize text into words\n",
    "    wordlist = np.unique(text_split, return_counts= True) #count occurences\n",
    "    df = pd.DataFrame(wordlist).transpose() #create df\n",
    "    df.columns = [\"word\",\"frequency\"]\n",
    "    df = df.sort_values(\"frequency\", ascending = False)\n",
    "    df[\"frequency\"] = df[\"frequency\"].astype(int)\n",
    "    sentiment = df.merge(bing, how = \"inner\", on = \"word\")\n",
    "    senti_map = {\"negative\" : -1, \"positive\": 1} #turns positive words to a 1 and negative to a -1\n",
    "    sentiment[\"sentiment\"] = sentiment[\"sentiment\"].map(senti_map) #maps accordingly\n",
    "    sentiment[\"sentiment_weighed\"] = sentiment[\"frequency\"] * sentiment[\"sentiment\"] #calculate the weighed sentiment\n",
    "    return np.sum(sentiment.sentiment_weighed)"
   ]
  },
  {
   "cell_type": "code",
   "execution_count": 4,
   "id": "b27851d9-36c1-45e1-9965-e02fb3304275",
   "metadata": {},
   "outputs": [],
   "source": [
    "book = strip_headers(load_etext(31100)).strip()"
   ]
  },
  {
   "cell_type": "code",
   "execution_count": 549,
   "id": "c9fdae4c-b698-4093-8832-d21f194a9688",
   "metadata": {},
   "outputs": [],
   "source": [
    "#I chose different books because most of the Jane Austen books were not available and I only checked after I\n",
    "#wrote all of this code to create the sentiment analysis based on 6 books\n",
    "booklist = [[\"PrideAndPrejudice\", 42671],\n",
    "            [\"Frankenstein\", 42324],\n",
    "            [\"Persuasion\", 105],\n",
    "            [\"WizardOfOz\", 43936],\n",
    "            [\"Dracula\", 45839], \n",
    "            [\"TheCritiqueOfPracticalReason\", 5683] #everybody's favourite\n",
    "           ]\n",
    "df = pd.DataFrame(columns = [\"book\", \"chapter\", \"sentiment\"])\n",
    "for a,b in booklist:\n",
    "    book = strip_headers(load_etext(b)).strip()\n",
    "    book_cleaned = tf2(book)\n",
    "    book_cl = re.sub(\"chapter\",\"\\nchapter\", book_cleaned) #to avoid e.g., \"53. Chapter 53\"\n",
    "    book_chapters = re.findall(\"(?m)^(chapter.*).{1000,}\", book_cl) \n",
    "    #curly brackets demand at least 1000 more symbols after \"chapter\". This avoid table of content to be countet as chapter (chosen by testing)\n",
    "    sentiments_book = []\n",
    "    i = 1\n",
    "    for chapter in book_chapters:\n",
    "        sentiments_book.append([a, i, sentiment_from_text(chapter)])\n",
    "        i += 1\n",
    "    df_book = pd.DataFrame(sentiments_book, columns = [\"book\",\"chapter\",\"sentiment\"])\n",
    "    df = pd.concat([df, df_book])"
   ]
  },
  {
   "cell_type": "code",
   "execution_count": 550,
   "id": "15cdadc7-e9f8-4c25-8293-ec42c93e7752",
   "metadata": {},
   "outputs": [
    {
     "data": {
      "text/plain": [
       "Text(0.5, 1.0, 'TheCritiqueOfPracticalReason')"
      ]
     },
     "execution_count": 550,
     "metadata": {},
     "output_type": "execute_result"
    },
    {
     "data": {
      "image/png": "[encoded data removed]",
      "text/plain": [
       "<Figure size 3024x1296 with 6 Axes>"
      ]
     },
     "metadata": {},
     "output_type": "display_data"
    }
   ],
   "source": [
    "fig, ax =plt.subplots(3,2, figsize = (42,18))\n",
    "sns.barplot(x = \"chapter\", y = \"sentiment\", data = df[df.book == \"PrideAndPrejudice\"], color = \"blue\", ax = ax[0,0]).set_title(\"PrideAndPrejudice\")\n",
    "sns.barplot(x = \"chapter\", y = \"sentiment\", data = df[df.book == \"Frankenstein\"], color = \"r\", ax = ax[0,1]).set_title(\"Frankenstein\")\n",
    "sns.barplot(x = \"chapter\", y = \"sentiment\", data = df[df.book == \"Persuasion\"], color = \"y\", ax = ax[1,0]).set_title(\"Persuasion\")\n",
    "sns.barplot(x = \"chapter\", y = \"sentiment\", data = df[df.book == \"WizardOfOz\"], color = \"g\", ax = ax[1,1]).set_title(\"WizardOfOz\")\n",
    "sns.barplot(x = \"chapter\", y = \"sentiment\", data = df[df.book == \"Dracula\"], color = \"pink\", ax = ax[2,0]).set_title(\"Dracula\")\n",
    "sns.barplot(x = \"chapter\", y = \"sentiment\", data = df[df.book == \"TheCritiqueOfPracticalReason\"], color = \"b\", ax = ax[2,1]).set_title(\"TheCritiqueOfPracticalReason\")"
   ]
  }
 ],
 "metadata": {
  "kernelspec": {
   "display_name": "Python 3 (ipykernel)",
   "language": "python",
   "name": "python3"
  },
  "language_info": {
   "codemirror_mode": {
    "name": "ipython",
    "version": 3
   },
   "file_extension": ".py",
   "mimetype": "text/x-python",
   "name": "python",
   "nbconvert_exporter": "python",
   "pygments_lexer": "ipython3",
   "version": "3.9.7"
  }
 },
 "nbformat": 4,
 "nbformat_minor": 5
}
