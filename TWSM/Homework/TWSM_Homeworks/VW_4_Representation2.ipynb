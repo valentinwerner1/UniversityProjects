{
  "nbformat": 4,
  "nbformat_minor": 0,
  "metadata": {
    "colab": {
      "name": "VW_4_Representation2.ipynb",
      "provenance": []
    },
    "kernelspec": {
      "name": "python3",
      "display_name": "Python 3"
    },
    "language_info": {
      "name": "python"
    }
  },
  "cells": [
    {
      "cell_type": "code",
      "source": [
        "import pickle\n",
        "import pandas as pd\n",
        "import numpy as np\n",
        "from gensim.models import Word2Vec\n",
        "from scipy.spatial.distance import cosine\n",
        "from gensim.models.doc2vec import Doc2Vec, TaggedDocument\n",
        "import tensorflow as tf\n",
        "import torch\n",
        "from transformers import BertTokenizer, BertModel\n",
        "from keras.preprocessing.sequence import pad_sequences\n",
        "from torch.utils.data import TensorDataset, DataLoader, RandomSampler, SequentialSampler"
      ],
      "metadata": {
        "id": "Rc8LDLWBiqo_"
      },
      "execution_count": 49,
      "outputs": []
    },
    {
      "cell_type": "code",
      "source": [
        "from google.colab import drive\n",
        "drive.mount('/content/drive')"
      ],
      "metadata": {
        "colab": {
          "base_uri": "https://localhost:8080/"
        },
        "id": "iKbAiEHEjSpe",
        "outputId": "80989536-f8ff-4a82-8824-6fcdb91359a3"
      },
      "execution_count": 3,
      "outputs": [
        {
          "output_type": "stream",
          "name": "stdout",
          "text": [
            "Mounted at /content/drive\n"
          ]
        }
      ]
    },
    {
      "cell_type": "code",
      "source": [
        "# #Load stemmed data as .pkl\n",
        "with open(\"/content/drive/MyDrive/data_lem.pkl\", 'rb') as f:\n",
        "    data_lem = pickle.load(f)"
      ],
      "metadata": {
        "id": "kEj0pFfri05H"
      },
      "execution_count": 4,
      "outputs": []
    },
    {
      "cell_type": "code",
      "source": [
        "#Generate a corpus\n",
        "corpus_gen=[doc.split() for doc in data_lem]"
      ],
      "metadata": {
        "id": "BmzzPleyih9I"
      },
      "execution_count": 5,
      "outputs": []
    },
    {
      "cell_type": "code",
      "source": [
        "#Word2Vec\n",
        "model = Word2Vec(corpus_gen, size = 100, min_count = 566)"
      ],
      "metadata": {
        "id": "NGRnf9fLkj-H"
      },
      "execution_count": 8,
      "outputs": []
    },
    {
      "cell_type": "code",
      "source": [
        "model.save(\"word2vec.model\")"
      ],
      "metadata": {
        "id": "fYuNTOVolC1W"
      },
      "execution_count": 9,
      "outputs": []
    },
    {
      "cell_type": "code",
      "source": [
        "model.wv.vocab.keys()\n",
        "#from excersice 3 for comparison (note: exercise 3 was stemmed data)\n",
        "#dict_keys(['call', 'car', 'dai', 'engin', 'info', 'know', 'look', 'mail', 'small', 'thank', 'wonder', 'year', 'answer', 'base'\n",
        "\n",
        "#not identical, but quite similar"
      ],
      "metadata": {
        "colab": {
          "base_uri": "https://localhost:8080/"
        },
        "id": "YTDb3AjglFCd",
        "outputId": "ca045d4c-b771-4b69-fd72-c1c90b03b56f"
      },
      "execution_count": 10,
      "outputs": [
        {
          "output_type": "execute_result",
          "data": {
            "text/plain": [
              "dict_keys(['car', 'wonder', 'see', 'day', 'look', 'early', 'call', 'small', 'body', 'know', 'model', 'year', 'history', 'info', 'mail', 'thank', 'report', 'number', 'experience', 'send', 'message', 'speed', 'rate', 'add', 'card', 'disk', 'request', 'network', 'base', 'answer', 'guy', 'washington', 'edu', 'question', 'mac', 'give', 'start', 'life', 'way', 'new', 'machine', 'bit', 'maybe', 'anybody', 'expect', 'hear', 'suppose', 'access', 'price', 'line', 'like', 'go', 'display', 'probably', 'get', 'feel', 'well', 'great', 'good', 'opinion', 'people', 'use', 'take', 'size', 'money', 'hit', 'real', 'play', 'figure', 'actually', 'advance', 'email', 'post', 'news', 'time', 'truth', 'uucp', 'write', 'article', 'chip', 'far', 'low', 'level', 'stuff', 'pretty', 'nice', 'require', 'address', 'phone', 'information', 'com', 'thing', 'person', 'sense', 'world', 'clear', 'memory', 'error', 'yes', 'quote', 'software', 'check', 'right', 'value', 'set', 'code', 'tell', 'second', 'idea', 'apr', 'john', 'power', 'weapon', 'make', 'cost', 'need', 'control', 'government', 'individual', 'result', 'death', 'non', 'state', 'come', 'believe', 'hard', 'support', 'agree', 'hand', 'hope', 'course', 'term', 'say', 'mean', 'follow', 'kill', 'read', 'present', 'argument', 'understand', 'point', 'allow', 'later', 'consider', 'speak', 'company', 'today', 'think', 'sure', 'instead', 'try', 'file', 'scsi', 'april', 'device', 'long', 'problem', 'love', 'statement', 'list', 'standard', 'version', 'show', 'note', 'exist', 'mode', 'fast', 'datum', 'correct', 'fact', 'ibm', 'available', 'ftp', 'apple', 'drive', 'true', 'reference', 'win', 'help', 'change', 'appreciate', 'design', 'board', 'hardware', 'work', 'technology', 'lose', 'wrong', 'mention', 'product', 'buy', 'run', 'sell', 'bike', 'want', 'org', 'david', 'hold', 'end', 'different', 'explain', 'god', 'jewish', 'jews', 'case', 'decide', 'lead', 'man', 'christian', 'mind', 'create', 'image', 'live', 'christ', 'example', 'press', 'kind', 'little', 'jesus', 'bad', 'bible', 'guess', 'faith', 'child', 'assume', 'simply', 'pub', 'type', 'old', 'learn', 'religion', 'space', 'nasa', 'gov', 'mark', 'city', 'receive', 'likely', 'let', 'study', 'team', 'site', 'key', 'provide', 'force', 'source', 'place', 'return', 'mike', 'build', 'system', 'major', 'single', 'sale', 'offer', 'black', 'player', 'graphic', 'high', 'sound', 'include', 'head', 'ask', 'contact', 'reply', 'atheist', 'form', 'group', 'happen', 'war', 'short', 'cause', 'die', 'certainly', 'program', 'save', 'general', 'big', 'format', 'word', 'sort', 'application', 'job', 'able', 'deal', 'reason', 'driver', 'pay', 'close', 'house', 'security', 'steve', 'university', 'remember', 'similar', 'situation', 'turn', 'couple', 'friend', 'claim', 'stop', 'month', 'light', 'law', 'center', 'hell', 'away', 'ago', 'continue', 'cover', 'book', 'interested', 'important', 'date', 'view', 'possible', 'difference', 'output', 'simple', 'entry', 'mit', 'sun', 'window', 'matter', 'contain', 'order', 'season', 'package', 'data', 'free', 'copy', 'appear', 'fax', 'comment', 'service', 'dos', 'windows', 'monitor', 'box', 'leave', 'involve', 'user', 'care', 'purpose', 'isn', 'game', 'current', 'attack', 'accept', 'earth', 'paul', 'lot', 'ground', 'wouldn', 'local', 'face', 'stand', 'michael', 'better', 'subject', 'israeli', 'israel', 'easy', 'act', 'member', 'week', 'begin', 'bring', 'effect', 'clipper', 'encryption', 'goal', 'drug', 'public', 'large', 'gun', 'clinton', 'rule', 'have', 'american', 'talk', 'action', 'carry', 'function', 'police', 'open', 'issue', 'white', 'home', 'certain', 'net', 'max', 'original', 'christians', 'armenians', 'armenian', 'turkish', 'woman', 'church', 'position', 'pass', 'protect', 'country', 'faq', 'area', 'release', 'plan', 'human', 'science', 'national', 'research', 'test', 'event', 'server', 'break', 'apply', 'evidence', 'text', 'crime', 'president', 'discussion', 'screen', 'period', 'video', 'school', 'color', 'suggest', 'internet', 'netcom', 'hockey'])"
            ]
          },
          "metadata": {},
          "execution_count": 10
        }
      ]
    },
    {
      "cell_type": "code",
      "source": [
        "list(model.wv.vocab.keys()).count(\"car\")"
      ],
      "metadata": {
        "colab": {
          "base_uri": "https://localhost:8080/"
        },
        "id": "PodyogjU3F9J",
        "outputId": "c491203e-4874-4fe8-d831-37692371bc53"
      },
      "execution_count": 24,
      "outputs": [
        {
          "output_type": "execute_result",
          "data": {
            "text/plain": [
              "1"
            ]
          },
          "metadata": {},
          "execution_count": 24
        }
      ]
    },
    {
      "cell_type": "code",
      "source": [
        "len(model.wv.vocab.keys())"
      ],
      "metadata": {
        "colab": {
          "base_uri": "https://localhost:8080/"
        },
        "id": "4bCOd1uooofk",
        "outputId": "b8286738-3535-4844-dcd5-308bd6f8b2f4"
      },
      "execution_count": 13,
      "outputs": [
        {
          "output_type": "execute_result",
          "data": {
            "text/plain": [
              "430"
            ]
          },
          "metadata": {},
          "execution_count": 13
        }
      ]
    },
    {
      "cell_type": "code",
      "source": [
        "model.wv[\"car\"], len(model.wv[\"car\"])\n",
        "#shows the word vector for \"car\"\n",
        "#size is equal to the specified size given in the model creation"
      ],
      "metadata": {
        "colab": {
          "base_uri": "https://localhost:8080/"
        },
        "id": "e-3iOafolIIf",
        "outputId": "58d6eb59-7fa1-4051-f510-0e3aa40f11cd"
      },
      "execution_count": 12,
      "outputs": [
        {
          "output_type": "execute_result",
          "data": {
            "text/plain": [
              "(array([-0.7688538 , -0.57045364,  0.93715423,  1.0327036 ,  1.5292839 ,\n",
              "        -0.5854819 ,  0.7999106 , -1.5903491 ,  0.19504394, -1.0066195 ,\n",
              "        -0.778624  ,  1.9578811 , -0.16155276, -0.86648524, -1.5033013 ,\n",
              "         0.2883837 , -0.24667431,  0.7404138 , -0.48677817,  1.6359075 ,\n",
              "         0.26505637,  1.3500357 , -1.4137801 , -0.9562595 ,  0.36940202,\n",
              "        -0.63888687,  1.4475542 ,  0.69659925,  0.8651052 ,  1.3410618 ,\n",
              "         0.3179075 , -1.3100004 ,  0.5637202 ,  0.19256493,  0.00328407,\n",
              "         0.16411987,  0.3021263 ,  0.5035178 ,  0.2511811 ,  1.1637733 ,\n",
              "         0.03522966,  1.2979157 ,  0.3174995 ,  0.382272  ,  0.86844105,\n",
              "         0.5246218 , -0.4062733 , -0.04315323, -0.46838313, -0.05402102,\n",
              "         0.96688247,  0.40157902, -1.6837243 , -0.9279718 , -0.15396546,\n",
              "         0.45112318,  0.26185328,  0.11979344,  0.9996492 , -0.06004533,\n",
              "        -1.6735586 , -0.7739195 ,  0.29014513,  1.2851517 ,  1.4389242 ,\n",
              "         0.01577799,  0.31093442,  1.3179872 ,  0.9531585 ,  0.1195641 ,\n",
              "         1.4713155 ,  0.16368218, -0.81981796, -0.37650245, -0.00477572,\n",
              "        -0.59638435, -0.3669932 ,  0.72208375, -1.599398  ,  0.13082226,\n",
              "         1.0921841 , -0.93334484, -0.70981693, -0.35593104,  0.01862155,\n",
              "         0.17871805,  0.7934743 , -0.5712646 , -1.1092107 ,  1.985467  ,\n",
              "         0.553498  , -0.03565463,  0.19395977, -1.225257  ,  0.8158965 ,\n",
              "        -1.147517  , -0.5449153 , -0.4350279 ,  1.3555567 , -1.4077328 ],\n",
              "       dtype=float32), 100)"
            ]
          },
          "metadata": {},
          "execution_count": 12
        }
      ]
    },
    {
      "cell_type": "code",
      "source": [
        "model.wv.most_similar(positive=[\"bike\",\"machine\"], topn=1)\n",
        "#shows the most similar word to both bike & machine\n",
        "#(one would have expected car in there maybe?)"
      ],
      "metadata": {
        "colab": {
          "base_uri": "https://localhost:8080/"
        },
        "id": "e9swIsHAokWH",
        "outputId": "67d256f8-ff89-4433-d3c6-bfea44479cf2"
      },
      "execution_count": 16,
      "outputs": [
        {
          "output_type": "execute_result",
          "data": {
            "text/plain": [
              "[('stuff', 0.6519047021865845)]"
            ]
          },
          "metadata": {},
          "execution_count": 16
        }
      ]
    },
    {
      "cell_type": "code",
      "source": [
        "model.wv.most_similar(positive=[\"bike\",\"machine\"], topn=5)\n",
        "#these all seem reasonable; although running a machine has different meaning than running a bike"
      ],
      "metadata": {
        "colab": {
          "base_uri": "https://localhost:8080/"
        },
        "id": "shBLa73WqxzE",
        "outputId": "f298acd3-2ec8-4e5b-d5b2-1a0d56d13d0c"
      },
      "execution_count": 18,
      "outputs": [
        {
          "output_type": "execute_result",
          "data": {
            "text/plain": [
              "[('stuff', 0.6519047021865845),\n",
              " ('buy', 0.6404200792312622),\n",
              " ('run', 0.6102454662322998),\n",
              " ('fast', 0.6102071404457092),\n",
              " ('speed', 0.6068271398544312)]"
            ]
          },
          "metadata": {},
          "execution_count": 18
        }
      ]
    },
    {
      "cell_type": "code",
      "source": [
        "#different words\n",
        "model.wv.most_similar(positive=[\"car\",\"house\"], topn=5)\n",
        "#these all seem reasonable; while some are refering to a king (\"police\"), some are associative to both words (\"bike\")"
      ],
      "metadata": {
        "colab": {
          "base_uri": "https://localhost:8080/"
        },
        "id": "TaN2jCfaq-us",
        "outputId": "4ae086a9-43eb-467d-b0b5-61cbb2e6eba9"
      },
      "execution_count": 20,
      "outputs": [
        {
          "output_type": "execute_result",
          "data": {
            "text/plain": [
              "[('police', 0.5742180347442627),\n",
              " ('white', 0.5732223391532898),\n",
              " ('black', 0.5005381107330322),\n",
              " ('bike', 0.47213566303253174),\n",
              " ('go', 0.47046229243278503)]"
            ]
          },
          "metadata": {},
          "execution_count": 20
        }
      ]
    },
    {
      "cell_type": "code",
      "source": [
        "list(model.wv.vocab.keys()).count('enlighten')"
      ],
      "metadata": {
        "colab": {
          "base_uri": "https://localhost:8080/"
        },
        "id": "UUuyfJ0T6O-9",
        "outputId": "85e69f0e-60ca-4abf-c237-dcca60779618"
      },
      "execution_count": 36,
      "outputs": [
        {
          "output_type": "execute_result",
          "data": {
            "text/plain": [
              "0"
            ]
          },
          "metadata": {},
          "execution_count": 36
        }
      ]
    },
    {
      "cell_type": "code",
      "source": [
        "corpus_embedded = []\n",
        "for doc in corpus_gen:\n",
        "  docs = []\n",
        "  for word in doc:\n",
        "    if list(model.wv.vocab.keys()).count(word) > 0: docs.append(model.wv[word])\n",
        "  if len(docs) != 0: corpus_embedded.append(np.mean(docs, axis = 0)) #len 0 is created by docs that have no words that are in the model!"
      ],
      "metadata": {
        "id": "TGLTn-qPrTca"
      },
      "execution_count": 81,
      "outputs": []
    },
    {
      "cell_type": "code",
      "source": [
        "WordtoVecModel = pd.DataFrame(corpus_embedded)\n",
        "WordtoVecModel.head()"
      ],
      "metadata": {
        "colab": {
          "base_uri": "https://localhost:8080/",
          "height": 299
        },
        "id": "4kLc14OzLBmP",
        "outputId": "1b0c64d4-5671-4e03-c7c1-574051229279"
      },
      "execution_count": 83,
      "outputs": [
        {
          "output_type": "execute_result",
          "data": {
            "text/plain": [
              "         0         1         2         3         4         5         6   \\\n",
              "0 -0.250444 -0.145671  0.368600  0.077028  0.247628 -0.101664  0.102999   \n",
              "1 -0.189367 -0.439202  0.205790 -0.049759  0.052459 -0.114537 -0.103828   \n",
              "2 -0.289220  0.034070  0.028316 -0.176336 -0.211872 -0.069242  0.054079   \n",
              "3 -0.192140 -0.214018 -0.131627  0.146716 -0.098666 -0.102768 -0.192296   \n",
              "4 -0.328924  0.028505  0.210276 -0.069066 -0.263026 -0.245952 -0.343816   \n",
              "\n",
              "         7         8         9   ...        90        91        92        93  \\\n",
              "0 -0.641151  0.255560 -0.547234  ...  0.089160 -0.340357 -0.084376 -0.322424   \n",
              "1  0.092270  0.526709 -0.040958  ... -0.473630 -0.289011  0.233007 -0.236756   \n",
              "2 -0.224646  0.253906 -0.054512  ...  0.096934 -0.379228  0.221882 -0.186829   \n",
              "3 -0.115287 -0.164313  0.233914  ... -0.150026  0.152291  0.255472 -0.199071   \n",
              "4 -0.085552 -0.030569  0.268099  ... -0.226007  0.000967  0.135864 -0.081560   \n",
              "\n",
              "         94        95        96        97        98        99  \n",
              "0  0.151908 -0.240132 -0.108613 -0.291957  0.285783 -0.365435  \n",
              "1 -0.132272 -0.138544 -0.382944 -0.608249 -0.160897 -0.047300  \n",
              "2 -0.080898  0.099022 -0.067428 -0.308073 -0.030986 -0.034373  \n",
              "3  0.181075 -0.002915  0.041878 -0.225609 -0.379897 -0.169778  \n",
              "4 -0.074654  0.401027 -0.040739 -0.073630  0.019213 -0.072080  \n",
              "\n",
              "[5 rows x 100 columns]"
            ],
            "text/html": [
              "\n",
              "  <div id=\"df-cb0361c3-3444-409a-aef6-395a6dbfa2ed\">\n",
              "    <div class=\"colab-df-container\">\n",
              "      <div>\n",
              "<style scoped>\n",
              "    .dataframe tbody tr th:only-of-type {\n",
              "        vertical-align: middle;\n",
              "    }\n",
              "\n",
              "    .dataframe tbody tr th {\n",
              "        vertical-align: top;\n",
              "    }\n",
              "\n",
              "    .dataframe thead th {\n",
              "        text-align: right;\n",
              "    }\n",
              "</style>\n",
              "<table border=\"1\" class=\"dataframe\">\n",
              "  <thead>\n",
              "    <tr style=\"text-align: right;\">\n",
              "      <th></th>\n",
              "      <th>0</th>\n",
              "      <th>1</th>\n",
              "      <th>2</th>\n",
              "      <th>3</th>\n",
              "      <th>4</th>\n",
              "      <th>5</th>\n",
              "      <th>6</th>\n",
              "      <th>7</th>\n",
              "      <th>8</th>\n",
              "      <th>9</th>\n",
              "      <th>...</th>\n",
              "      <th>90</th>\n",
              "      <th>91</th>\n",
              "      <th>92</th>\n",
              "      <th>93</th>\n",
              "      <th>94</th>\n",
              "      <th>95</th>\n",
              "      <th>96</th>\n",
              "      <th>97</th>\n",
              "      <th>98</th>\n",
              "      <th>99</th>\n",
              "    </tr>\n",
              "  </thead>\n",
              "  <tbody>\n",
              "    <tr>\n",
              "      <th>0</th>\n",
              "      <td>-0.250444</td>\n",
              "      <td>-0.145671</td>\n",
              "      <td>0.368600</td>\n",
              "      <td>0.077028</td>\n",
              "      <td>0.247628</td>\n",
              "      <td>-0.101664</td>\n",
              "      <td>0.102999</td>\n",
              "      <td>-0.641151</td>\n",
              "      <td>0.255560</td>\n",
              "      <td>-0.547234</td>\n",
              "      <td>...</td>\n",
              "      <td>0.089160</td>\n",
              "      <td>-0.340357</td>\n",
              "      <td>-0.084376</td>\n",
              "      <td>-0.322424</td>\n",
              "      <td>0.151908</td>\n",
              "      <td>-0.240132</td>\n",
              "      <td>-0.108613</td>\n",
              "      <td>-0.291957</td>\n",
              "      <td>0.285783</td>\n",
              "      <td>-0.365435</td>\n",
              "    </tr>\n",
              "    <tr>\n",
              "      <th>1</th>\n",
              "      <td>-0.189367</td>\n",
              "      <td>-0.439202</td>\n",
              "      <td>0.205790</td>\n",
              "      <td>-0.049759</td>\n",
              "      <td>0.052459</td>\n",
              "      <td>-0.114537</td>\n",
              "      <td>-0.103828</td>\n",
              "      <td>0.092270</td>\n",
              "      <td>0.526709</td>\n",
              "      <td>-0.040958</td>\n",
              "      <td>...</td>\n",
              "      <td>-0.473630</td>\n",
              "      <td>-0.289011</td>\n",
              "      <td>0.233007</td>\n",
              "      <td>-0.236756</td>\n",
              "      <td>-0.132272</td>\n",
              "      <td>-0.138544</td>\n",
              "      <td>-0.382944</td>\n",
              "      <td>-0.608249</td>\n",
              "      <td>-0.160897</td>\n",
              "      <td>-0.047300</td>\n",
              "    </tr>\n",
              "    <tr>\n",
              "      <th>2</th>\n",
              "      <td>-0.289220</td>\n",
              "      <td>0.034070</td>\n",
              "      <td>0.028316</td>\n",
              "      <td>-0.176336</td>\n",
              "      <td>-0.211872</td>\n",
              "      <td>-0.069242</td>\n",
              "      <td>0.054079</td>\n",
              "      <td>-0.224646</td>\n",
              "      <td>0.253906</td>\n",
              "      <td>-0.054512</td>\n",
              "      <td>...</td>\n",
              "      <td>0.096934</td>\n",
              "      <td>-0.379228</td>\n",
              "      <td>0.221882</td>\n",
              "      <td>-0.186829</td>\n",
              "      <td>-0.080898</td>\n",
              "      <td>0.099022</td>\n",
              "      <td>-0.067428</td>\n",
              "      <td>-0.308073</td>\n",
              "      <td>-0.030986</td>\n",
              "      <td>-0.034373</td>\n",
              "    </tr>\n",
              "    <tr>\n",
              "      <th>3</th>\n",
              "      <td>-0.192140</td>\n",
              "      <td>-0.214018</td>\n",
              "      <td>-0.131627</td>\n",
              "      <td>0.146716</td>\n",
              "      <td>-0.098666</td>\n",
              "      <td>-0.102768</td>\n",
              "      <td>-0.192296</td>\n",
              "      <td>-0.115287</td>\n",
              "      <td>-0.164313</td>\n",
              "      <td>0.233914</td>\n",
              "      <td>...</td>\n",
              "      <td>-0.150026</td>\n",
              "      <td>0.152291</td>\n",
              "      <td>0.255472</td>\n",
              "      <td>-0.199071</td>\n",
              "      <td>0.181075</td>\n",
              "      <td>-0.002915</td>\n",
              "      <td>0.041878</td>\n",
              "      <td>-0.225609</td>\n",
              "      <td>-0.379897</td>\n",
              "      <td>-0.169778</td>\n",
              "    </tr>\n",
              "    <tr>\n",
              "      <th>4</th>\n",
              "      <td>-0.328924</td>\n",
              "      <td>0.028505</td>\n",
              "      <td>0.210276</td>\n",
              "      <td>-0.069066</td>\n",
              "      <td>-0.263026</td>\n",
              "      <td>-0.245952</td>\n",
              "      <td>-0.343816</td>\n",
              "      <td>-0.085552</td>\n",
              "      <td>-0.030569</td>\n",
              "      <td>0.268099</td>\n",
              "      <td>...</td>\n",
              "      <td>-0.226007</td>\n",
              "      <td>0.000967</td>\n",
              "      <td>0.135864</td>\n",
              "      <td>-0.081560</td>\n",
              "      <td>-0.074654</td>\n",
              "      <td>0.401027</td>\n",
              "      <td>-0.040739</td>\n",
              "      <td>-0.073630</td>\n",
              "      <td>0.019213</td>\n",
              "      <td>-0.072080</td>\n",
              "    </tr>\n",
              "  </tbody>\n",
              "</table>\n",
              "<p>5 rows × 100 columns</p>\n",
              "</div>\n",
              "      <button class=\"colab-df-convert\" onclick=\"convertToInteractive('df-cb0361c3-3444-409a-aef6-395a6dbfa2ed')\"\n",
              "              title=\"Convert this dataframe to an interactive table.\"\n",
              "              style=\"display:none;\">\n",
              "        \n",
              "  <svg xmlns=\"http://www.w3.org/2000/svg\" height=\"24px\"viewBox=\"0 0 24 24\"\n",
              "       width=\"24px\">\n",
              "    <path d=\"M0 0h24v24H0V0z\" fill=\"none\"/>\n",
              "    <path d=\"M18.56 5.44l.94 2.06.94-2.06 2.06-.94-2.06-.94-.94-2.06-.94 2.06-2.06.94zm-11 1L8.5 8.5l.94-2.06 2.06-.94-2.06-.94L8.5 2.5l-.94 2.06-2.06.94zm10 10l.94 2.06.94-2.06 2.06-.94-2.06-.94-.94-2.06-.94 2.06-2.06.94z\"/><path d=\"M17.41 7.96l-1.37-1.37c-.4-.4-.92-.59-1.43-.59-.52 0-1.04.2-1.43.59L10.3 9.45l-7.72 7.72c-.78.78-.78 2.05 0 2.83L4 21.41c.39.39.9.59 1.41.59.51 0 1.02-.2 1.41-.59l7.78-7.78 2.81-2.81c.8-.78.8-2.07 0-2.86zM5.41 20L4 18.59l7.72-7.72 1.47 1.35L5.41 20z\"/>\n",
              "  </svg>\n",
              "      </button>\n",
              "      \n",
              "  <style>\n",
              "    .colab-df-container {\n",
              "      display:flex;\n",
              "      flex-wrap:wrap;\n",
              "      gap: 12px;\n",
              "    }\n",
              "\n",
              "    .colab-df-convert {\n",
              "      background-color: #E8F0FE;\n",
              "      border: none;\n",
              "      border-radius: 50%;\n",
              "      cursor: pointer;\n",
              "      display: none;\n",
              "      fill: #1967D2;\n",
              "      height: 32px;\n",
              "      padding: 0 0 0 0;\n",
              "      width: 32px;\n",
              "    }\n",
              "\n",
              "    .colab-df-convert:hover {\n",
              "      background-color: #E2EBFA;\n",
              "      box-shadow: 0px 1px 2px rgba(60, 64, 67, 0.3), 0px 1px 3px 1px rgba(60, 64, 67, 0.15);\n",
              "      fill: #174EA6;\n",
              "    }\n",
              "\n",
              "    [theme=dark] .colab-df-convert {\n",
              "      background-color: #3B4455;\n",
              "      fill: #D2E3FC;\n",
              "    }\n",
              "\n",
              "    [theme=dark] .colab-df-convert:hover {\n",
              "      background-color: #434B5C;\n",
              "      box-shadow: 0px 1px 3px 1px rgba(0, 0, 0, 0.15);\n",
              "      filter: drop-shadow(0px 1px 2px rgba(0, 0, 0, 0.3));\n",
              "      fill: #FFFFFF;\n",
              "    }\n",
              "  </style>\n",
              "\n",
              "      <script>\n",
              "        const buttonEl =\n",
              "          document.querySelector('#df-cb0361c3-3444-409a-aef6-395a6dbfa2ed button.colab-df-convert');\n",
              "        buttonEl.style.display =\n",
              "          google.colab.kernel.accessAllowed ? 'block' : 'none';\n",
              "\n",
              "        async function convertToInteractive(key) {\n",
              "          const element = document.querySelector('#df-cb0361c3-3444-409a-aef6-395a6dbfa2ed');\n",
              "          const dataTable =\n",
              "            await google.colab.kernel.invokeFunction('convertToInteractive',\n",
              "                                                     [key], {});\n",
              "          if (!dataTable) return;\n",
              "\n",
              "          const docLinkHtml = 'Like what you see? Visit the ' +\n",
              "            '<a target=\"_blank\" href=https://colab.research.google.com/notebooks/data_table.ipynb>data table notebook</a>'\n",
              "            + ' to learn more about interactive tables.';\n",
              "          element.innerHTML = '';\n",
              "          dataTable['output_type'] = 'display_data';\n",
              "          await google.colab.output.renderOutput(dataTable, element);\n",
              "          const docLink = document.createElement('div');\n",
              "          docLink.innerHTML = docLinkHtml;\n",
              "          element.appendChild(docLink);\n",
              "        }\n",
              "      </script>\n",
              "    </div>\n",
              "  </div>\n",
              "  "
            ]
          },
          "metadata": {},
          "execution_count": 83
        }
      ]
    },
    {
      "cell_type": "code",
      "source": [
        "#Save stemmed data as .pkl\n",
        "with open('/content/drive/MyDrive/df_w2v.pkl', 'wb') as f:\n",
        "    pickle.dump(WordtoVecModel, f)"
      ],
      "metadata": {
        "id": "6AtlE7mrLMgH"
      },
      "execution_count": 85,
      "outputs": []
    },
    {
      "cell_type": "code",
      "source": [
        "WordtoVecModel.iloc[0,:]"
      ],
      "metadata": {
        "colab": {
          "base_uri": "https://localhost:8080/"
        },
        "id": "PuHpQI5lQ_bA",
        "outputId": "ce018165-a7de-4c66-e747-91a3e5004d04"
      },
      "execution_count": 86,
      "outputs": [
        {
          "output_type": "execute_result",
          "data": {
            "text/plain": [
              "0    -0.250444\n",
              "1    -0.145671\n",
              "2     0.368600\n",
              "3     0.077028\n",
              "4     0.247628\n",
              "        ...   \n",
              "95   -0.240132\n",
              "96   -0.108613\n",
              "97   -0.291957\n",
              "98    0.285783\n",
              "99   -0.365435\n",
              "Name: 0, Length: 100, dtype: float32"
            ]
          },
          "metadata": {},
          "execution_count": 86
        }
      ]
    },
    {
      "cell_type": "code",
      "source": [
        "#Props to Philipp for this line\n",
        "index = np.argmax(model.wv.cosine_similarities(WordtoVecModel.iloc[0,:], model.wv.vectors))\n",
        "index, model.wv.index2word[index]"
      ],
      "metadata": {
        "colab": {
          "base_uri": "https://localhost:8080/"
        },
        "id": "i_-gSLsCU2Jb",
        "outputId": "4d2713d2-07b9-40b2-a903-ebf27d1c6d15"
      },
      "execution_count": 103,
      "outputs": [
        {
          "output_type": "execute_result",
          "data": {
            "text/plain": [
              "(60, 'car')"
            ]
          },
          "metadata": {},
          "execution_count": 103
        }
      ]
    },
    {
      "cell_type": "markdown",
      "source": [
        "# Part 2"
      ],
      "metadata": {
        "id": "IuRNsA-xamR_"
      }
    },
    {
      "cell_type": "code",
      "source": [
        "corpus_tagged = []\n",
        "for i, tokens in enumerate(corpus_gen):\n",
        "  corpus_tagged.append(TaggedDocument(tokens, [i]))"
      ],
      "metadata": {
        "id": "mhjReupUanQh"
      },
      "execution_count": 120,
      "outputs": []
    },
    {
      "cell_type": "code",
      "source": [
        "corpus_tagged[:4]"
      ],
      "metadata": {
        "colab": {
          "base_uri": "https://localhost:8080/"
        },
        "id": "CHelGY1xgu0P",
        "outputId": "f90a8cc8-5dad-4b13-f846-590aa90869c3"
      },
      "execution_count": 121,
      "outputs": [
        {
          "output_type": "execute_result",
          "data": {
            "text/plain": [
              "[TaggedDocument(words=['car', 'wonder', 'enlighten', 'car', 'see', 'day', 'door', 'sport', 'car', 'look', 'late', 'early', 'call', 'bricklin', 'door', 'small', 'addition', 'bumper', 'separate', 'rest', 'body', 'know', 'tellme', 'model', 'engine', 'specs', 'year', 'production', 'car', 'history', 'info', 'funky', 'looking', 'car', 'mail', 'thank'], tags=[0]),\n",
              " TaggedDocument(words=['clock', 'poll', 'final', 'final', 'clock', 'report', 'acceleration', 'clock', 'upgrade', 'fair', 'number', 'brave', 'soul', 'upgrade', 'clock', 'oscillator', 'share', 'experience', 'poll', 'send', 'brief', 'message', 'detailing', 'experience', 'procedure', 'speed', 'attain', 'cpu', 'rate', 'speed', 'add', 'card', 'adapters', 'heat', 'sink', 'hour', 'usage', 'day', 'floppy', 'disk', 'functionality', 'floppy', 'especially', 'request', 'summarize', 'day', 'add', 'network', 'knowledge', 'base', 'clock', 'upgrade', 'haven', 'answer', 'poll', 'thank', 'guy', 'kuo', 'guykuo', 'washington', 'edu'], tags=[1]),\n",
              " TaggedDocument(words=['question', 'folk', 'mac', 'plus', 'finally', 'give', 'ghost', 'weekend', 'start', 'life', 'way', 'sooo', 'market', 'new', 'machine', 'bit', 'sooner', 'intend', 'look', 'pick', 'powerbook', 'maybe', 'bunch', 'question', 'hopefully', 'somebody', 'answer', 'anybody', 'know', 'dirt', 'round', 'powerbook', 'introduction', 'expect', 'hear', 'suppose', 'appearence', 'summer', 'haven', 'hear', 'anymore', 'access', 'macleak', 'wonder', 'anybody', 'info', 'anybody', 'hear', 'rumor', 'price', 'drop', 'powerbook', 'line', 'like', 'one', 'duo', 'go', 'recently', 'impression', 'display', 'probably', 'swing', 'get', 'disk', 'feel', 'well', 'display', 'yea', 'look', 'great', 'store', 'wow', 'good', 'solicit', 'opinion', 'people', 'use', 'day', 'day', 'worth', 'take', 'disk', 'size', 'money', 'hit', 'active', 'display', 'realize', 'real', 'subjective', 'question', 'play', 'machine', 'store', 'breifly', 'figure', 'opinion', 'somebody', 'actually', 'use', 'machine', 'daily', 'prove', 'helpful', 'hellcat', 'perform', 'thank', 'bunch', 'advance', 'info', 'email', 'post', 'summary', 'news', 'reading', 'time', 'premium', 'final', 'corner', 'tom', 'willis', 'twillis', 'ecn', 'purdue', 'edu', 'purdue', 'electrical', 'engineering', 'conviction', 'dangerous', 'enemy', 'truth', 'lie', 'nietzsche'], tags=[2]),\n",
              " TaggedDocument(words=['weitek', 'robert', 'kyanko', 'rob', 'rjck', 'uucp', 'write', 'abraxi', 'iastate', 'edu', 'write', 'article', 'abraxis', 'class', 'iastate', 'edu', 'know', 'weitek', 'graphics', 'chip', 'far', 'low', 'level', 'stuff', 'go', 'look', 'pretty', 'nice', 'get', 'quadrilateral', 'command', 'require', 'points', 'weitek', 'address', 'phone', 'number', 'like', 'information', 'chip', 'joe', 'green', 'harris', 'corporation', 'jgreen', 'csd', 'harris', 'com', 'systems', 'division', 'thing', 'scare', 'person', 'sense', 'humor', 'jonathan', 'winter'], tags=[3])]"
            ]
          },
          "metadata": {},
          "execution_count": 121
        }
      ]
    },
    {
      "cell_type": "code",
      "source": [
        "tagged_model = Doc2Vec(corpus_tagged, vector_size = 100, min_count = 566)"
      ],
      "metadata": {
        "id": "IMgbo8-kjNnZ"
      },
      "execution_count": 122,
      "outputs": []
    },
    {
      "cell_type": "code",
      "source": [
        "# infer vector (embedding representation) of first document \n",
        "inf_vec = tagged_model.infer_vector(corpus_tagged[0][0])"
      ],
      "metadata": {
        "id": "vSzRZVGPkfyI"
      },
      "execution_count": 131,
      "outputs": []
    },
    {
      "cell_type": "code",
      "source": [
        "inf_vec"
      ],
      "metadata": {
        "colab": {
          "base_uri": "https://localhost:8080/"
        },
        "id": "aS0GUFnglQHV",
        "outputId": "9e04feeb-370a-42a3-ff15-228a109a59cb"
      },
      "execution_count": 127,
      "outputs": [
        {
          "output_type": "execute_result",
          "data": {
            "text/plain": [
              "array([-0.00982174, -0.03790557,  0.08960464,  0.05358515,  0.07837495,\n",
              "       -0.08305655,  0.00857049, -0.06249359,  0.00467596, -0.04073333,\n",
              "       -0.00561744,  0.07903958,  0.03598593,  0.04725059, -0.03266205,\n",
              "       -0.00085888,  0.05856785,  0.03837515, -0.06242437,  0.12611246,\n",
              "        0.04323708,  0.00097824, -0.07547297, -0.07893962,  0.04142608,\n",
              "        0.01708958,  0.0457562 , -0.01369079,  0.00346038,  0.08628903,\n",
              "       -0.01616589, -0.00733301, -0.0738913 ,  0.07258812,  0.03019334,\n",
              "       -0.07906841,  0.02202205,  0.06804267, -0.0565364 , -0.00689948,\n",
              "       -0.07738908,  0.05986636, -0.01849759,  0.09466633,  0.05493022,\n",
              "        0.0085044 , -0.07182146, -0.02088423, -0.08697141, -0.07794274,\n",
              "        0.06348237,  0.02667676, -0.1432374 , -0.05611106,  0.00245078,\n",
              "        0.02615167, -0.0240259 ,  0.07789084,  0.04461633, -0.00860584,\n",
              "       -0.10254473, -0.03691643,  0.0495472 ,  0.06145537, -0.00442888,\n",
              "        0.014801  , -0.01124022,  0.11131298,  0.05582102, -0.01309174,\n",
              "       -0.02507903, -0.00957172, -0.05563025,  0.06686319, -0.1156439 ,\n",
              "        0.03492897,  0.02570507,  0.03797989, -0.08452754, -0.03947862,\n",
              "        0.01339353, -0.06633126, -0.00141426, -0.0007171 , -0.00447672,\n",
              "        0.03839841,  0.08646411,  0.01968549, -0.12965597,  0.07850105,\n",
              "       -0.0334774 ,  0.03154543, -0.08974264, -0.08954498,  0.10079156,\n",
              "       -0.0132478 , -0.01780867,  0.01287137, -0.0153377 , -0.06432099],\n",
              "      dtype=float32)"
            ]
          },
          "metadata": {},
          "execution_count": 127
        }
      ]
    },
    {
      "cell_type": "code",
      "source": [
        "corpus_embedded[0]"
      ],
      "metadata": {
        "colab": {
          "base_uri": "https://localhost:8080/"
        },
        "id": "n-hrxVrynOgh",
        "outputId": "f9bfb0de-e164-432b-eb51-c2e0bdfc4a3b"
      },
      "execution_count": 128,
      "outputs": [
        {
          "output_type": "execute_result",
          "data": {
            "text/plain": [
              "array([-2.50443995e-01, -1.45671219e-01,  3.68599772e-01,  7.70283341e-02,\n",
              "        2.47628212e-01, -1.01663612e-01,  1.02999248e-01, -6.41150653e-01,\n",
              "        2.55560011e-01, -5.47234058e-01, -5.18729448e-01,  4.13301289e-01,\n",
              "       -1.06957182e-01, -1.74564719e-01, -3.68398488e-01,  1.75920278e-01,\n",
              "        3.46154310e-02, -1.85210782e-03, -2.89226919e-01,  7.48682201e-01,\n",
              "       -4.21790481e-02,  2.78001338e-01, -5.20258307e-01, -2.72893369e-01,\n",
              "        1.41813368e-01, -6.78571314e-02,  4.56432581e-01,  1.66515917e-01,\n",
              "        2.66882449e-01,  4.15113449e-01,  2.03316644e-01, -3.10972512e-01,\n",
              "        1.44162089e-01,  1.29583329e-01,  6.80604354e-02,  2.94016600e-02,\n",
              "        2.40566418e-01,  3.65773499e-01, -4.03370857e-01,  3.85075808e-01,\n",
              "       -4.55330871e-02,  2.70523101e-01,  2.16713503e-01,  2.46971369e-01,\n",
              "        9.72816199e-02,  1.49014980e-01, -2.43425816e-01, -2.31367588e-01,\n",
              "       -4.03888762e-01, -3.73605788e-01,  2.89890707e-01,  3.47398877e-01,\n",
              "       -9.73893821e-01, -5.09615123e-01, -2.59591907e-01,  1.43874839e-01,\n",
              "       -2.90336087e-03,  2.33842172e-02,  4.62057292e-01, -4.62935604e-02,\n",
              "       -6.40974879e-01, -2.44736478e-01,  1.11952424e-04,  3.73977661e-01,\n",
              "        4.82983768e-01, -1.97034970e-01, -2.54335757e-02,  3.92224610e-01,\n",
              "        5.46549916e-01, -6.26199692e-02,  1.07052967e-01, -9.86469239e-02,\n",
              "       -9.71289203e-02,  4.93698493e-02, -1.90593213e-01, -2.14280650e-01,\n",
              "        1.05944155e-02,  4.90629762e-01, -6.95365131e-01, -5.36470786e-02,\n",
              "        3.88419211e-01, -1.35702595e-01, -5.60182221e-02, -1.59990460e-01,\n",
              "       -1.55354351e-01,  1.19290099e-01,  2.00162336e-01, -1.31743047e-02,\n",
              "       -2.36513212e-01,  5.67617714e-01,  8.91600177e-02, -3.40357482e-01,\n",
              "       -8.43755454e-02, -3.22424471e-01,  1.51907712e-01, -2.40131691e-01,\n",
              "       -1.08613327e-01, -2.91956902e-01,  2.85782665e-01, -3.65435421e-01],\n",
              "      dtype=float32)"
            ]
          },
          "metadata": {},
          "execution_count": 128
        }
      ]
    },
    {
      "cell_type": "code",
      "source": [
        "DoctoVecModel = [tagged_model.infer_vector(doc) for doc, doc_id in corpus_tagged]"
      ],
      "metadata": {
        "id": "QL5c9w1WnVvV"
      },
      "execution_count": 134,
      "outputs": []
    },
    {
      "cell_type": "code",
      "source": [
        "#Save stemmed data as .pkl\n",
        "with open('/content/drive/MyDrive/df_d2v.pkl', 'wb') as f:\n",
        "    pickle.dump(DoctoVecModel, f)"
      ],
      "metadata": {
        "id": "e6r7hood4oC8"
      },
      "execution_count": 135,
      "outputs": []
    },
    {
      "cell_type": "code",
      "source": [
        ""
      ],
      "metadata": {
        "id": "MYf_jwG643Io"
      },
      "execution_count": null,
      "outputs": []
    }
  ]
}