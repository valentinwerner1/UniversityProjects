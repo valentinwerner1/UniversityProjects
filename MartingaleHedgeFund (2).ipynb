{
 "cells": [
  {
   "cell_type": "code",
   "execution_count": 45,
   "id": "5a030735-167a-4674-ae14-563a58fd31ff",
   "metadata": {},
   "outputs": [],
   "source": [
    "import numpy as np\n",
    "import matplotlib.pyplot as plt"
   ]
  },
  {
   "cell_type": "code",
   "execution_count": 288,
   "id": "8538ae27-cb26-4a6e-b5fd-39ab233ef69e",
   "metadata": {},
   "outputs": [],
   "source": [
    "sims = 10000\n",
    "years = 30\n",
    "StartAUM = 1000000\n",
    "bankruptcy = np.empty(sims)\n",
    "finalAUM = np.empty(sims)\n",
    "manager_profit = np.empty(sims)\n",
    "chance = 18/38\n",
    "yearly_fee = 0.01\n",
    "performance_fee = 0.10\n",
    "for i in range(sims):\n",
    "    AUM = StartAUM\n",
    "    profit = 0\n",
    "    performance = 0\n",
    "    #start the loop, which will be done yearly\n",
    "    for a in range(years):\n",
    "        #shift management fee from AUM to profits\n",
    "        profit += (AUM * yearly_fee)\n",
    "        AUM -= (AUM * yearly_fee)\n",
    "        #calcculate the yearly stakes\n",
    "        stakes = AUM * 0.1\n",
    "        #These two help variables together always show the AUM at the end of the year if won\n",
    "        first_AUM = AUM \n",
    "        first_stakes = AUM * 0.1 \n",
    "        win = 0\n",
    "        while win == 0 and AUM > 0:\n",
    "            if np.random.binomial(1, chance, 1) == 1:\n",
    "                win = 1\n",
    "                AUM = first_AUM + first_stakes #calculate AUM if won\n",
    "                performance += (first_stakes * performance_fee) #shift performance fee towards profits\n",
    "                AUM -= (first_stakes * performance_fee) #doesnt make sense to reduce cumulative performance fee\n",
    "            else:\n",
    "                AUM -= stakes\n",
    "                if (AUM - stakes * 2) > 0:\n",
    "                    stakes = stakes * 2\n",
    "                else:\n",
    "                    stakes = AUM\n",
    "        #while loop ends because AUM = 0\n",
    "        if AUM == 0:\n",
    "            break\n",
    "    if AUM == 0:\n",
    "        bankruptcy[i] = a #went bankrupt after surviving a years\n",
    "    else: \n",
    "        bankruptcy[i] = a+1 #equivalent to surviving all years\n",
    "    \n",
    "    finalAUM[i] = AUM\n",
    "    manager_profit[i] = profit + performance"
   ]
  },
  {
   "cell_type": "code",
   "execution_count": 289,
   "id": "8751fd45-8af5-479f-945f-5ffc989cb184",
   "metadata": {},
   "outputs": [
    {
     "data": {
      "text/plain": [
       "551314.3069535963"
      ]
     },
     "execution_count": 289,
     "metadata": {},
     "output_type": "execute_result"
    }
   ],
   "source": [
    "#Expected manager profit\n",
    "np.mean(manager_profit)"
   ]
  },
  {
   "cell_type": "code",
   "execution_count": 290,
   "id": "880102f6-559b-437a-a22d-aa41fca73c46",
   "metadata": {},
   "outputs": [
    {
     "data": {
      "text/plain": [
       "2217455.4194750884"
      ]
     },
     "execution_count": 290,
     "metadata": {},
     "output_type": "execute_result"
    }
   ],
   "source": [
    "#Maximum manager profit\n",
    "max(manager_profit)"
   ]
  },
  {
   "cell_type": "code",
   "execution_count": 291,
   "id": "630b53c3-ffe6-46f3-94cc-f829ec577ea3",
   "metadata": {},
   "outputs": [
    {
     "data": {
      "text/plain": [
       "-111823.34205611073"
      ]
     },
     "execution_count": 291,
     "metadata": {},
     "output_type": "execute_result"
    }
   ],
   "source": [
    "#Expected client win / loss\n",
    "np.mean(finalAUM) - StartAUM"
   ]
  },
  {
   "cell_type": "code",
   "execution_count": 292,
   "id": "0e65b66e-400c-4417-9213-60ceb9dce3d1",
   "metadata": {},
   "outputs": [
    {
     "data": {
      "text/plain": [
       "0.9095"
      ]
     },
     "execution_count": 292,
     "metadata": {},
     "output_type": "execute_result"
    }
   ],
   "source": [
    "#Risk of going bankrupt\n",
    "1- (np.sum(bankruptcy == 30)/sims)"
   ]
  },
  {
   "cell_type": "code",
   "execution_count": 293,
   "id": "1db4463f-0523-4868-94cf-75850c536bb0",
   "metadata": {},
   "outputs": [
    {
     "data": {
      "image/png": "[encoded data removed]",
      "text/plain": [
       "<Figure size 432x288 with 1 Axes>"
      ]
     },
     "metadata": {
      "needs_background": "light"
     },
     "output_type": "display_data"
    }
   ],
   "source": [
    "plt.hist(bankruptcy, bins = 30);"
   ]
  }
 ],
 "metadata": {
  "kernelspec": {
   "display_name": "Python 3",
   "language": "python",
   "name": "python3"
  },
  "language_info": {
   "codemirror_mode": {
    "name": "ipython",
    "version": 3
   },
   "file_extension": ".py",
   "mimetype": "text/x-python",
   "name": "python",
   "nbconvert_exporter": "python",
   "pygments_lexer": "ipython3",
   "version": "3.8.8"
  }
 },
 "nbformat": 4,
 "nbformat_minor": 5
}
