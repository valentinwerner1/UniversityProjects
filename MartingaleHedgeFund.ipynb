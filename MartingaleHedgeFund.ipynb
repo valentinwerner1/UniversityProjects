{
 "cells": [
  {
   "cell_type": "code",
   "execution_count": 71,
   "id": "5a030735-167a-4674-ae14-563a58fd31ff",
   "metadata": {},
   "outputs": [],
   "source": [
    "import numpy as np\n",
    "import matplotlib.pyplot as plt"
   ]
  },
  {
   "cell_type": "code",
   "execution_count": 72,
   "id": "6ae5ebd8-c1e8-4564-91e6-1620859aaa6f",
   "metadata": {},
   "outputs": [],
   "source": [
    "sims = 10000\n",
    "bankruptcy = np.empty(sims)\n",
    "finalAUM = np.empty(sims)\n",
    "manager_profit = np.empty(sims)\n",
    "for i in range(sims):\n",
    "    AUM = 1000000\n",
    "    chance = 18/38\n",
    "    profit = 0\n",
    "    win = 0\n",
    "    #start the loop, which will be done yearly\n",
    "    for a in range(0,30):\n",
    "        #get 1% of the AUM from the AUM to the management (profits)\n",
    "        profit = profit + (AUM * 0.01)\n",
    "        AUM = AUM - (AUM * 0.01)\n",
    "        #pay 10% of the money gambling\n",
    "        gambling_money = AUM * 0.1\n",
    "        #rum the gambling, win = 1, loss = 0\n",
    "        win1 = np.random.binomial(1, chance, 1)\n",
    "        if win1 == 1:\n",
    "            AUM = AUM + gambling_money #add the money won to the pool\n",
    "        else:\n",
    "            AUM = AUM - gambling_money #substract the lost money\n",
    "            win2 = 0\n",
    "            while win2 == 0 and AUM != 0: #repeated until its won and we still have money to play\n",
    "                if AUM > (gambling_money*2):\n",
    "                    gambling_money = gambling_money * 2 #double the money being gambled\n",
    "                    win2 = np.random.binomial(1, chance, 1)\n",
    "                    if win2 == 1:\n",
    "                        AUM = AUM + gambling_money #add the won money\n",
    "                    else:\n",
    "                        AUM = AUM - gambling_money #substract the lost money\n",
    "                else:\n",
    "                    gambling_money = AUM\n",
    "                    win3 = np.random.binomial(1, chance, 1)\n",
    "                    if win3 == 1:\n",
    "                        AUM = AUM + gambling_money #add the won money\n",
    "                    else: \n",
    "                        AUM = AUM - gambling_money #all money lost\n",
    "                if AUM == 0:\n",
    "                    break\n",
    "            if AUM == 0:\n",
    "                break\n",
    "    manager_profit[i] = profit\n",
    "    bankruptcy[i] = a+1 #equivalent: company survived a+1 years (min 1 year, max 30 year)\n",
    "    finalAUM[i] = AUM"
   ]
  },
  {
   "cell_type": "code",
   "execution_count": 73,
   "id": "a16bdbfe-a083-47e6-bfb9-c9fda0ff09a0",
   "metadata": {},
   "outputs": [
    {
     "data": {
      "text/plain": [
       "0.0126"
      ]
     },
     "execution_count": 73,
     "metadata": {},
     "output_type": "execute_result"
    }
   ],
   "source": [
    "#Risk of bankruptcy of the hedge fund\n",
    "np.sum(bankruptcy == 30)/len(bankruptcy)"
   ]
  },
  {
   "cell_type": "code",
   "execution_count": 74,
   "id": "39704de7-5b91-4885-a0f9-72a1da9b0ce4",
   "metadata": {},
   "outputs": [
    {
     "data": {
      "text/plain": [
       "-859310.1098266963"
      ]
     },
     "execution_count": 74,
     "metadata": {},
     "output_type": "execute_result"
    }
   ],
   "source": [
    "#Expected Profit / Loss of the client\n",
    "np.mean(finalAUM) - 1000000"
   ]
  },
  {
   "cell_type": "code",
   "execution_count": 75,
   "id": "95aefa97-da31-4729-8e9e-95722d004e4c",
   "metadata": {},
   "outputs": [
    {
     "data": {
      "text/plain": [
       "132112.51519364983"
      ]
     },
     "execution_count": 75,
     "metadata": {},
     "output_type": "execute_result"
    }
   ],
   "source": [
    "#Expected Profit / Loss of management\n",
    "np.mean(manager_profit)"
   ]
  },
  {
   "cell_type": "code",
   "execution_count": 76,
   "id": "28c28b26-8dc7-4a21-8b25-bddd5c003452",
   "metadata": {},
   "outputs": [
    {
     "data": {
      "image/png": "[encoded data removed]",
      "text/plain": [
       "<Figure size 432x288 with 1 Axes>"
      ]
     },
     "metadata": {
      "needs_background": "light"
     },
     "output_type": "display_data"
    }
   ],
   "source": [
    "plt.hist(bankruptcy, bins = 30);"
   ]
  },
  {
   "cell_type": "code",
   "execution_count": 77,
   "id": "9f15c680-8aff-43f6-8229-31d311775a20",
   "metadata": {},
   "outputs": [
    {
     "data": {
      "text/plain": [
       "1337902.1768199538"
      ]
     },
     "execution_count": 77,
     "metadata": {},
     "output_type": "execute_result"
    }
   ],
   "source": [
    "np.max(manager_profit)"
   ]
  },
  {
   "cell_type": "code",
   "execution_count": null,
   "id": "a9b05cc9-2db0-4057-97f0-469d070c9e6f",
   "metadata": {},
   "outputs": [],
   "source": []
  }
 ],
 "metadata": {
  "kernelspec": {
   "display_name": "Python 3",
   "language": "python",
   "name": "python3"
  },
  "language_info": {
   "codemirror_mode": {
    "name": "ipython",
    "version": 3
   },
   "file_extension": ".py",
   "mimetype": "text/x-python",
   "name": "python",
   "nbconvert_exporter": "python",
   "pygments_lexer": "ipython3",
   "version": "3.8.8"
  }
 },
 "nbformat": 4,
 "nbformat_minor": 5
}
