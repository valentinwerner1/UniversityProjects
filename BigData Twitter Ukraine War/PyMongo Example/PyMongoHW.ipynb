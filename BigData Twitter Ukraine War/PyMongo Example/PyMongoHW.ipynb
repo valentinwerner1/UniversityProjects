{
 "cells": [
  {
   "cell_type": "code",
   "execution_count": 1,
   "metadata": {},
   "outputs": [
    {
     "name": "stdout",
     "output_type": "stream",
     "text": [
      "Collecting pymongo\n",
      "  Downloading pymongo-4.1.1-cp39-cp39-win_amd64.whl (365 kB)\n",
      "Installing collected packages: pymongo\n",
      "Successfully installed pymongo-4.1.1\n"
     ]
    }
   ],
   "source": [
    "!pip3 install pymongo"
   ]
  },
  {
   "cell_type": "code",
   "execution_count": 10,
   "metadata": {},
   "outputs": [],
   "source": [
    "from pymongo import MongoClient\n",
    "from pprint import pprint\n",
    "import requests "
   ]
  },
  {
   "cell_type": "code",
   "execution_count": 11,
   "metadata": {},
   "outputs": [],
   "source": [
    "# Client connects to \"localhost\" by default \n",
    "client = MongoClient()"
   ]
  },
  {
   "cell_type": "code",
   "execution_count": 12,
   "metadata": {},
   "outputs": [],
   "source": [
    "db = client[\"bipm\"]"
   ]
  },
  {
   "cell_type": "code",
   "execution_count": 13,
   "metadata": {},
   "outputs": [],
   "source": [
    "db.courses.drop()"
   ]
  },
  {
   "cell_type": "code",
   "execution_count": 14,
   "metadata": {},
   "outputs": [],
   "source": [
    "# Create a Python Dictonary\n",
    "courses = [\n",
    "    {'title': 'Data Science',\n",
    "     'lecturer': {\n",
    "         'name': 'Markus Löcher',\n",
    "         'department': 'Math',\n",
    "         'status': 'Professor'\n",
    "     },\n",
    "     'semester': 1},\n",
    "    {'title': 'Data Warehousing',\n",
    "     'lecturer': {\n",
    "         'name': 'Roland M. Mueller',\n",
    "         'department': 'Information Systems',\n",
    "         'status': 'Professor'\n",
    "     },\n",
    "     'semester': 1},\n",
    "    {'title': 'Business Process Management',\n",
    "     'lecturer': {\n",
    "         'name': 'Frank Habermann',\n",
    "         'department': 'Information Systems',\n",
    "         'status': 'Professor'\n",
    "     },\n",
    "     'semester': 1},\n",
    "    {'title': 'Stratigic Issues of IT',\n",
    "     'lecturer': {\n",
    "         'name': 'Sven Pohland',\n",
    "         'department': 'Information Systems',\n",
    "         'status': 'Professor'\n",
    "     },\n",
    "     'semester': 1},\n",
    "    {'title': 'Text, Web and Social Media Analytics Lab',\n",
    "     'lecturer': {\n",
    "         'name': 'Markus Löcher',\n",
    "         'department': 'Math',\n",
    "         'status': 'Professor'\n",
    "     },\n",
    "     'semester': 2},\n",
    "    {'title': 'Enterprise Architectures for Big Data',\n",
    "     'lecturer': {\n",
    "         'name': 'Roland M. Mueller',\n",
    "         'department': 'Information Systems',\n",
    "         'status': 'Professor'\n",
    "     },\n",
    "     'semester': 2},\n",
    "    {'title': 'Business Process Integration Lab',\n",
    "     'lecturer': {\n",
    "         'name': 'Frank Habermann',\n",
    "         'department': 'Information Systems',\n",
    "         'status': 'Professor'\n",
    "     },\n",
    "     'semester': 2},\n",
    "    {'title': 'IT-Security and Privacy',\n",
    "     'lecturer': {\n",
    "         'name': 'Dennis Uckel',\n",
    "         'department': 'Information Systems',\n",
    "         'status': 'External'\n",
    "     },\n",
    "     'semester': 2},\n",
    "    {'title': 'Research Methods',\n",
    "     'lecturer': {\n",
    "         'name': 'Marcus Birkenkrahe',\n",
    "         'department': 'Information Systems',\n",
    "         'status': 'Professor'\n",
    "     },\n",
    "     'semester': 2},\n",
    "]"
   ]
  },
  {
   "cell_type": "code",
   "execution_count": 15,
   "metadata": {},
   "outputs": [
    {
     "name": "stdout",
     "output_type": "stream",
     "text": [
      "[{'lecturer': {'department': 'Math',\n",
      "               'name': 'Markus Löcher',\n",
      "               'status': 'Professor'},\n",
      "  'semester': 1,\n",
      "  'title': 'Data Science'},\n",
      " {'lecturer': {'department': 'Information Systems',\n",
      "               'name': 'Roland M. Mueller',\n",
      "               'status': 'Professor'},\n",
      "  'semester': 1,\n",
      "  'title': 'Data Warehousing'},\n",
      " {'lecturer': {'department': 'Information Systems',\n",
      "               'name': 'Frank Habermann',\n",
      "               'status': 'Professor'},\n",
      "  'semester': 1,\n",
      "  'title': 'Business Process Management'},\n",
      " {'lecturer': {'department': 'Information Systems',\n",
      "               'name': 'Sven Pohland',\n",
      "               'status': 'Professor'},\n",
      "  'semester': 1,\n",
      "  'title': 'Stratigic Issues of IT'},\n",
      " {'lecturer': {'department': 'Math',\n",
      "               'name': 'Markus Löcher',\n",
      "               'status': 'Professor'},\n",
      "  'semester': 2,\n",
      "  'title': 'Text, Web and Social Media Analytics Lab'},\n",
      " {'lecturer': {'department': 'Information Systems',\n",
      "               'name': 'Roland M. Mueller',\n",
      "               'status': 'Professor'},\n",
      "  'semester': 2,\n",
      "  'title': 'Enterprise Architectures for Big Data'},\n",
      " {'lecturer': {'department': 'Information Systems',\n",
      "               'name': 'Frank Habermann',\n",
      "               'status': 'Professor'},\n",
      "  'semester': 2,\n",
      "  'title': 'Business Process Integration Lab'},\n",
      " {'lecturer': {'department': 'Information Systems',\n",
      "               'name': 'Dennis Uckel',\n",
      "               'status': 'External'},\n",
      "  'semester': 2,\n",
      "  'title': 'IT-Security and Privacy'},\n",
      " {'lecturer': {'department': 'Information Systems',\n",
      "               'name': 'Marcus Birkenkrahe',\n",
      "               'status': 'Professor'},\n",
      "  'semester': 2,\n",
      "  'title': 'Research Methods'}]\n"
     ]
    }
   ],
   "source": [
    "pprint(courses)"
   ]
  },
  {
   "cell_type": "code",
   "execution_count": 16,
   "metadata": {},
   "outputs": [
    {
     "data": {
      "text/plain": [
       "<pymongo.results.InsertManyResult at 0x1c0af3c4e80>"
      ]
     },
     "execution_count": 16,
     "metadata": {},
     "output_type": "execute_result"
    }
   ],
   "source": [
    "db.courses.insert_many(courses)\n",
    "#You can use the insert_one() method and the insert_many() method to add documents to a collection in MongoDB. \n",
    "#If you attempt to add documents to a collection that does not exist, MongoDB will create the collection for you."
   ]
  },
  {
   "cell_type": "code",
   "execution_count": null,
   "metadata": {},
   "outputs": [
    {
     "name": "stdout",
     "output_type": "stream",
     "text": [
      "{'_id': ObjectId('6290755183e63c4a7ca75818'), 'title': 'Data Science', 'lecturer': {'name': 'Markus Löcher', 'department': 'Math', 'status': 'Professor'}, 'semester': 1}\n",
      "{'_id': ObjectId('6290755183e63c4a7ca75819'), 'title': 'Data Warehousing', 'lecturer': {'name': 'Roland M. Mueller', 'department': 'Information Systems', 'status': 'Professor'}, 'semester': 1}\n",
      "{'_id': ObjectId('6290755183e63c4a7ca7581a'), 'title': 'Business Process Management', 'lecturer': {'name': 'Frank Habermann', 'department': 'Information Systems', 'status': 'Professor'}, 'semester': 1}\n",
      "{'_id': ObjectId('6290755183e63c4a7ca7581b'), 'title': 'Stratigic Issues of IT', 'lecturer': {'name': 'Sven Pohland', 'department': 'Information Systems', 'status': 'Professor'}, 'semester': 1}\n",
      "{'_id': ObjectId('6290755183e63c4a7ca7581c'), 'title': 'Text, Web and Social Media Analytics Lab', 'lecturer': {'name': 'Markus Löcher', 'department': 'Math', 'status': 'Professor'}, 'semester': 2}\n",
      "{'_id': ObjectId('6290755183e63c4a7ca7581d'), 'title': 'Enterprise Architectures for Big Data', 'lecturer': {'name': 'Roland M. Mueller', 'department': 'Information Systems', 'status': 'Professor'}, 'semester': 2}\n",
      "{'_id': ObjectId('6290755183e63c4a7ca7581e'), 'title': 'Business Process Integration Lab', 'lecturer': {'name': 'Frank Habermann', 'department': 'Information Systems', 'status': 'Professor'}, 'semester': 2}\n",
      "{'_id': ObjectId('6290755183e63c4a7ca7581f'), 'title': 'IT-Security and Privacy', 'lecturer': {'name': 'Dennis Uckel', 'department': 'Information Systems', 'status': 'External'}, 'semester': 2}\n",
      "{'_id': ObjectId('6290755183e63c4a7ca75820'), 'title': 'Research Methods', 'lecturer': {'name': 'Marcus Birkenkrahe', 'department': 'Information Systems', 'status': 'Professor'}, 'semester': 2}\n",
      "{'_id': ObjectId('629076bf83e63c4a7ca75821'), 'title': 'Master Thesis', 'semester': 3}\n"
     ]
    }
   ],
   "source": [
    "#Insert the new course\n",
    "db.courses.insert_one(another_course) #again, pattern: CLIENT.COLLECTION.COMMAND\n",
    "#This is how you delete one\n",
    "##db.courses.delete_one(another_course)\n",
    "cursor = db.courses.find() \n",
    "#Check if it worked\n",
    "for doc in cursor:\n",
    "    print(doc)"
   ]
  },
  {
   "cell_type": "code",
   "execution_count": 33,
   "metadata": {},
   "outputs": [
    {
     "data": {
      "text/plain": [
       "{'title': 'Master Thesis', 'semester': 3}"
      ]
     },
     "execution_count": 33,
     "metadata": {},
     "output_type": "execute_result"
    }
   ],
   "source": [
    "import json\n",
    "my_json = '{\"title\": \"Master Thesis\", \"semester\": 3}' #example for JSON content\n",
    "another_course = json.loads(my_json) #turn into JSON file\n",
    "another_course"
   ]
  },
  {
   "cell_type": "code",
   "execution_count": 42,
   "metadata": {},
   "outputs": [
    {
     "name": "stdout",
     "output_type": "stream",
     "text": [
      "{'_id': ObjectId('6290755183e63c4a7ca75818'), 'title': 'Data Science', 'lecturer': {'name': 'Markus Löcher', 'department': 'Math', 'status': 'Professor'}, 'semester': 1}\n",
      "{'_id': ObjectId('6290755183e63c4a7ca75819'), 'title': 'Data Warehousing', 'lecturer': {'name': 'Roland M. Mueller', 'department': 'Information Systems', 'status': 'Professor'}, 'semester': 1}\n",
      "{'_id': ObjectId('6290755183e63c4a7ca7581a'), 'title': 'Business Process Management', 'lecturer': {'name': 'Frank Habermann', 'department': 'Information Systems', 'status': 'Professor'}, 'semester': 1}\n",
      "{'_id': ObjectId('6290755183e63c4a7ca7581b'), 'title': 'Stratigic Issues of IT', 'lecturer': {'name': 'Sven Pohland', 'department': 'Information Systems', 'status': 'Professor'}, 'semester': 1}\n",
      "{'_id': ObjectId('6290755183e63c4a7ca7581c'), 'title': 'Text, Web and Social Media Analytics Lab', 'lecturer': {'name': 'Markus Löcher', 'department': 'Math', 'status': 'Professor'}, 'semester': 2}\n",
      "{'_id': ObjectId('6290755183e63c4a7ca7581d'), 'title': 'Enterprise Architectures for Big Data', 'lecturer': {'name': 'Roland M. Mueller', 'department': 'Information Systems', 'status': 'Professor'}, 'semester': 2}\n",
      "{'_id': ObjectId('6290755183e63c4a7ca7581e'), 'title': 'Business Process Integration Lab', 'lecturer': {'name': 'Frank Habermann', 'department': 'Information Systems', 'status': 'Professor'}, 'semester': 2}\n",
      "{'_id': ObjectId('6290755183e63c4a7ca7581f'), 'title': 'IT-Security and Privacy', 'lecturer': {'name': 'Dennis Uckel', 'department': 'Information Systems', 'status': 'External'}, 'semester': 2}\n",
      "{'_id': ObjectId('6290755183e63c4a7ca75820'), 'title': 'Research Methods', 'lecturer': {'name': 'Marcus Birkenkrahe', 'department': 'Information Systems', 'status': 'Professor'}, 'semester': 2}\n",
      "{'_id': ObjectId('629076bf83e63c4a7ca75821'), 'title': 'Master Thesis', 'semester': 3}\n"
     ]
    }
   ],
   "source": [
    "#Insert the new course\n",
    "db.courses.insert_one(another_course) #again, pattern: CLIENT.COLLECTION.COMMAND\n",
    "#This is how you delete one\n",
    "##db.courses.delete_one(another_course)\n",
    "#Check if it worked\n",
    "cursor = db.courses.find() \n",
    "for doc in cursor:\n",
    "    print(doc)"
   ]
  },
  {
   "cell_type": "code",
   "execution_count": 48,
   "metadata": {},
   "outputs": [
    {
     "name": "stdout",
     "output_type": "stream",
     "text": [
      "6290755183e63c4a7ca75818 \n",
      " Markus Löcher\n"
     ]
    }
   ],
   "source": [
    "#Find all courses with title Data Science\n",
    "query = {\"title\":\"Data Science\"} #Note: Case sensitive!\n",
    "result = db.courses.find(query)\n",
    "for i in result:\n",
    "    print(i[\"_id\"], \"\\n\", i[\"lecturer\"][\"name\"]) #since lecturer is nested, we can further subquery"
   ]
  },
  {
   "cell_type": "code",
   "execution_count": 51,
   "metadata": {},
   "outputs": [
    {
     "name": "stdout",
     "output_type": "stream",
     "text": [
      "{'_id': ObjectId('6290755183e63c4a7ca7581c'),\n",
      " 'lecturer': {'department': 'Math',\n",
      "              'name': 'Markus Löcher',\n",
      "              'status': 'Professor'},\n",
      " 'semester': 2,\n",
      " 'title': 'Text, Web and Social Media Analytics Lab'}\n"
     ]
    }
   ],
   "source": [
    "#Find FIRST course in 2nd semester\n",
    "query = {\"semester\": 2}\n",
    "result = db.courses.find_one(query)\n",
    "pprint(result) #for fine_one we don't need a for-loop!"
   ]
  },
  {
   "cell_type": "code",
   "execution_count": 56,
   "metadata": {},
   "outputs": [
    {
     "name": "stdout",
     "output_type": "stream",
     "text": [
      "Text, Web and Social Media Analytics Lab\n",
      "Enterprise Architectures for Big Data\n",
      "Business Process Integration Lab\n",
      "IT-Security and Privacy\n",
      "Research Methods\n"
     ]
    }
   ],
   "source": [
    "#Find ALL courses from 2nd semester, print title\n",
    "query = {\"semester\": 2}\n",
    "result = db.courses.find(query)\n",
    "for i in result:\n",
    "    print(i[\"title\"])"
   ]
  },
  {
   "cell_type": "code",
   "execution_count": 58,
   "metadata": {},
   "outputs": [
    {
     "name": "stdout",
     "output_type": "stream",
     "text": [
      "Markus Löcher\n",
      "Roland M. Mueller\n",
      "Frank Habermann\n",
      "Dennis Uckel\n",
      "Marcus Birkenkrahe\n"
     ]
    }
   ],
   "source": [
    "#Find ALL courses from 2nd semester, print lecturer name\n",
    "query = {\"semester\": 2}\n",
    "result = db.courses.find(query)\n",
    "for i in result:\n",
    "    print(i[\"lecturer\"][\"name\"])"
   ]
  },
  {
   "cell_type": "code",
   "execution_count": 61,
   "metadata": {},
   "outputs": [
    {
     "name": "stdout",
     "output_type": "stream",
     "text": [
      "Business Process Management , Semester 1\n",
      "Business Process Integration Lab , Semester 2\n"
     ]
    }
   ],
   "source": [
    "#Search for information that is nested\n",
    "query = {\"lecturer.name\": \"Frank Habermann\"} #using the . in the query key, we can access nested information\n",
    "result = db.courses.find(query)\n",
    "for i in result:\n",
    "    print(i[\"title\"],\", Semester\", i[\"semester\"])"
   ]
  },
  {
   "cell_type": "code",
   "execution_count": 62,
   "metadata": {},
   "outputs": [
    {
     "name": "stdout",
     "output_type": "stream",
     "text": [
      "Business Process Integration Lab , Semester 2\n"
     ]
    }
   ],
   "source": [
    "#Search for multiple conditions (Logical AND)\n",
    "query = {\"lecturer.name\": \"Frank Habermann\", \"semester\": 2} #AND condition by using comma\n",
    "result = db.courses.find(query)\n",
    "for i in result:\n",
    "    print(i[\"title\"],\", Semester\", i[\"semester\"])"
   ]
  },
  {
   "cell_type": "code",
   "execution_count": 65,
   "metadata": {},
   "outputs": [
    {
     "name": "stdout",
     "output_type": "stream",
     "text": [
      "Data Science , Semester 1\n",
      "Business Process Management , Semester 1\n",
      "Text, Web and Social Media Analytics Lab , Semester 2\n",
      "Business Process Integration Lab , Semester 2\n"
     ]
    }
   ],
   "source": [
    "#Search for multiple conditions (Logical OR)\n",
    "#OR condition by using list and \"$or\"\n",
    "query = {\"$or\": [{\"lecturer.name\": \"Frank Habermann\"}, {\"lecturer.name\": \"Markus Löcher\"}]} \n",
    "result = db.courses.find(query)\n",
    "for i in result:\n",
    "    print(i[\"title\"],\", Semester\", i[\"semester\"])"
   ]
  },
  {
   "cell_type": "code",
   "execution_count": 66,
   "metadata": {},
   "outputs": [
    {
     "name": "stdout",
     "output_type": "stream",
     "text": [
      "Text, Web and Social Media Analytics Lab , Semester 2\n",
      "Enterprise Architectures for Big Data , Semester 2\n",
      "Business Process Integration Lab , Semester 2\n",
      "IT-Security and Privacy , Semester 2\n",
      "Research Methods , Semester 2\n",
      "Master Thesis , Semester 3\n"
     ]
    }
   ],
   "source": [
    "#Search for greater than / less than\n",
    "query = {\"semester\": {\"$gt\":1}} #\"$gt\" for greater, \"$lt\" for less; greater equal with or query \n",
    "result = db.courses.find(query)\n",
    "for i in result:\n",
    "    print(i[\"title\"],\", Semester\", i[\"semester\"])"
   ]
  },
  {
   "cell_type": "code",
   "execution_count": 68,
   "metadata": {},
   "outputs": [
    {
     "data": {
      "text/plain": [
       "5"
      ]
     },
     "execution_count": 68,
     "metadata": {},
     "output_type": "execute_result"
    }
   ],
   "source": [
    "#Counting found documents\n",
    "query = {\"semester\": 2}\n",
    "db.courses.count_documents(query) #counts the numer of results"
   ]
  },
  {
   "cell_type": "code",
   "execution_count": 69,
   "metadata": {},
   "outputs": [],
   "source": [
    "# Create local \"nobel\" database \n",
    "db = client[\"nobel\"]\n",
    "db.prizes.drop()\n",
    "db.laureates.drop()\n",
    "# API documented at https://nobelprize.readme.io/docs/prize \n",
    "for collection_name in [\"prizes\", \"laureates\"]:\n",
    "    singular = collection_name[:-1] # the API uses singular\n",
    "    response = requests.get(\"http://api.nobelprize.org/v1/{}.json\".format(singular)) \n",
    "    documents = response.json()[collection_name] \n",
    "    # Create collections on the fly \n",
    "    db[collection_name].insert_many(documents)"
   ]
  },
  {
   "cell_type": "code",
   "execution_count": 70,
   "metadata": {},
   "outputs": [
    {
     "name": "stdout",
     "output_type": "stream",
     "text": [
      "{'_id': ObjectId('62907fd583e63c4a7ca75ab4'),\n",
      " 'born': '1845-03-27',\n",
      " 'bornCity': 'Lennep (now Remscheid)',\n",
      " 'bornCountry': 'Prussia (now Germany)',\n",
      " 'bornCountryCode': 'DE',\n",
      " 'died': '1923-02-10',\n",
      " 'diedCity': 'Munich',\n",
      " 'diedCountry': 'Germany',\n",
      " 'diedCountryCode': 'DE',\n",
      " 'firstname': 'Wilhelm Conrad',\n",
      " 'gender': 'male',\n",
      " 'id': '1',\n",
      " 'prizes': [{'affiliations': [{'city': 'Munich',\n",
      "                               'country': 'Germany',\n",
      "                               'name': 'Munich University'}],\n",
      "             'category': 'physics',\n",
      "             'motivation': '\"in recognition of the extraordinary services he '\n",
      "                           'has rendered by the discovery of the remarkable '\n",
      "                           'rays subsequently named after him\"',\n",
      "             'share': '1',\n",
      "             'year': '1901'}],\n",
      " 'surname': 'Röntgen'}\n"
     ]
    }
   ],
   "source": [
    "#pprint first to see data structure\n",
    "pprint(db.laureates.find_one())"
   ]
  },
  {
   "cell_type": "code",
   "execution_count": 71,
   "metadata": {},
   "outputs": [
    {
     "name": "stdout",
     "output_type": "stream",
     "text": [
      "'Wilhelm Conrad'\n"
     ]
    }
   ],
   "source": [
    "#first name of first doc\n",
    "pprint(db.laureates.find_one()[\"firstname\"])"
   ]
  },
  {
   "cell_type": "code",
   "execution_count": 72,
   "metadata": {},
   "outputs": [
    {
     "data": {
      "text/plain": [
       "58"
      ]
     },
     "execution_count": 72,
     "metadata": {},
     "output_type": "execute_result"
    }
   ],
   "source": [
    "#how many female laureates\n",
    "db.laureates.count_documents({\"gender\":\"female\"})"
   ]
  },
  {
   "cell_type": "code",
   "execution_count": 79,
   "metadata": {},
   "outputs": [
    {
     "data": {
      "text/plain": [
       "97"
      ]
     },
     "execution_count": 79,
     "metadata": {},
     "output_type": "execute_result"
    }
   ],
   "source": [
    "#How many laureates are from germany\n",
    "#With the $regex function you can use a regular expression\n",
    "#distinct list only all distinct entries.\n",
    "query = {\"bornCountry\": {\"$regex\": \"Germany\"}}\n",
    "db.laureates.count_documents(query)"
   ]
  },
  {
   "cell_type": "code",
   "execution_count": 95,
   "metadata": {},
   "outputs": [
    {
     "data": {
      "text/plain": [
       "(95, 70)"
      ]
     },
     "execution_count": 95,
     "metadata": {},
     "output_type": "execute_result"
    }
   ],
   "source": [
    "len(db.laureates.distinct(\"surname\", {\"bornCountry\": {\"$regex\": \"Germany\"}})), len(db.laureates.distinct(\"firstname\", {\"bornCountry\": {\"$regex\": \"Germany\"}}))\n",
    "#97 from germany, 95 with distinct surname, 70 with distinct first name"
   ]
  },
  {
   "cell_type": "code",
   "execution_count": 102,
   "metadata": {},
   "outputs": [
    {
     "name": "stdout",
     "output_type": "stream",
     "text": [
      "1901 Wilhelm Conrad Röntgen\n",
      "1909 Ferdinand Braun\n",
      "1914 Max von Laue\n",
      "1918 Max Planck\n",
      "1919 Johannes Stark\n",
      "1921 Albert Einstein\n",
      "1925 James Franck\n",
      "1925 Gustav Hertz\n",
      "1932 Werner Heisenberg\n",
      "1943 Otto Stern\n",
      "1954 Max Born\n",
      "1954 Walther Bothe\n",
      "1955 Polykarp Kusch\n",
      "1961 Rudolf Mössbauer\n",
      "1963 Maria Goeppert Mayer\n",
      "1963 J. Hans D. Jensen\n",
      "1966 Alfred Kastler\n",
      "1967 Hans Bethe\n",
      "1978 Arno Penzias\n",
      "1986 Ernst Ruska\n",
      "1986 Gerd Binnig\n",
      "1987 J. Georg Bednorz\n",
      "1988 Jack Steinberger\n",
      "1989 Hans G. Dehmelt\n",
      "1989 Wolfgang Paul\n",
      "1998 Horst L. Störmer\n",
      "2000 Herbert Kroemer\n",
      "2001 Wolfgang Ketterle\n",
      "2005 Theodor W. Hänsch\n",
      "2017 Rainer Weiss\n",
      "2020 Reinhard Genzel\n",
      "2021 Klaus Hasselmann\n"
     ]
    }
   ],
   "source": [
    "#All physics laureates from germany, return year of the first prize, the first name, and surename\n",
    "query = {\"prizes.category\" : \"physics\", \"bornCountry\": {\"$regex\": \"Germany\"}}\n",
    "result = db.laureates.find(query)\n",
    "for i in result:\n",
    "    print(i[\"prizes\"][0][\"year\"], i[\"firstname\"], i[\"surname\"])"
   ]
  },
  {
   "cell_type": "code",
   "execution_count": 104,
   "metadata": {},
   "outputs": [
    {
     "name": "stdout",
     "output_type": "stream",
     "text": [
      "{'_id': ObjectId('62907fd583e63c4a7ca75e24'),\n",
      " 'born': '1997-07-12',\n",
      " 'bornCity': 'Mingora',\n",
      " 'bornCountry': 'Pakistan',\n",
      " 'bornCountryCode': 'PK',\n",
      " 'died': '0000-00-00',\n",
      " 'firstname': 'Malala',\n",
      " 'gender': 'female',\n",
      " 'id': '914',\n",
      " 'prizes': [{'affiliations': [[]],\n",
      "             'category': 'peace',\n",
      "             'motivation': '\"for their struggle against the suppression of '\n",
      "                           'children and young people and for the right of all '\n",
      "                           'children to education\"',\n",
      "             'share': '2',\n",
      "             'year': '2014'}],\n",
      " 'surname': 'Yousafzai'}\n"
     ]
    }
   ],
   "source": [
    "#Document with Malala as first name\n",
    "query = {\"firstname\":\"Malala\"}\n",
    "result = db.laureates.find(query)\n",
    "for i in result:\n",
    "    pprint(i)"
   ]
  },
  {
   "cell_type": "code",
   "execution_count": 122,
   "metadata": {},
   "outputs": [
    {
     "name": "stdout",
     "output_type": "stream",
     "text": [
      "1903 Marie Curie\n",
      "1905 Bertha von Suttner\n",
      "1909 Selma Lagerlöf\n",
      "1926 Grazia Deledda\n",
      "1928 Sigrid Undset\n",
      "1931 Jane Addams\n",
      "1935 Irène Joliot-Curie\n",
      "1938 Pearl Buck\n",
      "1945 Gabriela Mistral\n",
      "1946 Emily Greene Balch\n",
      "1947 Gerty Cori\n",
      "1963 Maria Goeppert Mayer\n",
      "1964 Dorothy Crowfoot Hodgkin\n",
      "1966 Nelly Sachs\n",
      "1976 Betty Williams\n",
      "1976 Mairead Corrigan\n",
      "1977 Rosalyn Yalow\n",
      "1979 Anjezë Gonxhe Bojaxhiu\n",
      "1982 Alva Myrdal\n",
      "1983 Barbara McClintock\n",
      "1986 Rita Levi-Montalcini\n",
      "1988 Gertrude B. Elion\n"
     ]
    },
    {
     "ename": "KeyError",
     "evalue": "'surname'",
     "output_type": "error",
     "traceback": [
      "\u001b[1;31m---------------------------------------------------------------------------\u001b[0m",
      "\u001b[1;31mKeyError\u001b[0m                                  Traceback (most recent call last)",
      "\u001b[1;32m~\\AppData\\Local\\Temp/ipykernel_9720/2014027232.py\u001b[0m in \u001b[0;36m<module>\u001b[1;34m\u001b[0m\n\u001b[0;32m      5\u001b[0m \u001b[0mresult\u001b[0m \u001b[1;33m=\u001b[0m \u001b[0mdb\u001b[0m\u001b[1;33m.\u001b[0m\u001b[0mlaureates\u001b[0m\u001b[1;33m.\u001b[0m\u001b[0mfind\u001b[0m\u001b[1;33m(\u001b[0m\u001b[0mquery\u001b[0m\u001b[1;33m)\u001b[0m\u001b[1;33m.\u001b[0m\u001b[0msort\u001b[0m\u001b[1;33m(\u001b[0m\u001b[1;33m[\u001b[0m\u001b[1;33m(\u001b[0m\u001b[1;34m\"prizes.year\"\u001b[0m\u001b[1;33m,\u001b[0m \u001b[1;36m1\u001b[0m\u001b[1;33m)\u001b[0m\u001b[1;33m]\u001b[0m\u001b[1;33m)\u001b[0m \u001b[1;31m#1 = ascending, -1 = descending\u001b[0m\u001b[1;33m\u001b[0m\u001b[1;33m\u001b[0m\u001b[0m\n\u001b[0;32m      6\u001b[0m \u001b[1;32mfor\u001b[0m \u001b[0mi\u001b[0m \u001b[1;32min\u001b[0m \u001b[0mresult\u001b[0m\u001b[1;33m:\u001b[0m\u001b[1;33m\u001b[0m\u001b[1;33m\u001b[0m\u001b[0m\n\u001b[1;32m----> 7\u001b[1;33m     \u001b[0mprint\u001b[0m\u001b[1;33m(\u001b[0m\u001b[0mi\u001b[0m\u001b[1;33m[\u001b[0m\u001b[1;34m\"prizes\"\u001b[0m\u001b[1;33m]\u001b[0m\u001b[1;33m[\u001b[0m\u001b[1;36m0\u001b[0m\u001b[1;33m]\u001b[0m\u001b[1;33m[\u001b[0m\u001b[1;34m\"year\"\u001b[0m\u001b[1;33m]\u001b[0m\u001b[1;33m,\u001b[0m \u001b[0mi\u001b[0m\u001b[1;33m[\u001b[0m\u001b[1;34m\"firstname\"\u001b[0m\u001b[1;33m]\u001b[0m\u001b[1;33m,\u001b[0m \u001b[0mi\u001b[0m\u001b[1;33m[\u001b[0m\u001b[1;34m\"surname\"\u001b[0m\u001b[1;33m]\u001b[0m\u001b[1;33m)\u001b[0m \u001b[1;31m#problem: one record has no surname\u001b[0m\u001b[1;33m\u001b[0m\u001b[1;33m\u001b[0m\u001b[0m\n\u001b[0m",
      "\u001b[1;31mKeyError\u001b[0m: 'surname'"
     ]
    }
   ],
   "source": [
    "# Find only female nobel laureates, sort them according the the prize year in ascending order\n",
    "# print year of the first prize, firstname, and surname\n",
    "\n",
    "query = {\"gender\":\"female\"}\n",
    "result = db.laureates.find(query).sort([(\"prizes.year\", 1)]) #1 = ascending, -1 = descending\n",
    "for i in result:\n",
    "    print(i[\"prizes\"][0][\"year\"], i[\"firstname\"], i[\"surname\"]) #problem: one record has no surname"
   ]
  },
  {
   "cell_type": "code",
   "execution_count": 131,
   "metadata": {},
   "outputs": [
    {
     "name": "stdout",
     "output_type": "stream",
     "text": [
      "1903 Marie Curie\n",
      "1905 Bertha von Suttner\n",
      "1909 Selma Lagerlöf\n",
      "1926 Grazia Deledda\n",
      "1928 Sigrid Undset\n",
      "1931 Jane Addams\n",
      "1935 Irène Joliot-Curie\n",
      "1938 Pearl Buck\n",
      "1945 Gabriela Mistral\n",
      "1946 Emily Greene Balch\n",
      "1947 Gerty Cori\n",
      "1963 Maria Goeppert Mayer\n",
      "1964 Dorothy Crowfoot Hodgkin\n",
      "1966 Nelly Sachs\n",
      "1976 Betty Williams\n",
      "1976 Mairead Corrigan\n",
      "1977 Rosalyn Yalow\n",
      "1979 Anjezë Gonxhe Bojaxhiu\n",
      "1982 Alva Myrdal\n",
      "1983 Barbara McClintock\n",
      "1986 Rita Levi-Montalcini\n",
      "1988 Gertrude B. Elion\n",
      "1991 Aung San Suu Kyi None\n",
      "1991 Nadine Gordimer\n",
      "1992 Rigoberta Menchú Tum\n",
      "1993 Toni Morrison\n",
      "1995 Christiane Nüsslein-Volhard\n",
      "1996 Wislawa Szymborska\n",
      "1997 Jody Williams\n",
      "2003 Shirin Ebadi\n",
      "2004 Linda B. Buck\n",
      "2004 Elfriede Jelinek\n",
      "2004 Wangari Maathai\n",
      "2007 Doris Lessing\n",
      "2008 Françoise Barré-Sinoussi\n",
      "2009 Elizabeth H. Blackburn\n",
      "2009 Carol W. Greider\n",
      "2009 Ada E. Yonath\n",
      "2009 Herta Müller\n",
      "2009 Elinor Ostrom\n",
      "2011 Ellen Johnson Sirleaf\n",
      "2011 Leymah Gbowee\n",
      "2011 Tawakkol Karman\n",
      "2013 Alice Munro\n",
      "2014 May-Britt Moser\n",
      "2014 Malala Yousafzai\n",
      "2015 Youyou Tu\n",
      "2015 Svetlana Alexievich\n",
      "2018 Donna Strickland\n",
      "2018 Frances H. Arnold\n",
      "2018 Nadia Murad\n",
      "2018 Olga Tokarczuk\n",
      "2019 Esther Duflo\n",
      "2020 Andrea Ghez\n",
      "2020 Emmanuelle Charpentier\n",
      "2020 Jennifer A. Doudna\n",
      "2020 Louise Glück\n",
      "2021 Maria Ressa\n"
     ]
    }
   ],
   "source": [
    "# Find only female nobel laureates, sort them according the the prize year in ascending order\n",
    "# print year of the first prize, firstname, and surname\n",
    "query = {\"gender\":\"female\"}\n",
    "result = db.laureates.find(query).sort([(\"prizes.year\", 1)]) #1 = ascending, -1 = descending\n",
    "for i in result:\n",
    "    print(i.get(\"prizes\")[0][\"year\"], i.get(\"firstname\"), i.get(\"surname\")) #avoid non existing keys with get"
   ]
  }
 ],
 "metadata": {
  "interpreter": {
   "hash": "e68333006553a7c259dbbc354d1c2bf2da12a2e4ac4c5930a431473931cc291e"
  },
  "kernelspec": {
   "display_name": "Python 3.9.7 ('base': conda)",
   "language": "python",
   "name": "python3"
  },
  "language_info": {
   "codemirror_mode": {
    "name": "ipython",
    "version": 3
   },
   "file_extension": ".py",
   "mimetype": "text/x-python",
   "name": "python",
   "nbconvert_exporter": "python",
   "pygments_lexer": "ipython3",
   "version": "3.9.7"
  },
  "orig_nbformat": 4
 },
 "nbformat": 4,
 "nbformat_minor": 2
}
