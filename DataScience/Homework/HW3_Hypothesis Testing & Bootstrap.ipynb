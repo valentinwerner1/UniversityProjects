{
 "cells": [
  {
   "cell_type": "markdown",
   "metadata": {},
   "source": [
    "# Homework 3\n",
    "\n",
    "**Bootstrap and Testing**"
   ]
  },
  {
   "cell_type": "markdown",
   "metadata": {},
   "source": [
    "## Task 1\n",
    "1. Test the hypothesis that the survival rates for female passengers in Pclass 1 was no larger than in Pclass 2."
   ]
  },
  {
   "cell_type": "code",
   "execution_count": 2,
   "metadata": {},
   "outputs": [],
   "source": [
    "import numpy as np\n",
    "import pandas as pd\n",
    "import matplotlib.pyplot as plt\n",
    "import seaborn as sns"
   ]
  },
  {
   "cell_type": "code",
   "execution_count": 3,
   "metadata": {},
   "outputs": [],
   "source": [
    "#Titanic data:\n",
    "titanic = sns.load_dataset('titanic')"
   ]
  },
  {
   "cell_type": "markdown",
   "metadata": {},
   "source": [
    "calculating t-statistic\n",
    "$$t = \\frac{\\bar{x} - \\mu_0}{\\hat{\\sigma}/\\sqrt{n}}$$"
   ]
  },
  {
   "cell_type": "markdown",
   "metadata": {},
   "source": [
    "point-estimate\n",
    "\n",
    "$$p_e = p_1 -p_2 $$"
   ]
  },
  {
   "cell_type": "markdown",
   "metadata": {},
   "source": [
    "H0 = p_pclass1 =< p_pclass2 -> p1 - p2 <= 0\n",
    "\n",
    "H1 = p_pclass1 > p_class2 -> p1-p2 > 0\n",
    "\n",
    "-> one sided test "
   ]
  },
  {
   "cell_type": "code",
   "execution_count": 4,
   "metadata": {},
   "outputs": [
    {
     "name": "stdout",
     "output_type": "stream",
     "text": [
      "groupby:         survived\n",
      "pclass          \n",
      "1       0.968085\n",
      "2       0.921053 \n",
      " \n",
      " crosstab: \n",
      "  survived  0   1\n",
      "pclass         \n",
      "1         3  91\n",
      "2         6  70\n"
     ]
    }
   ],
   "source": [
    "#Get an overview over the means with the groupby function\n",
    "fem_titanic_classes = titanic[(titanic[\"sex\"] == \"female\") & (titanic[\"pclass\"] < 3)].loc[:, [\"survived\",\"pclass\"]]\n",
    "groups = fem_titanic_classes.groupby([\"pclass\"]).mean()\n",
    "\n",
    "#Get an overview over the absolute numbers with a crosstab\n",
    "tab = pd.crosstab(fem_titanic_classes[\"pclass\"],fem_titanic_classes[\"survived\"])\n",
    "\n",
    "print(\"groupby:\" , groups, \"\\n \\n\", \"crosstab: \\n \", tab)"
   ]
  },
  {
   "cell_type": "code",
   "execution_count": 5,
   "metadata": {},
   "outputs": [
    {
     "data": {
      "text/plain": [
       "0.04703247480403139"
      ]
     },
     "execution_count": 5,
     "metadata": {},
     "output_type": "execute_result"
    }
   ],
   "source": [
    "#Define needed variables\n",
    "pclass1 = fem_titanic_classes[fem_titanic_classes[\"pclass\"] ==1]\n",
    "pclass1_surv = pclass1[\"survived\"]\n",
    "pclass1_mean = np.mean(pclass1_surv)\n",
    "pclass2 = fem_titanic_classes[fem_titanic_classes[\"pclass\"] ==2]\n",
    "pclass2_surv = pclass2[\"survived\"]\n",
    "pclass2_mean = np.mean(pclass2_surv)\n",
    "\n",
    "#Calculate the point estimate\n",
    "point_est = pclass1_mean - pclass2_mean \n",
    "point_est"
   ]
  },
  {
   "cell_type": "code",
   "execution_count": 6,
   "metadata": {},
   "outputs": [],
   "source": [
    "def permutation_sample(group_a, group_b):\n",
    "    \"\"\"computes a permutation sample for two groups\"\"\"\n",
    "    combine = np.concatenate((group_a, group_b))\n",
    "    \n",
    "    #draw the permutation sample for the combined group and split into the same group lengths as before\n",
    "    permutation = np.random.permutation(combine)\n",
    "    permutation_a = permutation[:len(group_a)] #selects an array according to the length of group a\n",
    "    permutation_b = permutation[len(group_a):] #selects the remaining array for group b (therefore, automatically the length of group b)\n",
    "    \n",
    "    return permutation_a, permutation_b"
   ]
  },
  {
   "cell_type": "code",
   "execution_count": 7,
   "metadata": {},
   "outputs": [],
   "source": [
    "np.random.seed(1)\n",
    "#Calculate results from chance alone\n",
    "#permutate bootstrap the samples to find results by chance alone\n",
    "\n",
    "M = 10000 #specify how many bootstrap samples should be drawn\n",
    "diff_perm1 = np.empty((M, len(pclass1_surv)))\n",
    "diff_perm2 = np.empty((M, len(pclass2_surv)))\n",
    "perm_point_ests = np.empty(M)\n",
    "for i in range(M):\n",
    "    perm_p1, perm_p2 = permutation_sample(pclass1_surv, pclass2_surv)\n",
    "        \n",
    "    hits_perm_p1 = np.count_nonzero(perm_p1 == 0)\n",
    "    length_pclass1_surv = len(perm_p1)\n",
    "    \n",
    "    # calculates the amount of true element in b and b's size\n",
    "    hits_perm_p2 = np.count_nonzero(perm_p2 == 0)\n",
    "    length_pclass2_surv = np.size(perm_p2)\n",
    "    \n",
    "    # calculates point estimate\n",
    "    point_estimate = (hits_perm_p1/length_pclass1_surv - hits_perm_p2/length_pclass2_surv)\n",
    "    perm_point_ests[i] = point_estimate\n",
    "    diff_perm1[i] = perm_p1\n",
    "    diff_perm2[i] = perm_p2"
   ]
  },
  {
   "cell_type": "code",
   "execution_count": 8,
   "metadata": {},
   "outputs": [
    {
     "data": {
      "image/png": "[encoded data removed]",
      "text/plain": [
       "<Figure size 432x288 with 1 Axes>"
      ]
     },
     "metadata": {
      "needs_background": "light"
     },
     "output_type": "display_data"
    }
   ],
   "source": [
    "obs_chance = np.sum(np.array(perm_point_ests) >= point_est) / len(perm_point_ests) * 100\n",
    "plt.hist(perm_point_ests);"
   ]
  },
  {
   "cell_type": "code",
   "execution_count": 9,
   "metadata": {},
   "outputs": [
    {
     "name": "stdout",
     "output_type": "stream",
     "text": [
      "There is a 15.92% Chance that the difference in survival-rate between pclass1 and pclass2 is entirely due to chance\n"
     ]
    }
   ],
   "source": [
    "#Get number of survivors for pclass1 and pclass2\n",
    "perm_p1_mean = np.mean(diff_perm1, axis = 1) \n",
    "perm_p2_mean = np.mean(diff_perm2, axis = 1) \n",
    "#Calculate the difference from the bootstrapped samples (point estimate of bootstrap sample)\n",
    "diff_perm = perm_p1_mean - perm_p2_mean\n",
    "\n",
    "#Filter for how many have an observed difference higher than \n",
    "observed = []\n",
    "for element in diff_perm:\n",
    "    if element >= point_est: #Only point estimates due to chance where the element is higher or equal than the observed point estimate do support the hypothesis\n",
    "        observed.append(True)\n",
    "    else:\n",
    "        observed.append(False)\n",
    "obs_array = diff_perm[observed]\n",
    "\n",
    "#calculate the propability of finding the results by poor chance\n",
    "obs_chance = round((len(obs_array) / len(diff_perm))*100, 3)\n",
    "#alternative:\n",
    "#obs_chance = np.sum(np.array(diff_perm) >= point_est) / len(diff_perm) * 100\n",
    "\n",
    "print(\"There is a \" + str(obs_chance) +\"% Chance that the difference in survival-rate between pclass1 and pclass2 is entirely due to chance\")"
   ]
  },
  {
   "cell_type": "code",
   "execution_count": 10,
   "metadata": {},
   "outputs": [
    {
     "data": {
      "image/png": "[encoded data removed]",
      "text/plain": [
       "<Figure size 432x288 with 1 Axes>"
      ]
     },
     "metadata": {
      "needs_background": "light"
     },
     "output_type": "display_data"
    }
   ],
   "source": [
    "plt.hist(diff_perm, bins = 20);"
   ]
  },
  {
   "cell_type": "markdown",
   "metadata": {},
   "source": [
    "## Answer Task1, Approach 1:\n",
    "Given the chance of ~16% that the difference is purely due to chance, H0 can not be rejected."
   ]
  },
  {
   "cell_type": "code",
   "execution_count": 11,
   "metadata": {},
   "outputs": [],
   "source": [
    "#empty row, so you can tell where approach 2 begins :)"
   ]
  },
  {
   "cell_type": "markdown",
   "metadata": {},
   "source": [
    "Approach 2: Approach the task with t-tests (difference in mean between groups)\n",
    "\n",
    "$$t = \\frac{\\bar{x} - \\mu_0}{\\hat{\\sigma}/\\sqrt{n}}$$"
   ]
  },
  {
   "cell_type": "markdown",
   "metadata": {},
   "source": [
    "H0 = p_pclass1 =< p_pclass2 -> µ1 - µ2 <= 0\n",
    "\n",
    "H1 = p_pclass1 > p_class2 -> µ1-µ2 > 0\n",
    "\n",
    "-> one sided test "
   ]
  },
  {
   "cell_type": "code",
   "execution_count": 12,
   "metadata": {},
   "outputs": [],
   "source": [
    "#Define needed variables\n",
    "em_titanic_classes = titanic[(titanic[\"sex\"] == \"female\") & (titanic[\"pclass\"] < 3)].loc[:, [\"survived\",\"pclass\"]]\n",
    "pclass1 = fem_titanic_classes[fem_titanic_classes[\"pclass\"] ==1]\n",
    "pclass1_surv = pclass1[\"survived\"]\n",
    "pclass1_mean = np.mean(pclass1_surv)\n",
    "pclass2 = fem_titanic_classes[fem_titanic_classes[\"pclass\"] ==2]\n",
    "pclass2_surv = pclass2[\"survived\"]\n",
    "pclass2_mean = np.mean(pclass2_surv)"
   ]
  },
  {
   "cell_type": "code",
   "execution_count": 13,
   "metadata": {},
   "outputs": [
    {
     "name": "stdout",
     "output_type": "stream",
     "text": [
      "x_bar =0.9680851063829787 \n",
      "sigma =0.17577352810487537 \n",
      "µ0 = 0.9210526315789473 \n",
      "n = 94\n"
     ]
    }
   ],
   "source": [
    "#Compute all needed variables\n",
    "x_bar = pclass1_mean\n",
    "sigma = np.std(pclass1_surv)\n",
    "n = len(pclass1_surv)\n",
    "µ0 = pclass2_mean\n",
    "print(\"x_bar =\" + str(x_bar), \"\\nsigma =\" + str(sigma), \"\\nµ0 = \"+str(µ0), \"\\nn = \" + str(n))"
   ]
  },
  {
   "cell_type": "code",
   "execution_count": 14,
   "metadata": {},
   "outputs": [
    {
     "name": "stdout",
     "output_type": "stream",
     "text": [
      "one-sided cv:  2.3263478740408408\n"
     ]
    }
   ],
   "source": [
    "#given n>50 we use normal distribution instead of t distribution for the critical value \n",
    "from scipy.stats import norm\n",
    "# that is the critical value that we compare our test statistic with\n",
    "print('one-sided cv: ',norm.ppf(1-0.01))"
   ]
  },
  {
   "cell_type": "code",
   "execution_count": 15,
   "metadata": {},
   "outputs": [
    {
     "name": "stdout",
     "output_type": "stream",
     "text": [
      "with an observed t-value of t: 2.5942288717776507 and an calculated significance of p: 0.005 the difference between the groups is significant\n"
     ]
    }
   ],
   "source": [
    "#Calcualte observed t-value\n",
    "t = (x_bar - µ0)/(sigma / np.sqrt(n))\n",
    "#Calculate the significance value\n",
    "p = 1-norm.cdf(t)\n",
    "\n",
    "print(\"with an observed t-value of t: \" + str(t) + \" and an calculated significance of p: \" \n",
    "      + str(round(p,3)), \"the difference between the groups is significant\")"
   ]
  },
  {
   "cell_type": "markdown",
   "metadata": {},
   "source": [
    "## Answer Task1, Approach 2:\n",
    "Given a t-value that is higher than the calculated one-sided critical value,  the difference between the two groups is significant and H0 can be rejected"
   ]
  },
  {
   "cell_type": "markdown",
   "metadata": {},
   "source": [
    "## Task2\n",
    "2. Create a boxplot `mpg ~ cylinders`. It does seem that the mpg for cars with 4 cylinders is quite different from those with 3 cylinders. What does a bootstrap test tell you about this hypothesis?"
   ]
  },
  {
   "cell_type": "markdown",
   "metadata": {},
   "source": [
    "H0: µ_cyl_4 = µ_cyl_3 -> p4 - p3 = 0\n",
    "\n",
    "\n",
    "H1: µ_cyl_4 != µ_cyl_3 -> p4 - p3 != 0\n",
    "\n",
    "-> two-sided"
   ]
  },
  {
   "cell_type": "code",
   "execution_count": 16,
   "metadata": {},
   "outputs": [
    {
     "data": {
      "text/html": [
       "<div>\n",
       "<style scoped>\n",
       "    .dataframe tbody tr th:only-of-type {\n",
       "        vertical-align: middle;\n",
       "    }\n",
       "\n",
       "    .dataframe tbody tr th {\n",
       "        vertical-align: top;\n",
       "    }\n",
       "\n",
       "    .dataframe thead th {\n",
       "        text-align: right;\n",
       "    }\n",
       "</style>\n",
       "<table border=\"1\" class=\"dataframe\">\n",
       "  <thead>\n",
       "    <tr style=\"text-align: right;\">\n",
       "      <th></th>\n",
       "      <th>mpg</th>\n",
       "      <th>cylinders</th>\n",
       "      <th>displacement</th>\n",
       "      <th>horsepower</th>\n",
       "      <th>weight</th>\n",
       "      <th>acceleration</th>\n",
       "      <th>year</th>\n",
       "      <th>origin</th>\n",
       "      <th>name</th>\n",
       "      <th>Manufacturer</th>\n",
       "    </tr>\n",
       "  </thead>\n",
       "  <tbody>\n",
       "    <tr>\n",
       "      <th>0</th>\n",
       "      <td>18.0</td>\n",
       "      <td>8</td>\n",
       "      <td>307.0</td>\n",
       "      <td>130</td>\n",
       "      <td>3504</td>\n",
       "      <td>12.0</td>\n",
       "      <td>70</td>\n",
       "      <td>1</td>\n",
       "      <td>chevrolet chevelle malibu</td>\n",
       "      <td>chevrolet</td>\n",
       "    </tr>\n",
       "    <tr>\n",
       "      <th>1</th>\n",
       "      <td>15.0</td>\n",
       "      <td>8</td>\n",
       "      <td>350.0</td>\n",
       "      <td>165</td>\n",
       "      <td>3693</td>\n",
       "      <td>11.5</td>\n",
       "      <td>70</td>\n",
       "      <td>1</td>\n",
       "      <td>buick skylark 320</td>\n",
       "      <td>buick</td>\n",
       "    </tr>\n",
       "    <tr>\n",
       "      <th>2</th>\n",
       "      <td>18.0</td>\n",
       "      <td>8</td>\n",
       "      <td>318.0</td>\n",
       "      <td>150</td>\n",
       "      <td>3436</td>\n",
       "      <td>11.0</td>\n",
       "      <td>70</td>\n",
       "      <td>1</td>\n",
       "      <td>plymouth satellite</td>\n",
       "      <td>plymouth</td>\n",
       "    </tr>\n",
       "    <tr>\n",
       "      <th>3</th>\n",
       "      <td>16.0</td>\n",
       "      <td>8</td>\n",
       "      <td>304.0</td>\n",
       "      <td>150</td>\n",
       "      <td>3433</td>\n",
       "      <td>12.0</td>\n",
       "      <td>70</td>\n",
       "      <td>1</td>\n",
       "      <td>amc rebel sst</td>\n",
       "      <td>amc</td>\n",
       "    </tr>\n",
       "    <tr>\n",
       "      <th>4</th>\n",
       "      <td>17.0</td>\n",
       "      <td>8</td>\n",
       "      <td>302.0</td>\n",
       "      <td>140</td>\n",
       "      <td>3449</td>\n",
       "      <td>10.5</td>\n",
       "      <td>70</td>\n",
       "      <td>1</td>\n",
       "      <td>ford torino</td>\n",
       "      <td>ford</td>\n",
       "    </tr>\n",
       "  </tbody>\n",
       "</table>\n",
       "</div>"
      ],
      "text/plain": [
       "    mpg  cylinders  displacement  horsepower  weight  acceleration  year  \\\n",
       "0  18.0          8         307.0         130    3504          12.0    70   \n",
       "1  15.0          8         350.0         165    3693          11.5    70   \n",
       "2  18.0          8         318.0         150    3436          11.0    70   \n",
       "3  16.0          8         304.0         150    3433          12.0    70   \n",
       "4  17.0          8         302.0         140    3449          10.5    70   \n",
       "\n",
       "   origin                       name Manufacturer  \n",
       "0       1  chevrolet chevelle malibu    chevrolet  \n",
       "1       1          buick skylark 320        buick  \n",
       "2       1         plymouth satellite     plymouth  \n",
       "3       1              amc rebel sst          amc  \n",
       "4       1                ford torino         ford  "
      ]
     },
     "execution_count": 16,
     "metadata": {},
     "output_type": "execute_result"
    }
   ],
   "source": [
    "#Auto data:\n",
    "cars = pd.read_csv(r\"C:\\Users\\svawe\\OneDrive\\Desktop\\Master\\DataScience_01\\data\\Auto.csv\")\n",
    "cars.head()"
   ]
  },
  {
   "cell_type": "code",
   "execution_count": 17,
   "metadata": {},
   "outputs": [
    {
     "data": {
      "image/png": "[encoded data removed]",
      "text/plain": [
       "<Figure size 432x288 with 1 Axes>"
      ]
     },
     "metadata": {
      "needs_background": "light"
     },
     "output_type": "display_data"
    }
   ],
   "source": [
    "boxplot = cars[[\"cylinders\",\"mpg\"]].boxplot(by=\"cylinders\")"
   ]
  },
  {
   "cell_type": "code",
   "execution_count": 18,
   "metadata": {},
   "outputs": [
    {
     "data": {
      "text/plain": [
       "8.733919597989956"
      ]
     },
     "execution_count": 18,
     "metadata": {},
     "output_type": "execute_result"
    }
   ],
   "source": [
    "#Calculated arrays only containing of cylinders and mpg\n",
    "cyls = cars[(cars[\"cylinders\"] > 2) & (cars[\"cylinders\"] < 5)]\n",
    "cyl_3 = cars[cars[\"cylinders\"] == 3]\n",
    "cyl_3_mpg = cyl_3[\"mpg\"]\n",
    "cyl_4 = cars[cars[\"cylinders\"] == 4]\n",
    "cyl_4_mpg = cyl_4[\"mpg\"]\n",
    "#Calculate the mean mpg for 3 & 4 cylinders\n",
    "cyl_3_mean = np.mean(cyl_3_mpg)\n",
    "cyl_4_mean = np.mean(cyl_4_mpg)\n",
    "\n",
    "#calculate the point estimate\n",
    "pe_cyls = cyl_4_mean - cyl_3_mean\n",
    "pe_cyls"
   ]
  },
  {
   "cell_type": "code",
   "execution_count": 19,
   "metadata": {},
   "outputs": [
    {
     "name": "stdout",
     "output_type": "stream",
     "text": [
      "[20.12  20.983] [28.211 30.402]\n"
     ]
    }
   ],
   "source": [
    "#Approach#1: Bootstrap the found results and compare 95% CI\n",
    "#bootstrap the samples to find results by chance alone\n",
    "M = 10000 #specify how many bootstrap samples should be drawn\n",
    "n = 100 #specify the length of every array\n",
    "array_1 = np.zeros((M,n)) #empty array for 10000 bootstraps of length n1\n",
    "array_2 = np.zeros((M,n)) #empty array for 10000 bootstraps of length n2\n",
    "for i in range(M):\n",
    "    array_1[i] = np.random.choice(cyl_3[\"mpg\"], n)\n",
    "    array_2[i] = np.random.choice(cyl_4[\"mpg\"], n)\n",
    "\n",
    "#Get mean of bootstrapped samples\n",
    "arr1_mean = np.mean(array_1, axis = 1)\n",
    "arr2_mean = np.mean(array_2, axis = 1)\n",
    "#Get 95% CI of the bootstrapped samples\n",
    "CI3cyl = np.percentile(arr1_mean,(2.5, 97.5))\n",
    "CI4cyl = np.percentile(arr2_mean,(2.5, 97.5))\n",
    "print(CI3cyl, CI4cyl)"
   ]
  },
  {
   "cell_type": "markdown",
   "metadata": {},
   "source": [
    "## Answer Task 2, Approach 1:\n",
    "Given that the 95% CI do not overlap even remotely, it is clear that the means are not equal.\n",
    "\n",
    "I am not sure, if this is the way to use bootstrap though, given that these results can be clearly seen from the boxplot. The bootstrap should only enhance the results and therefore make the difference between the two groups - that is already assessable by eye - even more obvious"
   ]
  },
  {
   "cell_type": "code",
   "execution_count": 20,
   "metadata": {},
   "outputs": [],
   "source": [
    "#Approach#2: Calculate results from chance alone and calculate the share of results that were at least as strong as the point estimate\n",
    "\n",
    "#get length of arrays\n",
    "n3 = len(cyl_3)\n",
    "n4 = len(cyl_4)\n",
    "\n",
    "#bootstrap the samples to find results by chance alone\n",
    "M = 100000 #specify how many bootstrap samples should be drawn\n",
    "array_3 = np.zeros((M,n3)) #empty array for 10000 bootstraps of length n1\n",
    "array_4 = np.zeros((M,n4)) #empty array for 10000 bootstraps of length n2\n",
    "for i in range(M):\n",
    "    array_3[i] = np.random.choice(cyls[\"mpg\"], n3)\n",
    "    array_4[i] = np.random.choice(cyls[\"mpg\"], n4)"
   ]
  },
  {
   "cell_type": "code",
   "execution_count": 21,
   "metadata": {},
   "outputs": [
    {
     "name": "stdout",
     "output_type": "stream",
     "text": [
      "There is a 0.036% chance that the difference in mpgs for cyl3 and cyl4 is entirely due to chance\n"
     ]
    }
   ],
   "source": [
    "#Get number of survivors for 4cyls and 3cyls\n",
    "array_mean3 = np.mean(array_3, axis=1) \n",
    "array_mean4 = np.mean(array_4, axis=1) \n",
    "#Calculate the difference from the bootstrapped samples (point estimate of bootstrap sample)\n",
    "diff_boots2 = array_mean4 - array_mean3\n",
    "\n",
    "#Filter for how many have an observed difference higher than \n",
    "observed2 = []\n",
    "for element in diff_boots2:\n",
    "    if element >= pe_cyls: #Only point estimates due to chance where the element is higher or equal than the observed point estimate do support the hypothesis\n",
    "        observed2.append(True)\n",
    "    else:\n",
    "        observed2.append(False)\n",
    "obs_array2 = diff_boots2[observed2]\n",
    "\n",
    "#calculate the propability of finding the results by pure chance (x2 because its two-sided)\n",
    "obs_chance2 = round((len(obs_array2) / len(diff_boots2))*100 *2, 8)\n",
    "\n",
    "print(\"There is a \" + str(obs_chance2) +\"% chance that the difference in mpgs for cyl3 and cyl4 is entirely due to chance\")"
   ]
  },
  {
   "cell_type": "markdown",
   "metadata": {},
   "source": [
    "## Answer Task2, Approach 2:\n",
    "The distribution found could only be replicated with a chance of 0.028% using the bootstrapping. Therefore, the null hypothesis can be rejected."
   ]
  },
  {
   "cell_type": "markdown",
   "metadata": {},
   "source": [
    "## Task 3\n",
    "3. Can you think of more interesting hypotheses to test regarding the pregnancy data ?"
   ]
  },
  {
   "cell_type": "markdown",
   "metadata": {},
   "source": [
    "Do firstborn weights have higher weight than second born babies?\n",
    "\n",
    "H0 -> µ_1 = µ_2 -> pe_1 - pe_2 = 0\n",
    "\n",
    "\n",
    "H1 -> µ_1 != µ_2 -> pe_1 - pe_2 != 0\n",
    "\n",
    "\n",
    "-> two sided test"
   ]
  },
  {
   "cell_type": "code",
   "execution_count": 22,
   "metadata": {},
   "outputs": [
    {
     "data": {
      "text/html": [
       "<div>\n",
       "<style scoped>\n",
       "    .dataframe tbody tr th:only-of-type {\n",
       "        vertical-align: middle;\n",
       "    }\n",
       "\n",
       "    .dataframe tbody tr th {\n",
       "        vertical-align: top;\n",
       "    }\n",
       "\n",
       "    .dataframe thead th {\n",
       "        text-align: right;\n",
       "    }\n",
       "</style>\n",
       "<table border=\"1\" class=\"dataframe\">\n",
       "  <thead>\n",
       "    <tr style=\"text-align: right;\">\n",
       "      <th></th>\n",
       "      <th>Unnamed: 0</th>\n",
       "      <th>caseid</th>\n",
       "      <th>pregordr</th>\n",
       "      <th>howpreg_n</th>\n",
       "      <th>howpreg_p</th>\n",
       "      <th>moscurrp</th>\n",
       "      <th>nowprgdk</th>\n",
       "      <th>pregend1</th>\n",
       "      <th>pregend2</th>\n",
       "      <th>nbrnaliv</th>\n",
       "      <th>...</th>\n",
       "      <th>laborfor_i</th>\n",
       "      <th>religion_i</th>\n",
       "      <th>metro_i</th>\n",
       "      <th>basewgt</th>\n",
       "      <th>adj_mod_basewgt</th>\n",
       "      <th>finalwgt</th>\n",
       "      <th>secu_p</th>\n",
       "      <th>sest</th>\n",
       "      <th>cmintvw</th>\n",
       "      <th>totalwgt_lb</th>\n",
       "    </tr>\n",
       "  </thead>\n",
       "  <tbody>\n",
       "    <tr>\n",
       "      <th>0</th>\n",
       "      <td>0</td>\n",
       "      <td>1</td>\n",
       "      <td>1</td>\n",
       "      <td>NaN</td>\n",
       "      <td>NaN</td>\n",
       "      <td>NaN</td>\n",
       "      <td>NaN</td>\n",
       "      <td>6.0</td>\n",
       "      <td>NaN</td>\n",
       "      <td>1.0</td>\n",
       "      <td>...</td>\n",
       "      <td>0</td>\n",
       "      <td>0</td>\n",
       "      <td>0</td>\n",
       "      <td>3410.389399</td>\n",
       "      <td>3869.349602</td>\n",
       "      <td>6448.271112</td>\n",
       "      <td>2</td>\n",
       "      <td>9</td>\n",
       "      <td>NaN</td>\n",
       "      <td>8.8125</td>\n",
       "    </tr>\n",
       "    <tr>\n",
       "      <th>1</th>\n",
       "      <td>1</td>\n",
       "      <td>1</td>\n",
       "      <td>2</td>\n",
       "      <td>NaN</td>\n",
       "      <td>NaN</td>\n",
       "      <td>NaN</td>\n",
       "      <td>NaN</td>\n",
       "      <td>6.0</td>\n",
       "      <td>NaN</td>\n",
       "      <td>1.0</td>\n",
       "      <td>...</td>\n",
       "      <td>0</td>\n",
       "      <td>0</td>\n",
       "      <td>0</td>\n",
       "      <td>3410.389399</td>\n",
       "      <td>3869.349602</td>\n",
       "      <td>6448.271112</td>\n",
       "      <td>2</td>\n",
       "      <td>9</td>\n",
       "      <td>NaN</td>\n",
       "      <td>7.8750</td>\n",
       "    </tr>\n",
       "    <tr>\n",
       "      <th>2</th>\n",
       "      <td>2</td>\n",
       "      <td>2</td>\n",
       "      <td>1</td>\n",
       "      <td>NaN</td>\n",
       "      <td>NaN</td>\n",
       "      <td>NaN</td>\n",
       "      <td>NaN</td>\n",
       "      <td>5.0</td>\n",
       "      <td>NaN</td>\n",
       "      <td>3.0</td>\n",
       "      <td>...</td>\n",
       "      <td>0</td>\n",
       "      <td>0</td>\n",
       "      <td>0</td>\n",
       "      <td>7226.301740</td>\n",
       "      <td>8567.549110</td>\n",
       "      <td>12999.542264</td>\n",
       "      <td>2</td>\n",
       "      <td>12</td>\n",
       "      <td>NaN</td>\n",
       "      <td>9.1250</td>\n",
       "    </tr>\n",
       "    <tr>\n",
       "      <th>3</th>\n",
       "      <td>3</td>\n",
       "      <td>2</td>\n",
       "      <td>2</td>\n",
       "      <td>NaN</td>\n",
       "      <td>NaN</td>\n",
       "      <td>NaN</td>\n",
       "      <td>NaN</td>\n",
       "      <td>6.0</td>\n",
       "      <td>NaN</td>\n",
       "      <td>1.0</td>\n",
       "      <td>...</td>\n",
       "      <td>0</td>\n",
       "      <td>0</td>\n",
       "      <td>0</td>\n",
       "      <td>7226.301740</td>\n",
       "      <td>8567.549110</td>\n",
       "      <td>12999.542264</td>\n",
       "      <td>2</td>\n",
       "      <td>12</td>\n",
       "      <td>NaN</td>\n",
       "      <td>7.0000</td>\n",
       "    </tr>\n",
       "    <tr>\n",
       "      <th>4</th>\n",
       "      <td>4</td>\n",
       "      <td>2</td>\n",
       "      <td>3</td>\n",
       "      <td>NaN</td>\n",
       "      <td>NaN</td>\n",
       "      <td>NaN</td>\n",
       "      <td>NaN</td>\n",
       "      <td>6.0</td>\n",
       "      <td>NaN</td>\n",
       "      <td>1.0</td>\n",
       "      <td>...</td>\n",
       "      <td>0</td>\n",
       "      <td>0</td>\n",
       "      <td>0</td>\n",
       "      <td>7226.301740</td>\n",
       "      <td>8567.549110</td>\n",
       "      <td>12999.542264</td>\n",
       "      <td>2</td>\n",
       "      <td>12</td>\n",
       "      <td>NaN</td>\n",
       "      <td>6.1875</td>\n",
       "    </tr>\n",
       "  </tbody>\n",
       "</table>\n",
       "<p>5 rows × 245 columns</p>\n",
       "</div>"
      ],
      "text/plain": [
       "   Unnamed: 0  caseid  pregordr  howpreg_n  howpreg_p  moscurrp  nowprgdk  \\\n",
       "0           0       1         1        NaN        NaN       NaN       NaN   \n",
       "1           1       1         2        NaN        NaN       NaN       NaN   \n",
       "2           2       2         1        NaN        NaN       NaN       NaN   \n",
       "3           3       2         2        NaN        NaN       NaN       NaN   \n",
       "4           4       2         3        NaN        NaN       NaN       NaN   \n",
       "\n",
       "   pregend1  pregend2  nbrnaliv  ...  laborfor_i  religion_i  metro_i  \\\n",
       "0       6.0       NaN       1.0  ...           0           0        0   \n",
       "1       6.0       NaN       1.0  ...           0           0        0   \n",
       "2       5.0       NaN       3.0  ...           0           0        0   \n",
       "3       6.0       NaN       1.0  ...           0           0        0   \n",
       "4       6.0       NaN       1.0  ...           0           0        0   \n",
       "\n",
       "       basewgt  adj_mod_basewgt      finalwgt  secu_p  sest  cmintvw  \\\n",
       "0  3410.389399      3869.349602   6448.271112       2     9      NaN   \n",
       "1  3410.389399      3869.349602   6448.271112       2     9      NaN   \n",
       "2  7226.301740      8567.549110  12999.542264       2    12      NaN   \n",
       "3  7226.301740      8567.549110  12999.542264       2    12      NaN   \n",
       "4  7226.301740      8567.549110  12999.542264       2    12      NaN   \n",
       "\n",
       "   totalwgt_lb  \n",
       "0       8.8125  \n",
       "1       7.8750  \n",
       "2       9.1250  \n",
       "3       7.0000  \n",
       "4       6.1875  \n",
       "\n",
       "[5 rows x 245 columns]"
      ]
     },
     "execution_count": 22,
     "metadata": {},
     "output_type": "execute_result"
    }
   ],
   "source": [
    "#pregnancy data:\n",
    "#preg=pd.read_hdf('../data/pregNSFG.h5', 'df')\n",
    "preg = pd.read_csv(r\"C:\\Users\\svawe\\OneDrive\\Desktop\\Master\\DataScience_01\\data\\pregNSFG.csv.gz\")\n",
    "\n",
    "#only look at live births\n",
    "live = preg[preg.outcome == 1]\n",
    "live.head()"
   ]
  },
  {
   "cell_type": "code",
   "execution_count": 23,
   "metadata": {},
   "outputs": [],
   "source": [
    "#same function as above, just brought it back so its easier to find \n",
    "def permutation_sample(group_a, group_b):\n",
    "    \"\"\"computes a permutation sample for two groups\"\"\"\n",
    "    combine = np.concatenate((group_a, group_b))\n",
    "    \n",
    "    #draw the permutation sample for the combined group and split into the same group lengths as before\n",
    "    permutation = np.random.permutation(combine)\n",
    "    permutation_a = permutation[:len(group_a)] #selects an array according to the length of group a\n",
    "    permutation_b = permutation[len(group_a):] #selects the remaining array for group b (therefore, automatically the length of group b)\n",
    "    \n",
    "    return permutation_a, permutation_b"
   ]
  },
  {
   "cell_type": "code",
   "execution_count": 24,
   "metadata": {},
   "outputs": [],
   "source": [
    "#set up relevant variables\n",
    "live_first = live[live[\"pregordr\"] == 1]\n",
    "lfir_wgt = live_first[\"totalwgt_lb\"]\n",
    "lfir_wgt = lfir_wgt.dropna()\n",
    "live_second = live[live[\"pregordr\"] == 2]\n",
    "lsec_wgt = live_second[\"totalwgt_lb\"]\n",
    "lsec_wgt = lsec_wgt.dropna()"
   ]
  },
  {
   "cell_type": "code",
   "execution_count": 25,
   "metadata": {},
   "outputs": [
    {
     "data": {
      "text/plain": [
       "-0.11643937563428608"
      ]
     },
     "execution_count": 25,
     "metadata": {},
     "output_type": "execute_result"
    }
   ],
   "source": [
    "#calculate the point estimate\n",
    "lfir_mean = np.mean(lfir_wgt)\n",
    "lsec_mean = np.mean(lsec_wgt)\n",
    "\n",
    "wgt_point_est = lfir_mean - lsec_mean\n",
    "wgt_point_est"
   ]
  },
  {
   "cell_type": "code",
   "execution_count": 26,
   "metadata": {},
   "outputs": [],
   "source": [
    "#permutate the samples to check how the distribution would be if only up to chance\n",
    "M = 10000\n",
    "arr_p1 = np.empty((M, len(lfir_wgt)))\n",
    "arr_p2 = np.empty((M, len(lsec_wgt)))\n",
    "for i in range(M):\n",
    "    perm_first, perm_second = permutation_sample(lfir_wgt, lsec_wgt)\n",
    "    arr_p1[i] = perm_first\n",
    "    arr_p2[i] = perm_second\n",
    "    \n",
    "#calculate the means of the permutated array\n",
    "mean_perm1_first = np.mean(arr_p1, axis = 1)\n",
    "mean_perm1_second = np.mean(arr_p2, axis =1)\n",
    "#calculate the point estimate given the distribution is purely up to chance\n",
    "perm_point_est = mean_perm1_first - mean_perm1_second"
   ]
  },
  {
   "cell_type": "code",
   "execution_count": 27,
   "metadata": {},
   "outputs": [
    {
     "data": {
      "image/png": "[encoded data removed]",
      "text/plain": [
       "<Figure size 432x288 with 1 Axes>"
      ]
     },
     "metadata": {
      "needs_background": "light"
     },
     "output_type": "display_data"
    }
   ],
   "source": [
    "plt.hist(perm_point_est, bins = 200);"
   ]
  },
  {
   "cell_type": "code",
   "execution_count": 28,
   "metadata": {},
   "outputs": [
    {
     "name": "stdout",
     "output_type": "stream",
     "text": [
      "There is a 0.14% chance that the difference in survival-rate between pclass1 and pclass2 is entirely due to chance\n"
     ]
    }
   ],
   "source": [
    "#Calculate the p-value\n",
    "#Filter for how many have an observed difference higher than \n",
    "observed3 = []\n",
    "for element in perm_point_est:\n",
    "    if element <= wgt_point_est: #Only point estimates due to chance where the element is higher or equal than the observed point estimate do support the hypothesis\n",
    "        observed3.append(True)\n",
    "    else:\n",
    "        observed3.append(False)\n",
    "diff_found = perm_point_est[observed3]\n",
    "\n",
    "#calculate the propability of finding the results by pure chance (x2 because its two-sided)\n",
    "obs_chance3 = round((len(diff_found) / len(perm_point_est))*100 *2, 8)\n",
    "\n",
    "print(\"There is a \" + str(obs_chance3) +\"% chance that the difference in survival-rate between pclass1 and pclass2 is entirely due to chance\")"
   ]
  },
  {
   "cell_type": "markdown",
   "metadata": {},
   "source": [
    "## Answer Task3, Approach 1:\n",
    "Given that in replicates based on purely random distributions, the result could only be replicated in 0.18% of the time, the H0 can be rejected. "
   ]
  },
  {
   "cell_type": "code",
   "execution_count": null,
   "metadata": {},
   "outputs": [],
   "source": []
  },
  {
   "cell_type": "markdown",
   "metadata": {},
   "source": [
    "Approach 2: using a t-test\n",
    "\n",
    "Do firstborn weights have higher weight than second born babies?\n",
    "\n",
    "H0 -> µ_1 = µ_2 -> pe_1 - pe_2 = 0\n",
    "\n",
    "\n",
    "H1 -> µ_1 != µ_2 -> pe_1 - pe_2 != 0\n",
    "\n",
    "\n",
    "-> two sided test"
   ]
  },
  {
   "cell_type": "code",
   "execution_count": 29,
   "metadata": {},
   "outputs": [],
   "source": [
    "#set up relevant variables\n",
    "live_first = live[live[\"pregordr\"] == 1]\n",
    "lfir_wgt = live_first[\"totalwgt_lb\"]\n",
    "lfir_wgt = lfir_wgt.dropna()\n",
    "live_second = live[live[\"pregordr\"] == 2]\n",
    "lsec_wgt = live_second[\"totalwgt_lb\"]\n",
    "lsec_wgt = lsec_wgt.dropna()"
   ]
  },
  {
   "cell_type": "code",
   "execution_count": 30,
   "metadata": {},
   "outputs": [
    {
     "data": {
      "text/plain": [
       "3323"
      ]
     },
     "execution_count": 30,
     "metadata": {},
     "output_type": "execute_result"
    }
   ],
   "source": [
    "#define needed variables for t\n",
    "x_bar_birth = np.mean(lfir_wgt)\n",
    "sigma_birth = np.std(lfir_wgt)\n",
    "µ0_birth = np.mean(lsec_wgt)\n",
    "n_birth = len(lfir_wgt)\n",
    "n_birth"
   ]
  },
  {
   "cell_type": "code",
   "execution_count": 31,
   "metadata": {},
   "outputs": [
    {
     "name": "stdout",
     "output_type": "stream",
     "text": [
      "1.959963984540054 -4.746424605276788 2.0704384900080017e-06\n"
     ]
    }
   ],
   "source": [
    "#Given a n value of n > 50, the critical t value is calculated with normal distribution\n",
    "cv = norm.ppf(0.975)\n",
    "#calculate the t-value\n",
    "t_birth = (x_bar_birth - µ0_birth)/(sigma_birth / np.sqrt(n_birth))\n",
    "#calculate the significance, since its a two-sided test, we gotta *2 the result\n",
    "p_birth = norm.cdf(t_birth) * 2\n",
    "print(cv, t_birth, p_birth)"
   ]
  },
  {
   "cell_type": "markdown",
   "metadata": {},
   "source": [
    "## Answer Task 3, Approach 2:\n",
    "\n",
    "The birthweight between the first born and the second born differ significantly!\n"
   ]
  },
  {
   "cell_type": "code",
   "execution_count": 5,
   "metadata": {},
   "outputs": [
    {
     "data": {
      "text/plain": [
       "-5.409675025452994"
      ]
     },
     "execution_count": 5,
     "metadata": {},
     "output_type": "execute_result"
    }
   ],
   "source": [
    "import numpy as np\n",
    "sss_a = 6.08333\n",
    "sss_r = 6.8344\n",
    "SD = 1.583\n",
    "n = 130\n",
    "\n",
    "t = (sss_a - sss_r)/(SD / np.sqrt(n))\n",
    "t"
   ]
  },
  {
   "cell_type": "code",
   "execution_count": 12,
   "metadata": {},
   "outputs": [
    {
     "name": "stdout",
     "output_type": "stream",
     "text": [
      "one-sided cv:  1.6448536269514722\n"
     ]
    }
   ],
   "source": [
    "from scipy.stats import norm\n",
    "print('one-sided cv: ',norm.ppf(1-0.05))"
   ]
  }
 ],
 "metadata": {
  "hide_input": false,
  "kernelspec": {
   "display_name": "Python 3 (ipykernel)",
   "language": "python",
   "name": "python3"
  },
  "language_info": {
   "codemirror_mode": {
    "name": "ipython",
    "version": 3
   },
   "file_extension": ".py",
   "mimetype": "text/x-python",
   "name": "python",
   "nbconvert_exporter": "python",
   "pygments_lexer": "ipython3",
   "version": "3.9.7"
  },
  "varInspector": {
   "cols": {
    "lenName": 16,
    "lenType": 16,
    "lenVar": 40
   },
   "kernels_config": {
    "python": {
     "delete_cmd_postfix": "",
     "delete_cmd_prefix": "del ",
     "library": "var_list.py",
     "varRefreshCmd": "print(var_dic_list())"
    },
    "r": {
     "delete_cmd_postfix": ") ",
     "delete_cmd_prefix": "rm(",
     "library": "var_list.r",
     "varRefreshCmd": "cat(var_dic_list()) "
    }
   },
   "types_to_exclude": [
    "module",
    "function",
    "builtin_function_or_method",
    "instance",
    "_Feature"
   ],
   "window_display": false
  }
 },
 "nbformat": 4,
 "nbformat_minor": 4
}
