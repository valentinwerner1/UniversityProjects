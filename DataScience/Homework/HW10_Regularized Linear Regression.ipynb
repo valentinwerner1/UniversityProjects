{
 "cells": [
  {
   "cell_type": "markdown",
   "metadata": {},
   "source": [
    "# Homework 10\n",
    "\n",
    "* **Build the best model on the kaggle [Housing Data](https://www.kaggle.com/c/house-prices-advanced-regression-techniques) that you can !**\n",
    "\n",
    "* **Use only Ridge or lasso or elastic net.**\n",
    "\n",
    "* **Upload a screenshot of your leaderboard ranking**\n",
    "\n",
    "**import libraries**"
   ]
  },
  {
   "cell_type": "code",
   "execution_count": 5,
   "metadata": {},
   "outputs": [
    {
     "data": {
      "text/plain": [
       "array([ 200., 2000.])"
      ]
     },
     "execution_count": 5,
     "metadata": {},
     "output_type": "execute_result"
    }
   ],
   "source": [
    "n_estimators = np.linspace(200, 2000, 2)\n",
    "n_estimators"
   ]
  },
  {
   "cell_type": "code",
   "execution_count": 2,
   "metadata": {},
   "outputs": [],
   "source": [
    "import pandas as pd\n",
    "import numpy as np\n",
    "import matplotlib as mpl\n",
    "import matplotlib.pyplot as plt\n",
    "\n",
    "from sklearn.model_selection import train_test_split"
   ]
  },
  {
   "cell_type": "code",
   "execution_count": 16,
   "metadata": {},
   "outputs": [],
   "source": [
    "df_train = pd.read_csv(r\"C:\\Users\\svawe\\OneDrive\\Desktop\\Master\\DataScience_01\\data\\train.csv\")\n",
    "df_test = pd.read_csv(r\"C:\\Users\\svawe\\OneDrive\\Desktop\\Master\\DataScience_01\\data\\test.csv\")\n",
    "y_train = df_train.SalePrice\n",
    "X_train = df_train.drop(columns=[\"SalePrice\"])\n",
    "X_test = df_test"
   ]
  },
  {
   "cell_type": "code",
   "execution_count": 17,
   "metadata": {},
   "outputs": [],
   "source": [
    "#get all columns that need to get OHE\n",
    "categories = X_train.select_dtypes(include=['object'])\n",
    "#get all columns that have missing values\n",
    "columns = list(X_train.columns)\n",
    "missing = X_train.isna().sum() \n",
    "missing_l = list(zip(columns, missing))\n",
    "missing_list = []\n",
    "for i in missing_l:\n",
    "    if i[1] > 0: missing_list.append(i)\n",
    "missing_cols = []\n",
    "for i in missing_list: missing_cols.append(i[0])"
   ]
  },
  {
   "cell_type": "markdown",
   "metadata": {},
   "source": [
    "Alley: NA = \"none\"\n",
    "MasVnrType: NA = \"none\"\n",
    "BsmtQual: NA = \"none\"\n",
    "BsmtCond: NA = \"none\"\n",
    "BsmtExposure: NA = \"none\"\n",
    "BsmtFinType1: NA = \"none\"\n",
    "BsmtFinType2: NA = \"none\"\n",
    "Electrical: NA = \"SBrkr\" (weil häufigste)\n",
    "FireplaceQu: NA = \"none\"\n",
    "GarageType: NA = \"none\"\n",
    "GarageFinish: NA = \"none\"\n",
    "GarageQual: NA = \"none\"\n",
    "GarageCond: NA = \"none\"\n",
    "PoolQC: NA = \"none\"\n",
    "Fence: NA = \"none\"\n",
    "MiscFeature: NA = \"none\""
   ]
  },
  {
   "cell_type": "code",
   "execution_count": 18,
   "metadata": {},
   "outputs": [],
   "source": [
    "cats = categories.drop(columns = \"Electrical\").fillna(\"None\")\n",
    "elec = pd.DataFrame(categories.Electrical.fillna(\"Sbrkr\"))\n",
    "rest = X_train.select_dtypes(exclude=['object'])\n",
    "X = pd.concat([cats, elec, rest], axis = 1) "
   ]
  },
  {
   "cell_type": "code",
   "execution_count": 19,
   "metadata": {},
   "outputs": [],
   "source": [
    "from sklearn.preprocessing import OneHotEncoder\n",
    "enc = OneHotEncoder(handle_unknown='ignore')\n",
    "from sklearn.impute import SimpleImputer\n",
    "import numpy as np\n",
    "imp = SimpleImputer(missing_values = np.nan)"
   ]
  },
  {
   "cell_type": "code",
   "execution_count": 20,
   "metadata": {},
   "outputs": [],
   "source": [
    "from sklearn.compose import make_column_selector\n",
    "num_cols = make_column_selector(dtype_include='number')\n",
    "cat_cols = make_column_selector(dtype_exclude='number')"
   ]
  },
  {
   "cell_type": "code",
   "execution_count": 34,
   "metadata": {},
   "outputs": [
    {
     "data": {
      "text/plain": [
       "GridSearchCV(cv=5,\n",
       "             estimator=Pipeline(steps=[('preprocessor',\n",
       "                                        ColumnTransformer(remainder='passthrough',\n",
       "                                                          transformers=[('num',\n",
       "                                                                         SimpleImputer(),\n",
       "                                                                         <sklearn.compose._column_transformer.make_column_selector object at 0x00000234C1E88DF0>),\n",
       "                                                                        ('cat',\n",
       "                                                                         OneHotEncoder(handle_unknown='ignore'),\n",
       "                                                                         <sklearn.compose._column_transformer.make_column_selector object at 0x00000234C1E8...\n",
       "       0.38, 0.39, 0.4 , 0.41, 0.42, 0.43, 0.44, 0.45, 0.46, 0.47, 0.48,\n",
       "       0.49, 0.5 , 0.51, 0.52, 0.53, 0.54, 0.55, 0.56, 0.57, 0.58, 0.59,\n",
       "       0.6 , 0.61, 0.62, 0.63, 0.64, 0.65, 0.66, 0.67, 0.68, 0.69, 0.7 ,\n",
       "       0.71, 0.72, 0.73, 0.74, 0.75, 0.76, 0.77, 0.78, 0.79, 0.8 , 0.81,\n",
       "       0.82, 0.83, 0.84, 0.85, 0.86, 0.87, 0.88, 0.89, 0.9 , 0.91, 0.92,\n",
       "       0.93, 0.94, 0.95, 0.96, 0.97, 0.98, 0.99]),\n",
       "                         'preprocessor__num__strategy': ['mean', 'median',\n",
       "                                                         'most_frequent']})"
      ]
     },
     "execution_count": 34,
     "metadata": {},
     "output_type": "execute_result"
    }
   ],
   "source": [
    "from sklearn.pipeline import Pipeline\n",
    "from sklearn.compose import ColumnTransformer\n",
    "#create preprocessor\n",
    "preprocessor = ColumnTransformer(transformers =[(\"num\", imp, num_cols),(\"cat\", enc, cat_cols)], remainder = \"passthrough\")\n",
    "\n",
    "#create classifier\n",
    "from sklearn.linear_model import ElasticNet\n",
    "enet = ElasticNet(tol = 1e-2, random_state = 42, normalize = True)\n",
    "\n",
    "#Create pipeline of preprocessor + lasso\n",
    "clf = Pipeline(steps=[(\"preprocessor\", preprocessor), (\"classifier\", enet)])\n",
    "\n",
    "#Define lasso_parameters searched to optimize\n",
    "lasso_param = {\"classifier__alpha\":np.arange(0.05,1,0.01), \"classifier__l1_ratio\":np.arange(0.05,1,0.01), \"preprocessor__num__strategy\":[\"mean\",\"median\",\"most_frequent\"]}\n",
    "\n",
    "from sklearn.model_selection import GridSearchCV\n",
    "clf = GridSearchCV(clf, lasso_param, cv=5)\n",
    "\n",
    "clf.fit(X, y_train)"
   ]
  },
  {
   "cell_type": "code",
   "execution_count": 35,
   "metadata": {},
   "outputs": [
    {
     "data": {
      "text/plain": [
       "{'classifier__alpha': 0.05,\n",
       " 'classifier__l1_ratio': 0.9900000000000002,\n",
       " 'preprocessor__num__strategy': 'median'}"
      ]
     },
     "execution_count": 35,
     "metadata": {},
     "output_type": "execute_result"
    }
   ],
   "source": [
    "clf.best_params_"
   ]
  },
  {
   "cell_type": "code",
   "execution_count": 36,
   "metadata": {},
   "outputs": [
    {
     "name": "stderr",
     "output_type": "stream",
     "text": [
      "C:\\Users\\svawe\\anaconda3\\lib\\site-packages\\sklearn\\linear_model\\_coordinate_descent.py:513: ConvergenceWarning: Objective did not converge. You might want to increase the number of iterations. Duality gap: 78562631994.18848, tolerance: 75921401425.31198\n",
      "  model = cd_fast.sparse_enet_coordinate_descent(\n",
      "C:\\Users\\svawe\\anaconda3\\lib\\site-packages\\sklearn\\linear_model\\_coordinate_descent.py:513: ConvergenceWarning: Objective did not converge. You might want to increase the number of iterations. Duality gap: 111088323281.18439, tolerance: 72877351302.59369\n",
      "  model = cd_fast.sparse_enet_coordinate_descent(\n",
      "C:\\Users\\svawe\\anaconda3\\lib\\site-packages\\sklearn\\linear_model\\_coordinate_descent.py:513: ConvergenceWarning: Objective did not converge. You might want to increase the number of iterations. Duality gap: 144332917688.7386, tolerance: 77061903118.34062\n",
      "  model = cd_fast.sparse_enet_coordinate_descent(\n",
      "C:\\Users\\svawe\\anaconda3\\lib\\site-packages\\sklearn\\linear_model\\_coordinate_descent.py:513: ConvergenceWarning: Objective did not converge. You might want to increase the number of iterations. Duality gap: 78313409517.81992, tolerance: 75921401425.31198\n",
      "  model = cd_fast.sparse_enet_coordinate_descent(\n",
      "C:\\Users\\svawe\\anaconda3\\lib\\site-packages\\sklearn\\linear_model\\_coordinate_descent.py:513: ConvergenceWarning: Objective did not converge. You might want to increase the number of iterations. Duality gap: 111210396322.43898, tolerance: 72877351302.59369\n",
      "  model = cd_fast.sparse_enet_coordinate_descent(\n",
      "C:\\Users\\svawe\\anaconda3\\lib\\site-packages\\sklearn\\linear_model\\_coordinate_descent.py:513: ConvergenceWarning: Objective did not converge. You might want to increase the number of iterations. Duality gap: 144243146248.13507, tolerance: 77061903118.34062\n",
      "  model = cd_fast.sparse_enet_coordinate_descent(\n",
      "C:\\Users\\svawe\\anaconda3\\lib\\site-packages\\sklearn\\linear_model\\_coordinate_descent.py:513: ConvergenceWarning: Objective did not converge. You might want to increase the number of iterations. Duality gap: 78300529941.63998, tolerance: 75921401425.31198\n",
      "  model = cd_fast.sparse_enet_coordinate_descent(\n",
      "C:\\Users\\svawe\\anaconda3\\lib\\site-packages\\sklearn\\linear_model\\_coordinate_descent.py:513: ConvergenceWarning: Objective did not converge. You might want to increase the number of iterations. Duality gap: 111559210402.0328, tolerance: 72877351302.59369\n",
      "  model = cd_fast.sparse_enet_coordinate_descent(\n",
      "C:\\Users\\svawe\\anaconda3\\lib\\site-packages\\sklearn\\linear_model\\_coordinate_descent.py:513: ConvergenceWarning: Objective did not converge. You might want to increase the number of iterations. Duality gap: 144317684480.0273, tolerance: 77061903118.34062\n",
      "  model = cd_fast.sparse_enet_coordinate_descent(\n",
      "C:\\Users\\svawe\\anaconda3\\lib\\site-packages\\sklearn\\linear_model\\_coordinate_descent.py:513: ConvergenceWarning: Objective did not converge. You might want to increase the number of iterations. Duality gap: 101382514852.42334, tolerance: 72877351302.59369\n",
      "  model = cd_fast.sparse_enet_coordinate_descent(\n",
      "C:\\Users\\svawe\\anaconda3\\lib\\site-packages\\sklearn\\linear_model\\_coordinate_descent.py:513: ConvergenceWarning: Objective did not converge. You might want to increase the number of iterations. Duality gap: 133522959389.5707, tolerance: 77061903118.34062\n",
      "  model = cd_fast.sparse_enet_coordinate_descent(\n",
      "C:\\Users\\svawe\\anaconda3\\lib\\site-packages\\sklearn\\linear_model\\_coordinate_descent.py:513: ConvergenceWarning: Objective did not converge. You might want to increase the number of iterations. Duality gap: 101522226580.96988, tolerance: 72877351302.59369\n",
      "  model = cd_fast.sparse_enet_coordinate_descent(\n",
      "C:\\Users\\svawe\\anaconda3\\lib\\site-packages\\sklearn\\linear_model\\_coordinate_descent.py:513: ConvergenceWarning: Objective did not converge. You might want to increase the number of iterations. Duality gap: 133426654949.97385, tolerance: 77061903118.34062\n",
      "  model = cd_fast.sparse_enet_coordinate_descent(\n",
      "C:\\Users\\svawe\\anaconda3\\lib\\site-packages\\sklearn\\linear_model\\_coordinate_descent.py:513: ConvergenceWarning: Objective did not converge. You might want to increase the number of iterations. Duality gap: 101854635530.2291, tolerance: 72877351302.59369\n",
      "  model = cd_fast.sparse_enet_coordinate_descent(\n",
      "C:\\Users\\svawe\\anaconda3\\lib\\site-packages\\sklearn\\linear_model\\_coordinate_descent.py:513: ConvergenceWarning: Objective did not converge. You might want to increase the number of iterations. Duality gap: 133506891982.5057, tolerance: 77061903118.34062\n",
      "  model = cd_fast.sparse_enet_coordinate_descent(\n",
      "C:\\Users\\svawe\\anaconda3\\lib\\site-packages\\sklearn\\linear_model\\_coordinate_descent.py:513: ConvergenceWarning: Objective did not converge. You might want to increase the number of iterations. Duality gap: 92974287272.3194, tolerance: 72877351302.59369\n",
      "  model = cd_fast.sparse_enet_coordinate_descent(\n",
      "C:\\Users\\svawe\\anaconda3\\lib\\site-packages\\sklearn\\linear_model\\_coordinate_descent.py:513: ConvergenceWarning: Objective did not converge. You might want to increase the number of iterations. Duality gap: 124109541908.03638, tolerance: 77061903118.34062\n",
      "  model = cd_fast.sparse_enet_coordinate_descent(\n",
      "C:\\Users\\svawe\\anaconda3\\lib\\site-packages\\sklearn\\linear_model\\_coordinate_descent.py:513: ConvergenceWarning: Objective did not converge. You might want to increase the number of iterations. Duality gap: 93137614581.46768, tolerance: 72877351302.59369\n",
      "  model = cd_fast.sparse_enet_coordinate_descent(\n",
      "C:\\Users\\svawe\\anaconda3\\lib\\site-packages\\sklearn\\linear_model\\_coordinate_descent.py:513: ConvergenceWarning: Objective did not converge. You might want to increase the number of iterations. Duality gap: 123720042185.14175, tolerance: 77061903118.34062\n",
      "  model = cd_fast.sparse_enet_coordinate_descent(\n",
      "C:\\Users\\svawe\\anaconda3\\lib\\site-packages\\sklearn\\linear_model\\_coordinate_descent.py:513: ConvergenceWarning: Objective did not converge. You might want to increase the number of iterations. Duality gap: 93475780792.23358, tolerance: 72877351302.59369\n",
      "  model = cd_fast.sparse_enet_coordinate_descent(\n",
      "C:\\Users\\svawe\\anaconda3\\lib\\site-packages\\sklearn\\linear_model\\_coordinate_descent.py:513: ConvergenceWarning: Objective did not converge. You might want to increase the number of iterations. Duality gap: 123992299002.05005, tolerance: 77061903118.34062\n",
      "  model = cd_fast.sparse_enet_coordinate_descent(\n",
      "C:\\Users\\svawe\\anaconda3\\lib\\site-packages\\sklearn\\linear_model\\_coordinate_descent.py:513: ConvergenceWarning: Objective did not converge. You might want to increase the number of iterations. Duality gap: 84945989892.55563, tolerance: 72877351302.59369\n",
      "  model = cd_fast.sparse_enet_coordinate_descent(\n",
      "C:\\Users\\svawe\\anaconda3\\lib\\site-packages\\sklearn\\linear_model\\_coordinate_descent.py:513: ConvergenceWarning: Objective did not converge. You might want to increase the number of iterations. Duality gap: 115170694760.34433, tolerance: 77061903118.34062\n",
      "  model = cd_fast.sparse_enet_coordinate_descent(\n",
      "C:\\Users\\svawe\\anaconda3\\lib\\site-packages\\sklearn\\linear_model\\_coordinate_descent.py:513: ConvergenceWarning: Objective did not converge. You might want to increase the number of iterations. Duality gap: 85115794143.09665, tolerance: 72877351302.59369\n",
      "  model = cd_fast.sparse_enet_coordinate_descent(\n",
      "C:\\Users\\svawe\\anaconda3\\lib\\site-packages\\sklearn\\linear_model\\_coordinate_descent.py:513: ConvergenceWarning: Objective did not converge. You might want to increase the number of iterations. Duality gap: 114967666936.27847, tolerance: 77061903118.34062\n",
      "  model = cd_fast.sparse_enet_coordinate_descent(\n",
      "C:\\Users\\svawe\\anaconda3\\lib\\site-packages\\sklearn\\linear_model\\_coordinate_descent.py:513: ConvergenceWarning: Objective did not converge. You might want to increase the number of iterations. Duality gap: 85618280740.08118, tolerance: 72877351302.59369\n",
      "  model = cd_fast.sparse_enet_coordinate_descent(\n",
      "C:\\Users\\svawe\\anaconda3\\lib\\site-packages\\sklearn\\linear_model\\_coordinate_descent.py:513: ConvergenceWarning: Objective did not converge. You might want to increase the number of iterations. Duality gap: 115764545170.41559, tolerance: 77061903118.34062\n",
      "  model = cd_fast.sparse_enet_coordinate_descent(\n",
      "C:\\Users\\svawe\\anaconda3\\lib\\site-packages\\sklearn\\linear_model\\_coordinate_descent.py:513: ConvergenceWarning: Objective did not converge. You might want to increase the number of iterations. Duality gap: 77746218360.2023, tolerance: 72877351302.59369\n",
      "  model = cd_fast.sparse_enet_coordinate_descent(\n",
      "C:\\Users\\svawe\\anaconda3\\lib\\site-packages\\sklearn\\linear_model\\_coordinate_descent.py:513: ConvergenceWarning: Objective did not converge. You might want to increase the number of iterations. Duality gap: 108317321738.83878, tolerance: 77061903118.34062\n",
      "  model = cd_fast.sparse_enet_coordinate_descent(\n",
      "C:\\Users\\svawe\\anaconda3\\lib\\site-packages\\sklearn\\linear_model\\_coordinate_descent.py:513: ConvergenceWarning: Objective did not converge. You might want to increase the number of iterations. Duality gap: 77911927645.61853, tolerance: 72877351302.59369\n",
      "  model = cd_fast.sparse_enet_coordinate_descent(\n",
      "C:\\Users\\svawe\\anaconda3\\lib\\site-packages\\sklearn\\linear_model\\_coordinate_descent.py:513: ConvergenceWarning: Objective did not converge. You might want to increase the number of iterations. Duality gap: 108184875696.53973, tolerance: 77061903118.34062\n",
      "  model = cd_fast.sparse_enet_coordinate_descent(\n",
      "C:\\Users\\svawe\\anaconda3\\lib\\site-packages\\sklearn\\linear_model\\_coordinate_descent.py:513: ConvergenceWarning: Objective did not converge. You might want to increase the number of iterations. Duality gap: 78288245186.34906, tolerance: 72877351302.59369\n",
      "  model = cd_fast.sparse_enet_coordinate_descent(\n",
      "C:\\Users\\svawe\\anaconda3\\lib\\site-packages\\sklearn\\linear_model\\_coordinate_descent.py:513: ConvergenceWarning: Objective did not converge. You might want to increase the number of iterations. Duality gap: 108135151658.38596, tolerance: 77061903118.34062\n",
      "  model = cd_fast.sparse_enet_coordinate_descent(\n",
      "C:\\Users\\svawe\\anaconda3\\lib\\site-packages\\sklearn\\linear_model\\_coordinate_descent.py:513: ConvergenceWarning: Objective did not converge. You might want to increase the number of iterations. Duality gap: 101042924309.96002, tolerance: 77061903118.34062\n",
      "  model = cd_fast.sparse_enet_coordinate_descent(\n",
      "C:\\Users\\svawe\\anaconda3\\lib\\site-packages\\sklearn\\linear_model\\_coordinate_descent.py:513: ConvergenceWarning: Objective did not converge. You might want to increase the number of iterations. Duality gap: 100796487938.98035, tolerance: 77061903118.34062\n",
      "  model = cd_fast.sparse_enet_coordinate_descent(\n",
      "C:\\Users\\svawe\\anaconda3\\lib\\site-packages\\sklearn\\linear_model\\_coordinate_descent.py:513: ConvergenceWarning: Objective did not converge. You might want to increase the number of iterations. Duality gap: 100758074193.03265, tolerance: 77061903118.34062\n",
      "  model = cd_fast.sparse_enet_coordinate_descent(\n",
      "C:\\Users\\svawe\\anaconda3\\lib\\site-packages\\sklearn\\linear_model\\_coordinate_descent.py:513: ConvergenceWarning: Objective did not converge. You might want to increase the number of iterations. Duality gap: 94387025626.59442, tolerance: 77061903118.34062\n",
      "  model = cd_fast.sparse_enet_coordinate_descent(\n",
      "C:\\Users\\svawe\\anaconda3\\lib\\site-packages\\sklearn\\linear_model\\_coordinate_descent.py:513: ConvergenceWarning: Objective did not converge. You might want to increase the number of iterations. Duality gap: 94184409347.7692, tolerance: 77061903118.34062\n",
      "  model = cd_fast.sparse_enet_coordinate_descent(\n",
      "C:\\Users\\svawe\\anaconda3\\lib\\site-packages\\sklearn\\linear_model\\_coordinate_descent.py:513: ConvergenceWarning: Objective did not converge. You might want to increase the number of iterations. Duality gap: 94166347004.36734, tolerance: 77061903118.34062\n",
      "  model = cd_fast.sparse_enet_coordinate_descent(\n",
      "C:\\Users\\svawe\\anaconda3\\lib\\site-packages\\sklearn\\linear_model\\_coordinate_descent.py:513: ConvergenceWarning: Objective did not converge. You might want to increase the number of iterations. Duality gap: 90231182628.67725, tolerance: 77061903118.34062\n",
      "  model = cd_fast.sparse_enet_coordinate_descent(\n",
      "C:\\Users\\svawe\\anaconda3\\lib\\site-packages\\sklearn\\linear_model\\_coordinate_descent.py:513: ConvergenceWarning: Objective did not converge. You might want to increase the number of iterations. Duality gap: 90064611327.0415, tolerance: 77061903118.34062\n",
      "  model = cd_fast.sparse_enet_coordinate_descent(\n",
      "C:\\Users\\svawe\\anaconda3\\lib\\site-packages\\sklearn\\linear_model\\_coordinate_descent.py:513: ConvergenceWarning: Objective did not converge. You might want to increase the number of iterations. Duality gap: 90032995564.22766, tolerance: 77061903118.34062\n",
      "  model = cd_fast.sparse_enet_coordinate_descent(\n",
      "C:\\Users\\svawe\\anaconda3\\lib\\site-packages\\sklearn\\linear_model\\_coordinate_descent.py:513: ConvergenceWarning: Objective did not converge. You might want to increase the number of iterations. Duality gap: 84742413799.57281, tolerance: 77061903118.34062\n",
      "  model = cd_fast.sparse_enet_coordinate_descent(\n",
      "C:\\Users\\svawe\\anaconda3\\lib\\site-packages\\sklearn\\linear_model\\_coordinate_descent.py:513: ConvergenceWarning: Objective did not converge. You might want to increase the number of iterations. Duality gap: 84593008428.76187, tolerance: 77061903118.34062\n",
      "  model = cd_fast.sparse_enet_coordinate_descent(\n",
      "C:\\Users\\svawe\\anaconda3\\lib\\site-packages\\sklearn\\linear_model\\_coordinate_descent.py:513: ConvergenceWarning: Objective did not converge. You might want to increase the number of iterations. Duality gap: 84570850902.4515, tolerance: 77061903118.34062\n",
      "  model = cd_fast.sparse_enet_coordinate_descent(\n"
     ]
    },
    {
     "data": {
      "text/plain": [
       "GridSearchCV(cv=5,\n",
       "             estimator=Pipeline(steps=[('preprocessor',\n",
       "                                        ColumnTransformer(remainder='passthrough',\n",
       "                                                          transformers=[('num',\n",
       "                                                                         SimpleImputer(),\n",
       "                                                                         <sklearn.compose._column_transformer.make_column_selector object at 0x00000234C1E88DF0>),\n",
       "                                                                        ('cat',\n",
       "                                                                         OneHotEncoder(handle_unknown='ignore'),\n",
       "                                                                         <sklearn.compose._column_transformer.make_column_selector object at 0x00000234C1E88490>)])),\n",
       "                                       ('classifier',\n",
       "                                        ElasticNet(normalize=True,\n",
       "                                                   random_state=42,\n",
       "                                                   tol=0.01))]),\n",
       "             param_grid={'classifier__alpha': array([0.03 , 0.035, 0.04 , 0.045, 0.05 , 0.055, 0.06 , 0.065, 0.07 ]),\n",
       "                         'classifier__l1_ratio': array([0.98 , 0.985, 0.99 , 0.995, 1.   ]),\n",
       "                         'preprocessor__num__strategy': ['mean', 'median',\n",
       "                                                         'most_frequent']})"
      ]
     },
     "execution_count": 36,
     "metadata": {},
     "output_type": "execute_result"
    }
   ],
   "source": [
    "#retest with smaller steps nearby optimal solution\n",
    "clf = Pipeline(steps=[(\"preprocessor\", preprocessor), (\"classifier\", enet)])\n",
    "\n",
    "#Define lasso_parameters searched to optimize\n",
    "lasso_param = {\"classifier__alpha\":np.arange(0.03,0.07,0.005), \"classifier__l1_ratio\":np.arange(0.98,1.005,0.005), \"preprocessor__num__strategy\":[\"mean\",\"median\",\"most_frequent\"]}\n",
    "\n",
    "from sklearn.model_selection import GridSearchCV\n",
    "clf = GridSearchCV(clf, lasso_param, cv=5)\n",
    "\n",
    "clf.fit(X, y_train)"
   ]
  },
  {
   "cell_type": "code",
   "execution_count": 37,
   "metadata": {},
   "outputs": [
    {
     "data": {
      "text/plain": [
       "{'classifier__alpha': 0.04999999999999999,\n",
       " 'classifier__l1_ratio': 0.99,\n",
       " 'preprocessor__num__strategy': 'median'}"
      ]
     },
     "execution_count": 37,
     "metadata": {},
     "output_type": "execute_result"
    }
   ],
   "source": [
    "clf.best_params_"
   ]
  },
  {
   "cell_type": "code",
   "execution_count": 22,
   "metadata": {},
   "outputs": [],
   "source": [
    "#prepare x_train\n",
    "categories_test = X_test.select_dtypes(include=['object'])\n",
    "cats_test = categories_test.drop(columns = \"Electrical\").fillna(\"None\")\n",
    "elec_test = pd.DataFrame(categories_test.Electrical.fillna(\"Sbrkr\"))\n",
    "rest_test = X_test.select_dtypes(exclude=['object'])\n",
    "X_test_new = pd.concat([cats_test, elec_test, rest_test], axis = 1) "
   ]
  },
  {
   "cell_type": "code",
   "execution_count": 23,
   "metadata": {},
   "outputs": [],
   "source": [
    "#create the model for final prediction based upon best params\n",
    "enc2 = OneHotEncoder(handle_unknown='ignore')\n",
    "imp2 = SimpleImputer(missing_values = np.nan, strategy = \"median\")\n",
    "preprocessor2 = ColumnTransformer(transformers =[(\"num\", imp2, num_cols),(\"cat\", enc2, cat_cols)], remainder = \"passthrough\")\n",
    "enet2 = ElasticNet(alpha = 0.04999999999999999, l1_ratio=0.99 ,tol = 1e-2, random_state = 42, normalize = True)\n",
    "model = Pipeline(steps=[(\"preprocessor\", preprocessor2), (\"classifier\", enet2)])\n",
    "model.fit(X, y_train)\n",
    "\n",
    "# calculating the prediction \n",
    "y_pred = model.predict(X_test_new)"
   ]
  },
  {
   "cell_type": "code",
   "execution_count": 33,
   "metadata": {},
   "outputs": [
    {
     "name": "stdout",
     "output_type": "stream",
     "text": [
      "          SalePrice\n",
      "1461  113019.284058\n",
      "1462  158446.670992\n",
      "1463  185306.250794\n",
      "1464  201183.925089\n",
      "1465  196780.283603\n",
      "...             ...\n",
      "2915   77316.367122\n",
      "2916   81327.966936\n",
      "2917  170619.734951\n",
      "2918  111596.296735\n",
      "2919  219968.944023\n",
      "\n",
      "[1459 rows x 1 columns]\n"
     ]
    }
   ],
   "source": [
    "pred_df = pd.DataFrame(y_pred, index=df_test.index, columns=[\"SalePrice\"])\n",
    "pred_df.index += 1461\n",
    "pred_df.to_csv(r\"C:\\Users\\svawe\\OneDrive\\Desktop\\Master\\DataScience_01\\kaggle_datahousing.csv\", header=True, index_label='Id')\n",
    "print(pred_df)"
   ]
  }
 ],
 "metadata": {
  "hide_input": false,
  "kernelspec": {
   "display_name": "Python 3 (ipykernel)",
   "language": "python",
   "name": "python3"
  },
  "language_info": {
   "codemirror_mode": {
    "name": "ipython",
    "version": 3
   },
   "file_extension": ".py",
   "mimetype": "text/x-python",
   "name": "python",
   "nbconvert_exporter": "python",
   "pygments_lexer": "ipython3",
   "version": "3.9.7"
  },
  "varInspector": {
   "cols": {
    "lenName": 16,
    "lenType": 16,
    "lenVar": 40
   },
   "kernels_config": {
    "python": {
     "delete_cmd_postfix": "",
     "delete_cmd_prefix": "del ",
     "library": "var_list.py",
     "varRefreshCmd": "print(var_dic_list())"
    },
    "r": {
     "delete_cmd_postfix": ") ",
     "delete_cmd_prefix": "rm(",
     "library": "var_list.r",
     "varRefreshCmd": "cat(var_dic_list()) "
    }
   },
   "types_to_exclude": [
    "module",
    "function",
    "builtin_function_or_method",
    "instance",
    "_Feature"
   ],
   "window_display": false
  }
 },
 "nbformat": 4,
 "nbformat_minor": 4
}
